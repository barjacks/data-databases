{
 "cells": [
  {
   "cell_type": "markdown",
   "metadata": {},
   "source": [
    "# Homework 6: Web Applications"
   ]
  },
  {
   "cell_type": "markdown",
   "metadata": {},
   "source": [
    "### Problem set 1: A list of lakes"
   ]
  },
  {
   "cell_type": "code",
   "execution_count": 17,
   "metadata": {
    "collapsed": false
   },
   "outputs": [
    {
     "ename": "IndentationError",
     "evalue": "expected an indented block (<ipython-input-17-3d3954efc70c>, line 57)",
     "output_type": "error",
     "traceback": [
      "\u001b[0;36m  File \u001b[0;32m\"<ipython-input-17-3d3954efc70c>\"\u001b[0;36m, line \u001b[0;32m57\u001b[0m\n\u001b[0;31m    else:\u001b[0m\n\u001b[0m       ^\u001b[0m\n\u001b[0;31mIndentationError\u001b[0m\u001b[0;31m:\u001b[0m expected an indented block\n"
     ]
    }
   ],
   "source": [
    "from flask import Flask, jsonify, request\n",
    "import pg8000\n",
    "\n",
    "app = Flask(__name__)\n",
    "conn = pg8000.connect(user='barneyjs', database=\"mondial\")\n",
    "\n",
    "#Creating a function to change values into ints, skipping the Nones\n",
    "def int_(x):\n",
    "    if x is None:\n",
    "        return None\n",
    "    else:\n",
    "        return int(x)\n",
    "    \n",
    "#Creating a function to change values into strs, skipping the Nones\n",
    "def str_(x):\n",
    "    if x is None:\n",
    "        return None\n",
    "    else:\n",
    "        return str(x)\n",
    "\n",
    "@app.route('/lakes')\n",
    "def get_lakes():\n",
    "    cursor = conn.cursor()\n",
    "    #ORDER BY NAME, ORDER BY AREA, ORDER BY ELEVATION\n",
    "    #order_by = 'ORDER BY name'\n",
    "    #print(order_by)\n",
    "    \n",
    "    #Getting the variable for the sorting\n",
    "    #print(get_variable)\n",
    "    get_variable = request.args.get('sort', '')\n",
    "    #print(get_variable) for debugging\n",
    "    if get_variable == 'name':\n",
    "        order_by = 'ORDER BY name'\n",
    "        #print(order_by) for debugging\n",
    "    elif get_variable == 'elevation':\n",
    "        order_by = 'ORDER BY elevation DESC'\n",
    "    elif get_variable == 'area':\n",
    "        order_by = 'ORDER BY area DESC'\n",
    "    else:\n",
    "        order_by = 'ORDER BY name'\n",
    "    \n",
    "    #Getting the variable for the type filtering\n",
    "    #SQL statement = 'SELECT name, elevation, area, type FROM lake ' + order_by + ' WHERE type=salt'\n",
    "    #print(get_variable)\n",
    "    gt_typ = request.args.get('type', '')\n",
    "    sql = ('SELECT name, elevation, area, type FROM lake WHERE type=%s ')\n",
    "    if gt_typ == 'salt':\n",
    "        get_type = 'salt'\n",
    "        cursor.execute(sql + order_by, [get_type])\n",
    "    elif gt_typ == 'dam':\n",
    "        get_type = 'dam'\n",
    "        cursor.execute(sql + order_by, [get_type])\n",
    "    elif gt_typ == 'caldera':\n",
    "        get_type = 'caldera'\n",
    "        cursor.execute(sql + order_by, [get_type])\n",
    "    else:\n",
    "        cursor.execute('SELECT name, elevation, area, type FROM lake ' + order_by)\n",
    "        print(cursor.execute)\n",
    "    \n",
    "    #cursor.execute('SELECT name, elevation, area, type FROM lake WHERE type=%s ' + order_by, [get_type]) \n",
    "    \n",
    "    output = []\n",
    "    for item in cursor.fetchall():\n",
    "        output.append({'name': item[0], 'elevation': int_(item[1]), 'area': int_(item[2]), 'type': str_(item[3])})                  \n",
    "    return jsonify(output)\n",
    "\n",
    "app.run()\n",
    "#http://localhost:5000/lakes"
   ]
  },
  {
   "cell_type": "code",
   "execution_count": null,
   "metadata": {
    "collapsed": true
   },
   "outputs": [],
   "source": []
  },
  {
   "cell_type": "code",
   "execution_count": null,
   "metadata": {
    "collapsed": true
   },
   "outputs": [],
   "source": []
  },
  {
   "cell_type": "code",
   "execution_count": null,
   "metadata": {
    "collapsed": true
   },
   "outputs": [],
   "source": []
  },
  {
   "cell_type": "code",
   "execution_count": null,
   "metadata": {
    "collapsed": true
   },
   "outputs": [],
   "source": []
  },
  {
   "cell_type": "code",
   "execution_count": 126,
   "metadata": {
    "collapsed": false
   },
   "outputs": [
    {
     "name": "stdout",
     "output_type": "stream",
     "text": [
      "<bound method Cursor.execute of <pg8000.core.Cursor object at 0x10231e9b0>>\n"
     ]
    }
   ],
   "source": [
    "from flask import Flask, jsonify, request\n",
    "import pg8000\n",
    "\n",
    "app = Flask(__name__)\n",
    "conn = pg8000.connect(user='barneyjs', database=\"mondial\")\n",
    "\n",
    "#Creating a function to change values into ints, skipping the Nones\n",
    "def int_(x):\n",
    "    if x is None:\n",
    "        return None\n",
    "    else:\n",
    "        return int(x)\n",
    "    \n",
    "#Creating a function to change values into strs, skipping the Nones\n",
    "def str_(x):\n",
    "    if x is None:\n",
    "        return None\n",
    "    else:\n",
    "        return str(x)\n",
    "    \n",
    "@app.route(\"/lakes\")\n",
    "def get_lakes():\n",
    "    cursor = conn.cursor()\n",
    "    get_variable = request.args.get('sort', '')\n",
    "    #print(get_variable) for debugging\n",
    "    if get_variable == 'name':\n",
    "        order_by = 'ORDER BY name'\n",
    "        #print(order_by) for debugging\n",
    "    elif get_variable == 'elevation':\n",
    "        order_by = 'ORDER BY elevation DESC'\n",
    "    elif get_variable == 'area':\n",
    "        order_by = 'ORDER BY area DESC'\n",
    "    else:\n",
    "        order_by = 'ORDER BY name'\n",
    "    cursor.execute('SELECT name, elevation, area, type FROM lake ' + order_by) \n",
    "    output = []\n",
    "    for item in cursor.fetchall():\n",
    "        output.append({'name': item[0], 'elevation': int_(item[1]), 'area': int_(item[2]), 'type': str_(item[3])})                  \n",
    "    return jsonify(output)\n",
    "\n",
    "app.run()\n",
    "#http://localhost:5000/lakes"
   ]
  },
  {
   "cell_type": "code",
   "execution_count": null,
   "metadata": {
    "collapsed": true
   },
   "outputs": [],
   "source": []
  },
  {
   "cell_type": "code",
   "execution_count": null,
   "metadata": {
    "collapsed": true
   },
   "outputs": [],
   "source": []
  },
  {
   "cell_type": "code",
   "execution_count": null,
   "metadata": {
    "collapsed": true
   },
   "outputs": [],
   "source": []
  },
  {
   "cell_type": "code",
   "execution_count": null,
   "metadata": {
    "collapsed": true
   },
   "outputs": [],
   "source": []
  },
  {
   "cell_type": "code",
   "execution_count": null,
   "metadata": {
    "collapsed": true
   },
   "outputs": [],
   "source": []
  },
  {
   "cell_type": "code",
   "execution_count": null,
   "metadata": {
    "collapsed": true
   },
   "outputs": [],
   "source": []
  },
  {
   "cell_type": "code",
   "execution_count": null,
   "metadata": {
    "collapsed": true
   },
   "outputs": [],
   "source": []
  },
  {
   "cell_type": "code",
   "execution_count": 104,
   "metadata": {
    "collapsed": false
   },
   "outputs": [],
   "source": [
    "from flask import Flask, jsonify, request\n",
    "import pg8000\n",
    "\n",
    "app = Flask(__name__)\n",
    "conn = pg8000.connect(user='barneyjs', database=\"mondial\")\n",
    "\n",
    "#Creating a function to change values into ints, skipping the Nones\n",
    "def int_(x):\n",
    "    if x is None:\n",
    "        return None\n",
    "    else:\n",
    "        return int(x)\n",
    "    \n",
    "#Creating a function to change values into strs, skipping the Nones\n",
    "def str_(x):\n",
    "    if x is None:\n",
    "        return None\n",
    "    else:\n",
    "        return str(x)\n",
    "\n",
    "@app.route('/lakes')\n",
    "def get_lakes():\n",
    "    cursor = conn.cursor()\n",
    "    #ORDER BY NAME, ORDER BY AREA, ORDER BY ELEVATION\n",
    "    #order_by = 'ORDER BY name'\n",
    "    #print(order_by)\n",
    "    get_variable = request.args.get('sortby', None)\n",
    "    \n",
    "    #Getting the variable for the sorting\n",
    "    #print(get_variable)\n",
    "    if get_variable == 'name':\n",
    "        order_by = 'ORDER BY name'\n",
    "        print(order_by)\n",
    "    elif get_variable == 'elevation':\n",
    "        order_by = 'ORDER BY elevation'\n",
    "    elif get_variable == 'area':\n",
    "        order_by = 'ORDER BY area'\n",
    "    elif get_variable == 'type':\n",
    "        order_by = 'ORDER BY type'\n",
    "    else:\n",
    "        order_by = ''\n",
    "        \n",
    "    cursor.execute('SELECT name, elevation, area, type FROM lake ' + order_by ) \n",
    "    output = []\n",
    "    for item in cursor.fetchall():\n",
    "        output.append({'name': item[0], 'elevation': int_(item[1]), 'area': int_(item[2]), 'type': str_(item[3])})                  \n",
    "    return jsonify(output)\n",
    "\n",
    "app.run()\n",
    "#http://localhost:5000/lakes"
   ]
  },
  {
   "cell_type": "code",
   "execution_count": 106,
   "metadata": {
    "collapsed": false
   },
   "outputs": [],
   "source": [
    "from flask import Flask, jsonify, request\n",
    "import pg8000\n",
    "\n",
    "app = Flask(__name__)\n",
    "conn = pg8000.connect(user='barneyjs', database=\"mondial\")\n",
    "\n",
    "#Creating a function to change values into ints, skipping the Nones\n",
    "def int_(x):\n",
    "    if x is None:\n",
    "        return None\n",
    "    else:\n",
    "        return int(x)\n",
    "    \n",
    "#Creating a function to change values into strs, skipping the Nones\n",
    "def str_(x):\n",
    "    if x is None:\n",
    "        return None\n",
    "    else:\n",
    "        return str(x)\n",
    "\n",
    "@app.route('/lakes')\n",
    "def get_lakes():\n",
    "    cursor = conn.cursor()\n",
    "    #Getting the variable for the type filtering\n",
    "    #SQL statement = 'SELECT name, elevation, area, type FROM lake ' + order_by + ' WHERE type=salt'\n",
    "    #print(get_variable)\n",
    "    \n",
    "    #get_type = 'salt'\n",
    "    \n",
    "    gt_typ = request.args.get('type', None)\n",
    "    #print(gt_typ)\n",
    "    if gt_typ == 'salt':\n",
    "        get_type = 'salt'\n",
    "    elif gt_typ == 'dam':\n",
    "        get_type = 'dam'\n",
    "    else:\n",
    "        get_type = ''\n",
    "        \n",
    "    cursor.execute('SELECT name, elevation, area, type FROM lake WHERE type=%s ORDER BY name', [get_type]) \n",
    "    output = []\n",
    "    for item in cursor.fetchall():\n",
    "        output.append({'name': item[0], 'elevation': int_(item[1]), 'area': int_(item[2]), 'type': str_(item[3])})                  \n",
    "    return jsonify(output)\n",
    "\n",
    "app.run()"
   ]
  },
  {
   "cell_type": "code",
   "execution_count": null,
   "metadata": {
    "collapsed": true
   },
   "outputs": [],
   "source": []
  },
  {
   "cell_type": "code",
   "execution_count": null,
   "metadata": {
    "collapsed": true
   },
   "outputs": [],
   "source": []
  },
  {
   "cell_type": "code",
   "execution_count": null,
   "metadata": {
    "collapsed": true
   },
   "outputs": [],
   "source": []
  },
  {
   "cell_type": "code",
   "execution_count": null,
   "metadata": {
    "collapsed": true
   },
   "outputs": [],
   "source": []
  },
  {
   "cell_type": "code",
   "execution_count": null,
   "metadata": {
    "collapsed": true
   },
   "outputs": [],
   "source": []
  },
  {
   "cell_type": "code",
   "execution_count": 57,
   "metadata": {
    "collapsed": false
   },
   "outputs": [],
   "source": [
    "from flask import Flask, jsonify, request\n",
    "import pg8000\n",
    "\n",
    "app = Flask(__name__)\n",
    "conn = pg8000.connect(user='barneyjs', database=\"mondial\")\n",
    "\n",
    "#Creating a function to change values into ints, skipping the Nones\n",
    "def int_(x):\n",
    "    if x is None:\n",
    "        return None\n",
    "    else:\n",
    "        return int(x)\n",
    "    \n",
    "#Creating a function to change values into strs, skipping the Nones\n",
    "def str_(x):\n",
    "    if x is None:\n",
    "        return None\n",
    "    else:\n",
    "        return str(x)\n",
    "\n",
    "@app.route(\"/lakes\")\n",
    "def get_lakes():\n",
    "    cursor = conn.cursor()\n",
    "    cursor.execute('SELECT name, elevation, area, type FROM lake')\n",
    "    output = []\n",
    "    for item in cursor.fetchall():\n",
    "        output.append({'name': item[0], 'elevation': int_(item[1]), 'area': int_(item[2]), 'type': str_(item[3])})                  \n",
    "    return jsonify(output)\n",
    "\n",
    "app.run()\n",
    "#http://localhost:5000/lakes"
   ]
  },
  {
   "cell_type": "code",
   "execution_count": 76,
   "metadata": {
    "collapsed": false
   },
   "outputs": [
    {
     "ename": "SyntaxError",
     "evalue": "invalid syntax (<ipython-input-76-dcb81481f028>, line 1)",
     "output_type": "error",
     "traceback": [
      "\u001b[0;36m  File \u001b[0;32m\"<ipython-input-76-dcb81481f028>\"\u001b[0;36m, line \u001b[0;32m1\u001b[0m\n\u001b[0;31m    ORDER BY name\u001b[0m\n\u001b[0m           ^\u001b[0m\n\u001b[0;31mSyntaxError\u001b[0m\u001b[0;31m:\u001b[0m invalid syntax\n"
     ]
    }
   ],
   "source": [
    "ORDER BY name\n",
    "ORDER BY elevation\n",
    "ORDER BY area"
   ]
  },
  {
   "cell_type": "code",
   "execution_count": null,
   "metadata": {
    "collapsed": true
   },
   "outputs": [],
   "source": []
  },
  {
   "cell_type": "code",
   "execution_count": null,
   "metadata": {
    "collapsed": true
   },
   "outputs": [],
   "source": []
  },
  {
   "cell_type": "code",
   "execution_count": null,
   "metadata": {
    "collapsed": true
   },
   "outputs": [],
   "source": []
  },
  {
   "cell_type": "code",
   "execution_count": null,
   "metadata": {
    "collapsed": true
   },
   "outputs": [],
   "source": []
  },
  {
   "cell_type": "code",
   "execution_count": 53,
   "metadata": {
    "collapsed": true
   },
   "outputs": [],
   "source": [
    "from flask import Flask, jsonify, request\n",
    "import pg8000\n",
    "\n",
    "app = Flask(__name__)\n",
    "conn = pg8000.connect(user='barneyjs', database=\"mondial\")\n",
    "\n",
    "#Creating a function to change values into ints, skipping the Nones\n",
    "def int_(x):\n",
    "    if x is None:\n",
    "        return None\n",
    "    else:\n",
    "        return int(x)\n",
    "    \n",
    "#Creating a function to change values into strs, skipping the Nones\n",
    "def str_(x):\n",
    "    if x is None:\n",
    "        return None\n",
    "    else:\n",
    "        return str(x)\n",
    "\n",
    "def get_lakes():\n",
    "    type_ = request.args.get('type', None)\n",
    "    if 'type' in request.args:\n",
    "        cursor = conn.cursor()\n",
    "        cursor.execute('SELECT name, elevation, area, type FROM lake WHERE type=%s', type_)\n",
    "    output = []\n",
    "    for item in cursor.fetchall():\n",
    "        output.append({'name': item[0], 'elevation': int_(item[1]), 'area': int_(item[2]), 'type': str_(item[3])})                  \n",
    "    return jsonify(output)\n",
    "    \n",
    "    \n",
    "    \n",
    "    \n",
    "    \n",
    "app.run()    "
   ]
  },
  {
   "cell_type": "code",
   "execution_count": null,
   "metadata": {
    "collapsed": true
   },
   "outputs": [],
   "source": []
  },
  {
   "cell_type": "code",
   "execution_count": null,
   "metadata": {
    "collapsed": true
   },
   "outputs": [],
   "source": []
  },
  {
   "cell_type": "code",
   "execution_count": 29,
   "metadata": {
    "collapsed": false
   },
   "outputs": [
    {
     "name": "stderr",
     "output_type": "stream",
     "text": [
      "[2016-07-01 09:10:31,153] ERROR in app: Exception on /lakes [GET]\n",
      "Traceback (most recent call last):\n",
      "  File \"/usr/local/lib/python3.5/site-packages/flask/app.py\", line 1988, in wsgi_app\n",
      "    response = self.full_dispatch_request()\n",
      "  File \"/usr/local/lib/python3.5/site-packages/flask/app.py\", line 1641, in full_dispatch_request\n",
      "    rv = self.handle_user_exception(e)\n",
      "  File \"/usr/local/lib/python3.5/site-packages/flask/app.py\", line 1544, in handle_user_exception\n",
      "    reraise(exc_type, exc_value, tb)\n",
      "  File \"/usr/local/lib/python3.5/site-packages/flask/_compat.py\", line 33, in reraise\n",
      "    raise value\n",
      "  File \"/usr/local/lib/python3.5/site-packages/flask/app.py\", line 1639, in full_dispatch_request\n",
      "    rv = self.dispatch_request()\n",
      "  File \"/usr/local/lib/python3.5/site-packages/flask/app.py\", line 1625, in dispatch_request\n",
      "    return self.view_functions[rule.endpoint](**req.view_args)\n",
      "TypeError: get_lakes() missing 1 required positional argument: '_sort'\n"
     ]
    }
   ],
   "source": [
    "from flask import Flask, jsonify, request\n",
    "import pg8000\n",
    "\n",
    "app = Flask(__name__)\n",
    "conn = pg8000.connect(database=\"mondial\")\n",
    "\n",
    "#Creating a function to change values into ints, skipping the Nones\n",
    "def int_(x):\n",
    "    if x is None:\n",
    "        return None\n",
    "    else:\n",
    "        return int(x)\n",
    "    \n",
    "#Creating a function to change values into strs, skipping the Nones\n",
    "def str_(x):\n",
    "    if x is None:\n",
    "        return None\n",
    "    else:\n",
    "        return str(x)\n",
    "    \n",
    "#    ty_gt = request.args.get('type_gt', 'salt')\n",
    "#        cursor.execute('SELECT name, elevation, area, type FROM lake WHERE type=%s', [ty_gt])\n",
    "\n",
    "@app.route(\"/lakes\")\n",
    "def get_lakes(_sort):\n",
    "    cursor = conn.cursor()\n",
    "    \n",
    "    sort_result = ''\n",
    "    if _sort == 'name':\n",
    "        sort_result = 'ORDER BY name'\n",
    "    elif _sort == 'elevation':\n",
    "        sort_result = 'ORDER BY elevation'\n",
    "    \n",
    "    cursor.execute('SELECT name, elevation, area FROM lake' + sort_result)\n",
    " \n",
    "    output = []\n",
    "    for item in cursor.fetchall():\n",
    "        output.append({'name': item[0], 'elevation': int_(item[1]), 'area': int_(item[2]), 'type': str_(item[3])})                  \n",
    "    return jsonify(output)\n",
    "\n",
    "app.run()\n",
    "#http://localhost:5000/lakes"
   ]
  },
  {
   "cell_type": "markdown",
   "metadata": {},
   "source": [
    "### Problem set #2: Lakes of a certain type"
   ]
  },
  {
   "cell_type": "code",
   "execution_count": 39,
   "metadata": {
    "collapsed": false
   },
   "outputs": [],
   "source": [
    "from flask import Flask, jsonify, request\n",
    "import pg8000\n",
    "\n",
    "app = Flask(__name__)\n",
    "conn = pg8000.connect(user='barneyjs, database=\"mondial\")\n",
    "\n",
    "#Creating a function to change values into ints, skipping the Nones\n",
    "def int_(x):\n",
    "    if x is None:\n",
    "        return None\n",
    "    else:\n",
    "        return int(x)\n",
    "    \n",
    "#Creating a function to change values into strs, skipping the Nones\n",
    "def str_(x):\n",
    "    if x is None:\n",
    "        return None\n",
    "    else:\n",
    "        return str(x)\n",
    "    \n",
    "@app.route(\"/lakes\")\n",
    "def get_lakes():\n",
    "    cursor = conn.cursor()\n",
    "    sort_by = request.args.get('sort_by', 'name')\n",
    "    ty_gt = request.args.get('type_gt', 'salt')\n",
    "    if sort_by == 'name':\n",
    "        sort_string = 'ORDER BY name'\n",
    "                      \n",
    "    else:\n",
    "        sort_string = 'ORDER BY ' + sort_by + ' DESC'\n",
    "    cursor.execute('SELECT name, elevation, area, type FROM lake WHERE type=%s' + sort_string, [ty_gt])\n",
    "    output = []\n",
    "    for item in cursor.fetchall():\n",
    "        output.append({'name': item[0], 'elevation': int_(item[1]), 'area': int_(item[2]), 'type': str_(item[3])})                  \n",
    "    return jsonify(output)\n",
    "\n",
    "app.run()\n",
    "#http://localhost:5000/lakes"
   ]
  },
  {
   "cell_type": "markdown",
   "metadata": {},
   "source": [
    "### Problem set #3: Lakes in order"
   ]
  },
  {
   "cell_type": "code",
   "execution_count": 27,
   "metadata": {
    "collapsed": false
   },
   "outputs": [],
   "source": [
    "from flask import Flask, jsonify, request\n",
    "import pg8000\n",
    "\n",
    "app = Flask(__name__)\n",
    "conn = pg8000.connect(database=\"mondial\")\n",
    "\n",
    "#Creating a function to change values into ints, skipping the Nones\n",
    "def int_(x):\n",
    "    if x is None:\n",
    "        return None\n",
    "    else:\n",
    "        return int(x)\n",
    "    \n",
    "#Creating a function to change values into strs, skipping the Nones\n",
    "def str_(x):\n",
    "    if x is None:\n",
    "        return None\n",
    "    else:\n",
    "        return str(x)\n",
    "    \n",
    "@app.route(\"/lakes\")\n",
    "def get_lakes():\n",
    "    cursor = conn.cursor()\n",
    "    cursor.execute('SELECT name, elevation, area, type FROM lake ORDER BY elevation')\n",
    "    output = []\n",
    "    for item in cursor.fetchall():\n",
    "        output.append({'name': item[0], 'elevation': int_(item[1]), 'area': int_(item[2]), 'type': str_(item[3])})                  \n",
    "    return jsonify(output)\n",
    "\n",
    "app.run()\n",
    "#http://localhost:5000/lakes"
   ]
  },
  {
   "cell_type": "markdown",
   "metadata": {},
   "source": [
    "## Problem set 4: Order and type\n",
    "The following code prints the names of the largest caldera lakes, ordered in reverse order by area"
   ]
  },
  {
   "cell_type": "code",
   "execution_count": 4,
   "metadata": {
    "collapsed": false
   },
   "outputs": [],
   "source": [
    "from flask import Flask, jsonify, request\n",
    "import pg8000\n",
    "\n",
    "app = Flask(__name__)\n",
    "conn = pg8000.connect(database=\"mondial\")\n",
    "\n",
    "#Creating a function to change values into ints, skipping the Nones\n",
    "def int_(x):\n",
    "    if x is None:\n",
    "        return None\n",
    "    else:\n",
    "        return int(x)\n",
    "    \n",
    "#Creating a function to change values into strs, skipping the Nones\n",
    "def str_(x):\n",
    "    if x is None:\n",
    "        return None\n",
    "    else:\n",
    "        return str(x)\n",
    "    \n",
    "@app.route(\"/lakes\")\n",
    "def get_lakes():\n",
    "    cursor = conn.cursor()\n",
    "    ty2_gt = request.args.get('type_gt', 'caldera')\n",
    "    cursor.execute('SELECT name, elevation, area, type FROM lake WHERE type=%s ORDER BY area DESC', [ty2_gt])\n",
    "    output = []\n",
    "    for item in cursor.fetchall():\n",
    "        output.append({'name': item[0], 'elevation': int_(item[1]), 'area': int_(item[2]), 'type': str_(item[3])})                  \n",
    "    return jsonify(output)\n",
    "\n",
    "app.run()\n",
    "#http://localhost:5000/lakes"
   ]
  },
  {
   "cell_type": "code",
   "execution_count": null,
   "metadata": {
    "collapsed": true
   },
   "outputs": [],
   "source": []
  }
 ],
 "metadata": {
  "kernelspec": {
   "display_name": "Python 3",
   "language": "python",
   "name": "python3"
  },
  "language_info": {
   "codemirror_mode": {
    "name": "ipython",
    "version": 3
   },
   "file_extension": ".py",
   "mimetype": "text/x-python",
   "name": "python",
   "nbconvert_exporter": "python",
   "pygments_lexer": "ipython3",
   "version": "3.5.1"
  }
 },
 "nbformat": 4,
 "nbformat_minor": 0
}
