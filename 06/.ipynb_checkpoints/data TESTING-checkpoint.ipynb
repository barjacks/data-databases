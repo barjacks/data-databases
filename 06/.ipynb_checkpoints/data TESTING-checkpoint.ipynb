{
 "cells": [
  {
   "cell_type": "code",
   "execution_count": null,
   "metadata": {
    "collapsed": true
   },
   "outputs": [],
   "source": [
    "#Pulling out the name"
   ]
  },
  {
   "cell_type": "code",
   "execution_count": 50,
   "metadata": {
    "collapsed": false
   },
   "outputs": [],
   "source": [
    "from flask import Flask, jsonify, request\n",
    "import pg8000\n",
    "\n",
    "app = Flask(__name__)\n",
    "conn = pg8000.connect(database=\"mondial\")\n",
    "\n",
    "@app.route(\"/lakes\")\n",
    "def get_lakes():\n",
    "    cursor = conn.cursor()\n",
    "    cursor.execute('SELECT name FROM lake')\n",
    "    output = []\n",
    "    for item in cursor.fetchall():\n",
    "        output.append({'name': item[0]})\n",
    "    return jsonify(output)\n",
    "\n",
    "app.run()\n",
    "#http://localhost:5000/lakes"
   ]
  },
  {
   "cell_type": "code",
   "execution_count": null,
   "metadata": {
    "collapsed": true
   },
   "outputs": [],
   "source": [
    "#Adding elevation"
   ]
  },
  {
   "cell_type": "code",
   "execution_count": 51,
   "metadata": {
    "collapsed": false
   },
   "outputs": [
    {
     "name": "stdout",
     "output_type": "stream",
     "text": [
      "['Inari', Decimal('119')]\n",
      "['Oulujaervi', Decimal('123')]\n",
      "['Kallavesi', None]\n",
      "['Saimaa', Decimal('76')]\n",
      "['Paeijaenne', Decimal('78')]\n",
      "['Mjoesa-See', Decimal('123')]\n",
      "['Storuman', Decimal('419')]\n",
      "['Siljan', Decimal('161')]\n",
      "['Maelaren', Decimal('0.7')]\n",
      "['Vaenern', Decimal('44')]\n",
      "['Vaettern', Decimal('88')]\n",
      "['Arresoe', None]\n",
      "['Loch Ness', Decimal('16')]\n",
      "['Loch Lomond', Decimal('7.9')]\n",
      "['Bodensee', Decimal('395')]\n",
      "['Chiemsee', Decimal('518')]\n",
      "['Starnberger See', Decimal('584')]\n",
      "['Ammersee', Decimal('533')]\n",
      "['Laacher Maar', Decimal('275')]\n",
      "['Lac Leman', Decimal('372')]\n",
      "['Zurichsee', Decimal('406')]\n",
      "['Thunersee', Decimal('558')]\n",
      "['Brienzersee', Decimal('564')]\n",
      "['Vierwaldstattersee', Decimal('434')]\n",
      "['Lago Maggiore', Decimal('193')]\n",
      "['Lago di Como', Decimal('197')]\n",
      "['Lago di Garda', Decimal('65')]\n",
      "['Lago Trasimeno', Decimal('259')]\n",
      "['Lago di Bolsena', Decimal('335')]\n",
      "['Lago di Bracciano', Decimal('164')]\n",
      "['Laguna de Gallocanta', Decimal('995')]\n",
      "['Neusiedlersee', Decimal('115.5')]\n",
      "['Balaton', Decimal('104')]\n",
      "['Lake Skutari', Decimal('7')]\n",
      "['Lake Prespa', Decimal('849')]\n",
      "['Lake Ohrid', Decimal('695')]\n",
      "['Kiev Reservoir', None]\n",
      "['Kakhovka Reservoir', Decimal('44')]\n",
      "['Kremenchuk Reservoir', Decimal('44')]\n",
      "['Kuybyshev Reservoir', Decimal('53')]\n",
      "['Ozero Ladoga', Decimal('4')]\n",
      "['Ozero Onega', Decimal('33')]\n",
      "['Ozero Pskovskoje', Decimal('30')]\n",
      "['Ozero Baikal', Decimal('455')]\n",
      "['Ozero Taimyr', Decimal('5')]\n",
      "['Ozero Chanka', None]\n",
      "['Ozero Tschany', Decimal('10')]\n",
      "['Dead Sea', Decimal('-422')]\n",
      "['Lake Genezareth', Decimal('-212')]\n",
      "['Lake Van', Decimal('1719')]\n",
      "['Lake Keban', None]\n",
      "['Lake Urmia', Decimal('1280')]\n",
      "['Daryacheh ye Namak', Decimal('790')]\n",
      "['Hamun e Jaz Murian', Decimal('500')]\n",
      "['Caspian Sea', Decimal('-28')]\n",
      "['Ozero Aral', Decimal('31')]\n",
      "['Ozero Balchash', Decimal('342')]\n",
      "['Issyk-Kul', Decimal('1609')]\n",
      "['Koli Sarez', Decimal('3250')]\n",
      "['Lop Nor', Decimal('780')]\n",
      "['Laguna de Bay', None]\n",
      "['Lake Toba', Decimal('905')]\n",
      "['Segara Anak', Decimal('2008')]\n",
      "['Qinghai Lake', Decimal('3195')]\n",
      "['Nam Co', Decimal('4718')]\n",
      "['Lake Nasser', Decimal('183')]\n",
      "['Lake Volta', None]\n",
      "['Lake Bosumtwi', Decimal('107')]\n",
      "['Lake Kainji', None]\n",
      "['Chad Lake', Decimal('250')]\n",
      "['Barrage de Mbakaou', None]\n",
      "['Lake Nyos', None]\n",
      "['Lac Assal', Decimal('-155')]\n",
      "['Lake Abbe', Decimal('243')]\n",
      "['Lake Abaya', Decimal('619')]\n",
      "['Chew Bahir', Decimal('520')]\n",
      "['Lake Turkana', Decimal('375')]\n",
      "['Lake Tana', Decimal('1830')]\n",
      "['Lake Sese Seko/Albertsee', Decimal('619')]\n",
      "['Rutanzige/Eduardsee', Decimal('920')]\n",
      "['Lake Kioga', Decimal('914')]\n",
      "['Lake Victoria', Decimal('1134')]\n",
      "['Lake Kivu', Decimal('1462')]\n",
      "['Lake Tanganjika', Decimal('782')]\n",
      "['Lake Mweru', Decimal('931')]\n",
      "['Lake Bangweulu', Decimal('1140')]\n",
      "['Lake Rukwa', Decimal('800')]\n",
      "['Lake Eyasi', Decimal('1030')]\n",
      "['Lake Natron', Decimal('600')]\n",
      "['Lake Malawi', Decimal('474')]\n",
      "['Lake Chilwa', Decimal('474')]\n",
      "['Lake Mai Ndombe', Decimal('300')]\n",
      "['Malebo Pool', Decimal('272')]\n",
      "['Lake Cabora-Bassa', Decimal('326')]\n",
      "['Lake Kariba', None]\n",
      "['Lake Ngami', None]\n",
      "['Etoscha Salt Pan', Decimal('1000')]\n",
      "['Makarikari Salt Pan', None]\n",
      "['Great Bear Lake', Decimal('156')]\n",
      "['Great Slave Lake', Decimal('156')]\n",
      "['Atlin Lake', Decimal('668')]\n",
      "['Lake Winnipeg', Decimal('218')]\n",
      "['Lake Nipigon', Decimal('260')]\n",
      "['Lake Manicouagan', Decimal('350')]\n",
      "['Lake Ontario', Decimal('75')]\n",
      "['Lake Erie', Decimal('174')]\n",
      "['Lake Huron', Decimal('176')]\n",
      "['Lake Manitou', None]\n",
      "['Lake Michigan', Decimal('176')]\n",
      "['Lake Superior', Decimal('184')]\n",
      "['Lake Champlain', Decimal('30')]\n",
      "['Lake Winnipesaukee', Decimal('153')]\n",
      "['Lake Okeechobee', None]\n",
      "['Kentucky Lake', None]\n",
      "['Chickamauga Lake', None]\n",
      "['Franklin. D. Roosevelt Lake', None]\n",
      "['Crater Lake', Decimal('1883')]\n",
      "['Great Salt Lake', Decimal('1279')]\n",
      "['Lake Tahoe', Decimal('1900')]\n",
      "['Pyramid Lake', Decimal('1155')]\n",
      "['Lake Powell', Decimal('1127')]\n",
      "['Lake Mead', Decimal('372')]\n",
      "['Fort Peck Lake', None]\n",
      "['Lake Sakakawea', None]\n",
      "['Lake Oahe', None]\n",
      "['Lago de Chapala', Decimal('1520')]\n",
      "['Lake Nicaragua', Decimal('31')]\n",
      "['Lake Managua', Decimal('39')]\n",
      "['Lake Irazu', Decimal('3200')]\n",
      "['La Brea Pitch Lake', None]\n",
      "['Lake Maracaibo', Decimal('0')]\n",
      "['Lago de Sobradinho', None]\n",
      "['Lago Junin', Decimal('4082')]\n",
      "['Lake Titicaca', Decimal('3812')]\n",
      "['Poopo', Decimal('3686')]\n",
      "['Salar de Uyuni', Decimal('3650')]\n",
      "['Licancabur Crater Lake', Decimal('5600')]\n",
      "['Laguna Mar Chiquita', Decimal('71')]\n",
      "['Lake Eyre', Decimal('-17')]\n",
      "['Lake Burley Griffin', Decimal('556')]\n",
      "['Lake Eucumbene', Decimal('1200')]\n",
      "['Lake Jindabyne', Decimal('915')]\n",
      "['Lake Hume', None]\n"
     ]
    }
   ],
   "source": [
    "from flask import Flask, jsonify, request\n",
    "import pg8000\n",
    "\n",
    "app = Flask(__name__)\n",
    "conn = pg8000.connect(database=\"mondial\")\n",
    "\n",
    "@app.route(\"/lakes\")\n",
    "def get_lakes():\n",
    "    cursor = conn.cursor()\n",
    "    cursor.execute('SELECT name, elevation FROM lake')\n",
    "    output = []\n",
    "    for item in cursor.fetchall():\n",
    "        print(item)\n",
    "        if item[1] == None:\n",
    "            output.append({'name': item[0], 'elevation': None})\n",
    "        else:\n",
    "            output.append({'name': item[0], 'elevation': int(item[1])})\n",
    "    return jsonify(output)\n",
    "\n",
    "app.run()\n",
    "#http://localhost:5000/lakes"
   ]
  },
  {
   "cell_type": "code",
   "execution_count": null,
   "metadata": {
    "collapsed": true
   },
   "outputs": [],
   "source": [
    "#Adding area"
   ]
  },
  {
   "cell_type": "code",
   "execution_count": 52,
   "metadata": {
    "collapsed": false
   },
   "outputs": [],
   "source": [
    "from flask import Flask, jsonify, request\n",
    "import pg8000\n",
    "\n",
    "app = Flask(__name__)\n",
    "conn = pg8000.connect(database=\"mondial\")\n",
    "\n",
    "@app.route(\"/lakes\")\n",
    "def get_lakes():\n",
    "    cursor = conn.cursor()\n",
    "    cursor.execute('SELECT name, elevation, area FROM lake')\n",
    "    output = []\n",
    "    for item in cursor.fetchall():\n",
    "        if item[1] == None:\n",
    "            output.append({'name': item[0], 'elevation': None})\n",
    "        else:\n",
    "            output.append({'name': item[0], 'elevation': int(item[1]), 'area': int(item[2])})\n",
    "    return jsonify(output)\n",
    "\n",
    "app.run()\n",
    "#http://localhost:5000/lakes"
   ]
  },
  {
   "cell_type": "code",
   "execution_count": null,
   "metadata": {
    "collapsed": true
   },
   "outputs": [],
   "source": [
    "# Adding type"
   ]
  },
  {
   "cell_type": "code",
   "execution_count": 48,
   "metadata": {
    "collapsed": false
   },
   "outputs": [
    {
     "name": "stderr",
     "output_type": "stream",
     "text": [
      "[2016-06-30 16:54:08,248] ERROR in app: Exception on /lakes [GET]\n",
      "Traceback (most recent call last):\n",
      "  File \"/usr/local/lib/python3.5/site-packages/flask/app.py\", line 1988, in wsgi_app\n",
      "    response = self.full_dispatch_request()\n",
      "  File \"/usr/local/lib/python3.5/site-packages/flask/app.py\", line 1641, in full_dispatch_request\n",
      "    rv = self.handle_user_exception(e)\n",
      "  File \"/usr/local/lib/python3.5/site-packages/flask/app.py\", line 1544, in handle_user_exception\n",
      "    reraise(exc_type, exc_value, tb)\n",
      "  File \"/usr/local/lib/python3.5/site-packages/flask/_compat.py\", line 33, in reraise\n",
      "    raise value\n",
      "  File \"/usr/local/lib/python3.5/site-packages/flask/app.py\", line 1639, in full_dispatch_request\n",
      "    rv = self.dispatch_request()\n",
      "  File \"/usr/local/lib/python3.5/site-packages/flask/app.py\", line 1625, in dispatch_request\n",
      "    return self.view_functions[rule.endpoint](**req.view_args)\n",
      "  File \"<ipython-input-48-36a4b33efd14>\", line 16, in get_lakes\n",
      "    output.append({'name': item[0], 'elevation': None, 'area': int(item[2]), 'type': item[3]})\n",
      "TypeError: int() argument must be a string, a bytes-like object or a number, not 'NoneType'\n"
     ]
    },
    {
     "name": "stdout",
     "output_type": "stream",
     "text": [
      "['Kiev Reservoir', None, Decimal('922'), 'dam']\n",
      "['Lake Volta', None, Decimal('8502'), 'dam']\n",
      "['Lake Kainji', None, Decimal('1243'), 'dam']\n"
     ]
    }
   ],
   "source": [
    "from flask import Flask, jsonify, request\n",
    "import pg8000\n",
    "\n",
    "app = Flask(__name__)\n",
    "conn = pg8000.connect(database=\"mondial\")\n",
    "\n",
    "@app.route(\"/lakes\")\n",
    "def get_lakes():\n",
    "    cursor = conn.cursor()\n",
    "    cursor.execute('SELECT name, elevation, area, type FROM lake')\n",
    "    output = []\n",
    "    for item in cursor.fetchall():\n",
    "        if item[1] == None and item[3] == None:\n",
    "            output.append({'name': item[0], 'elevation': None, 'area': int(item[2]), 'type': None})\n",
    "        elif item[1] == None:\n",
    "            output.append({'name': item[0], 'elevation': None, 'area': int(item[2]), 'type': item[3]})\n",
    "            print(item)\n",
    "        elif item[3] == None:\n",
    "            output.append({'name': item[0], 'elevation': int(item[1]), 'area': int(item[2]), 'type': None})\n",
    "        else:\n",
    "            output.append({'name': item[0], 'elevation': int(item[1]), 'area': int(item[2]), 'type': item[3]})\n",
    "    return jsonify(output)\n",
    "\n",
    "app.run()\n",
    "#http://localhost:5000/lakes"
   ]
  },
  {
   "cell_type": "code",
   "execution_count": 56,
   "metadata": {
    "collapsed": false
   },
   "outputs": [
    {
     "name": "stderr",
     "output_type": "stream",
     "text": [
      "[2016-06-30 17:14:42,815] ERROR in app: Exception on /lakes [GET]\n",
      "Traceback (most recent call last):\n",
      "  File \"/usr/local/lib/python3.5/site-packages/flask/app.py\", line 1988, in wsgi_app\n",
      "    response = self.full_dispatch_request()\n",
      "  File \"/usr/local/lib/python3.5/site-packages/flask/app.py\", line 1641, in full_dispatch_request\n",
      "    rv = self.handle_user_exception(e)\n",
      "  File \"/usr/local/lib/python3.5/site-packages/flask/app.py\", line 1544, in handle_user_exception\n",
      "    reraise(exc_type, exc_value, tb)\n",
      "  File \"/usr/local/lib/python3.5/site-packages/flask/_compat.py\", line 33, in reraise\n",
      "    raise value\n",
      "  File \"/usr/local/lib/python3.5/site-packages/flask/app.py\", line 1639, in full_dispatch_request\n",
      "    rv = self.dispatch_request()\n",
      "  File \"/usr/local/lib/python3.5/site-packages/flask/app.py\", line 1625, in dispatch_request\n",
      "    return self.view_functions[rule.endpoint](**req.view_args)\n",
      "  File \"<ipython-input-56-4696860ad3e3>\", line 17, in get_lakes\n",
      "    output.append({'name': item[0], 'elevation': None, 'area': int(item[2]), 'type': item[3]})\n",
      "TypeError: int() argument must be a string, a bytes-like object or a number, not 'NoneType'\n",
      "[2016-06-30 17:23:38,515] ERROR in app: Exception on /lakes [GET]\n",
      "Traceback (most recent call last):\n",
      "  File \"/usr/local/lib/python3.5/site-packages/flask/app.py\", line 1988, in wsgi_app\n",
      "    response = self.full_dispatch_request()\n",
      "  File \"/usr/local/lib/python3.5/site-packages/flask/app.py\", line 1641, in full_dispatch_request\n",
      "    rv = self.handle_user_exception(e)\n",
      "  File \"/usr/local/lib/python3.5/site-packages/flask/app.py\", line 1544, in handle_user_exception\n",
      "    reraise(exc_type, exc_value, tb)\n",
      "  File \"/usr/local/lib/python3.5/site-packages/flask/_compat.py\", line 33, in reraise\n",
      "    raise value\n",
      "  File \"/usr/local/lib/python3.5/site-packages/flask/app.py\", line 1639, in full_dispatch_request\n",
      "    rv = self.dispatch_request()\n",
      "  File \"/usr/local/lib/python3.5/site-packages/flask/app.py\", line 1625, in dispatch_request\n",
      "    return self.view_functions[rule.endpoint](**req.view_args)\n",
      "  File \"<ipython-input-56-4696860ad3e3>\", line 17, in get_lakes\n",
      "    output.append({'name': item[0], 'elevation': None, 'area': int(item[2]), 'type': item[3]})\n",
      "TypeError: int() argument must be a string, a bytes-like object or a number, not 'NoneType'\n"
     ]
    }
   ],
   "source": [
    "from flask import Flask, jsonify, request\n",
    "import pg8000\n",
    "\n",
    "app = Flask(__name__)\n",
    "conn = pg8000.connect(database=\"mondial\")\n",
    "\n",
    "@app.route(\"/lakes\")\n",
    "def get_lakes():\n",
    "    cursor = conn.cursor()\n",
    "    cursor.execute('SELECT name, elevation, area, type FROM lake')\n",
    "    output = []\n",
    "    for item in cursor.fetchall():\n",
    "        if item[1] == None:\n",
    "            if item[3] == None:\n",
    "                output.append({'name': item[0], 'elevation': None, 'area': int(item[2]), 'type': None})\n",
    "            else:\n",
    "                output.append({'name': item[0], 'elevation': None, 'area': int(item[2]), 'type': item[3]})\n",
    "        elif item[3] == None:\n",
    "            if item[1] == None:\n",
    "                output.append({'name': item[0], 'elevation': None, 'area': int(item[2]), 'type': None})\n",
    "            else: \n",
    "                output.append({'name': item[0], 'elevation': int(item[1]), 'area': int(item[2]), 'type': None})\n",
    "        else:\n",
    "            output.append({'name': item[0], 'elevation': int(item[1]), 'area': int(item[2]), 'type': item[3]})                  \n",
    "    return jsonify(output)\n",
    "\n",
    "app.run()\n",
    "#http://localhost:5000/lakes"
   ]
  },
  {
   "cell_type": "code",
   "execution_count": 66,
   "metadata": {
    "collapsed": false
   },
   "outputs": [],
   "source": [
    "from flask import Flask, jsonify, request\n",
    "import pg8000\n",
    "\n",
    "app = Flask(__name__)\n",
    "conn = pg8000.connect(database=\"mondial\")\n",
    "\n",
    "def non_none(x):\n",
    "    if x is None:\n",
    "        return x\n",
    "    else:\n",
    "        return x\n",
    "\n",
    "@app.route(\"/lakes\")\n",
    "def get_lakes():\n",
    "    cursor = conn.cursor()\n",
    "    cursor.execute('SELECT name, elevation, area, type FROM lake')\n",
    "    output = []\n",
    "    for item in cursor.fetchall():\n",
    "        output.append({'name': item[0], 'elevation': non_none(item[1]), 'area': non_none(item[2]), 'type': non_none(item[3])})                  \n",
    "    return jsonify(output)\n",
    "\n",
    "app.run()\n",
    "#http://localhost:5000/lakes"
   ]
  },
  {
   "cell_type": "code",
   "execution_count": 59,
   "metadata": {
    "collapsed": true
   },
   "outputs": [],
   "source": [
    "def non_none(x):\n",
    "    if isinstance(x, str):\n",
    "        return x\n",
    "    elif isinstance(x, int):\n",
    "        return int(x)\n",
    "    else:\n",
    "        return None\n",
    "\n"
   ]
  },
  {
   "cell_type": "code",
   "execution_count": 60,
   "metadata": {
    "collapsed": false
   },
   "outputs": [
    {
     "data": {
      "text/plain": [
       "'hello'"
      ]
     },
     "execution_count": 60,
     "metadata": {},
     "output_type": "execute_result"
    }
   ],
   "source": [
    "non_none('hello')"
   ]
  },
  {
   "cell_type": "code",
   "execution_count": 61,
   "metadata": {
    "collapsed": false
   },
   "outputs": [
    {
     "data": {
      "text/plain": [
       "4"
      ]
     },
     "execution_count": 61,
     "metadata": {},
     "output_type": "execute_result"
    }
   ],
   "source": [
    "def non_none(x):\n",
    "    if x is None:\n",
    "        return x\n",
    "    else isinstance(x, str):\n",
    "        return x\n",
    "    elif isinstance(x, int):\n",
    "        return int(x)\n",
    "    else:\n",
    "        return None"
   ]
  },
  {
   "cell_type": "code",
   "execution_count": 64,
   "metadata": {
    "collapsed": false
   },
   "outputs": [
    {
     "name": "stdout",
     "output_type": "stream",
     "text": [
      "None\n"
     ]
    }
   ],
   "source": [
    "print(non_none(None))"
   ]
  },
  {
   "cell_type": "code",
   "execution_count": null,
   "metadata": {
    "collapsed": true
   },
   "outputs": [],
   "source": []
  },
  {
   "cell_type": "code",
   "execution_count": null,
   "metadata": {
    "collapsed": true
   },
   "outputs": [],
   "source": []
  },
  {
   "cell_type": "code",
   "execution_count": null,
   "metadata": {
    "collapsed": true
   },
   "outputs": [],
   "source": [
    "from flask import Flask, jsonify, request\n",
    "import pg8000\n",
    "\n",
    "app = Flask(__name__)\n",
    "conn = pg8000.connect(user=\"barneyjs\", database=\"mondial\")\n",
    "\n",
    "@app.route(\"/countries\")\n",
    "def get_countries():\n",
    "    cursor = conn.cursor()\n",
    "    pop_gt = int(request.args.get('population_gt', 0))\n",
    "    area_size = int(request.args.get('area_size', 0))\n",
    "    cursor.execute(\n",
    "        \"\"\"SELECT name, capital, area, population\n",
    "        FROM country\n",
    "        WHERE population >= %s\n",
    "        AND WHERE area >= %s\n",
    "        ORDER BY name\"\"\",\n",
    "        [pop_gt, area_size])\n",
    "    output = []\n",
    "    for item in cursor.fetchall():\n",
    "        output.append({'name': item[0],\n",
    "                       'capital': item[1],\n",
    "                       'area': int(item[2]),\n",
    "                       'population': int(item[3])})\n",
    "    return jsonify(output)\n",
    "\n",
    "app.run()"
   ]
  }
 ],
 "metadata": {
  "kernelspec": {
   "display_name": "Python 3",
   "language": "python",
   "name": "python3"
  },
  "language_info": {
   "codemirror_mode": {
    "name": "ipython",
    "version": 3
   },
   "file_extension": ".py",
   "mimetype": "text/x-python",
   "name": "python",
   "nbconvert_exporter": "python",
   "pygments_lexer": "ipython3",
   "version": "3.5.1"
  }
 },
 "nbformat": 4,
 "nbformat_minor": 0
}
