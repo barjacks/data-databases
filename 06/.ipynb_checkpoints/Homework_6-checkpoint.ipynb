{
 "cells": [
  {
   "cell_type": "markdown",
   "metadata": {},
   "source": [
    "# Homework 6: Web Applications\n",
    "\n",
    "For this homework, you're going to write a web API for the lake data in the MONDIAL database. (Make sure you've imported the data as originally outlined in [our week 1 tutorial](https://github.com/ledeprogram/data-and-databases/blob/master/SQL_notes.md).)\n",
    "\n",
    "The API should perform the following tasks:\n",
    "\n",
    "* A request to `/lakes` should return a JSON list of dictionaries, with the information from the `name`, `elevation`, `area` and `type` fields from the `lake` table in MONDIAL.\n",
    "* The API should recognize the query string parameter `sort`. When left blank or set to `name`, the results should be sorted by the name of the lake (in alphabetical order). When set to `area` or `elevation`, the results should be sorted by the requested field, in *descending* order.\n",
    "* The API should recognize the query string parameter `type`. When specified, the results should *only* include rows that have the specified value in the `type` field.\n",
    "* You should be able to use *both* the `sort` and `type` parameters in any request.\n",
    "\n",
    "This notebook contains only *test requests to your API*. Write the API as a standalone Python program, start the program and then run the code in the cells below to ensure that your API produces the expected output. When you're done, paste the source code in the final cell (so we can check your work, if needed).\n",
    "\n",
    "Hints when writing your API code:\n",
    "\n",
    "* You'll need to construct the SQL query as a string, piece by piece. This will likely involve a somewhat messy tangle of `if` statements. Lean into the messy tangle.\n",
    "* Make sure to use parameter placeholders (%s) in the query.\n",
    "* If you're getting SQL errors, print out your SQL statement in the request handler function so you can debug it. (When you use `print()` in Flask, the results will display in your terminal window.)\n",
    "* When in doubt, return to the test code. Examine it carefully and make sure you know exactly what it's trying to do.\n",
    "\n",
    "## Problem set #1: A list of lakes\n",
    "\n",
    "Your API should return a JSON list of dictionaries (objects). Use the code below to determine what the keys of the dictionaries should be. (For brevity, this example only prints out the first ten records, but of course your API should return all of them.)\n",
    "\n",
    "Expected output:\n",
    "\n",
    "    143 lakes\n",
    "    Ammersee - elevation: 533 m / area: 46 km^2 / type: None\n",
    "    Arresoe - elevation: None m / area: 40 km^2 / type: None\n",
    "    Atlin Lake - elevation: 668 m / area: 798 km^2 / type: None\n",
    "    Balaton - elevation: 104 m / area: 594 km^2 / type: None\n",
    "    Barrage de Mbakaou - elevation: None m / area: None km^2 / type: dam\n",
    "    Bodensee - elevation: 395 m / area: 538 km^2 / type: None\n",
    "    Brienzersee - elevation: 564 m / area: 29 km^2 / type: None\n",
    "    Caspian Sea - elevation: -28 m / area: 386400 km^2 / type: salt\n",
    "    Chad Lake - elevation: 250 m / area: 23000 km^2 / type: salt\n",
    "    Chew Bahir - elevation: 520 m / area: 800 km^2 / type: salt"
   ]
  },
  {
   "cell_type": "code",
   "execution_count": 6,
   "metadata": {
    "collapsed": false
   },
   "outputs": [
    {
     "name": "stdout",
     "output_type": "stream",
     "text": [
      "143 lakes\n",
      "Ammersee - elevation: 533 m / area: 46 km^2 / type: None\n",
      "Arresoe - elevation: None m / area: 40 km^2 / type: None\n",
      "Atlin Lake - elevation: 668 m / area: 798 km^2 / type: None\n",
      "Balaton - elevation: 104 m / area: 594 km^2 / type: None\n",
      "Barrage de Mbakaou - elevation: None m / area: None km^2 / type: dam\n",
      "Bodensee - elevation: 395 m / area: 538 km^2 / type: None\n",
      "Brienzersee - elevation: 564 m / area: 29 km^2 / type: None\n",
      "Caspian Sea - elevation: -28 m / area: 386400 km^2 / type: salt\n",
      "Chad Lake - elevation: 250 m / area: 23000 km^2 / type: salt\n",
      "Chew Bahir - elevation: 520 m / area: 800 km^2 / type: salt\n"
     ]
    }
   ],
   "source": [
    "import requests\n",
    "data = requests.get('http://127.0.0.1:5000/lakes').json()\n",
    "print(len(data), \"lakes\")\n",
    "for item in data[:10]:\n",
    "    print(item['name'], \"- elevation:\", item['elevation'], \"m / area:\", item['area'], \"km^2 / type:\", item['type'])"
   ]
  },
  {
   "cell_type": "markdown",
   "metadata": {},
   "source": [
    "## Problem set #2: Lakes of a certain type\n",
    "\n",
    "The following code fetches all lakes of type `salt` and finds their average area and elevation.\n",
    "\n",
    "Expected output:\n",
    "\n",
    "    average area: 18880\n",
    "    average elevation: 970"
   ]
  },
  {
   "cell_type": "code",
   "execution_count": 7,
   "metadata": {
    "collapsed": false
   },
   "outputs": [
    {
     "name": "stdout",
     "output_type": "stream",
     "text": [
      "average area: 18880\n",
      "average elevation: 970\n"
     ]
    }
   ],
   "source": [
    "import requests\n",
    "data = requests.get('http://localhost:5000/lakes?type=salt').json()\n",
    "avg_area = sum([x['area'] for x in data if x['area'] is not None]) / len(data)\n",
    "avg_elev = sum([x['elevation'] for x in data if x['elevation'] is not None]) / len(data)\n",
    "print(\"average area:\", int(avg_area))\n",
    "print(\"average elevation:\", int(avg_elev))"
   ]
  },
  {
   "cell_type": "markdown",
   "metadata": {},
   "source": [
    "## Problem set #3: Lakes in order\n",
    "\n",
    "The following code fetches lakes in reverse order by their elevation and prints out the name of the first fifteen, excluding lakes with an empty elevation field.\n",
    "\n",
    "Expected output:\n",
    "\n",
    "    * Licancabur Crater Lake\n",
    "    * Nam Co\n",
    "    * Lago Junin\n",
    "    * Lake Titicaca\n",
    "    * Poopo\n",
    "    * Salar de Uyuni\n",
    "    * Koli Sarez\n",
    "    * Lake Irazu\n",
    "    * Qinghai Lake\n",
    "    * Segara Anak\n",
    "    * Lake Tahoe\n",
    "    * Crater Lake\n",
    "    * Lake Tana\n",
    "    * Lake Van\n",
    "    * Issyk-Kul"
   ]
  },
  {
   "cell_type": "code",
   "execution_count": 8,
   "metadata": {
    "collapsed": false
   },
   "outputs": [
    {
     "name": "stdout",
     "output_type": "stream",
     "text": [
      "* Licancabur Crater Lake\n",
      "* Nam Co\n",
      "* Lago Junin\n",
      "* Lake Titicaca\n",
      "* Poopo\n",
      "* Salar de Uyuni\n",
      "* Koli Sarez\n",
      "* Lake Irazu\n",
      "* Qinghai Lake\n",
      "* Segara Anak\n",
      "* Lake Tahoe\n",
      "* Crater Lake\n",
      "* Lake Tana\n",
      "* Lake Van\n",
      "* Issyk-Kul\n"
     ]
    }
   ],
   "source": [
    "import requests\n",
    "data = requests.get('http://localhost:5000/lakes?sort=elevation').json()\n",
    "for item in [x['name'] for x in data if x['elevation'] is not None][:15]:\n",
    "    print(\"*\", item)"
   ]
  },
  {
   "cell_type": "markdown",
   "metadata": {},
   "source": [
    "## Problem set #4: Order and type\n",
    "\n",
    "The following code prints the names of the largest caldera lakes, ordered in reverse order by area.\n",
    "\n",
    "Expected output:\n",
    "\n",
    "    * Lake Nyos\n",
    "    * Lake Toba\n",
    "    * Lago Trasimeno\n",
    "    * Lago di Bolsena\n",
    "    * Lago di Bracciano\n",
    "    * Crater Lake\n",
    "    * Segara Anak\n",
    "    * Laacher Maar"
   ]
  },
  {
   "cell_type": "code",
   "execution_count": 9,
   "metadata": {
    "collapsed": false
   },
   "outputs": [
    {
     "name": "stdout",
     "output_type": "stream",
     "text": [
      "* Lake Nyos\n",
      "* Lake Toba\n",
      "* Lago Trasimeno\n",
      "* Lago di Bolsena\n",
      "* Lago di Bracciano\n",
      "* Crater Lake\n",
      "* Segara Anak\n",
      "* Laacher Maar\n"
     ]
    }
   ],
   "source": [
    "import requests\n",
    "data = requests.get('http://localhost:5000/lakes?sort=area&type=caldera').json()\n",
    "for item in data:\n",
    "    print(\"*\", item['name'])"
   ]
  },
  {
   "cell_type": "markdown",
   "metadata": {},
   "source": [
    "## Problem set #5: Error handling\n",
    "\n",
    "Your API should work fine even when faced with potential error-causing inputs. For example, the expected output for this statement is an empty list (`[]`), *not* every row in the table."
   ]
  },
  {
   "cell_type": "code",
   "execution_count": 10,
   "metadata": {
    "collapsed": false
   },
   "outputs": [
    {
     "data": {
      "text/plain": [
       "[{'area': 46, 'elevation': 533, 'name': 'Ammersee', 'type': None},\n",
       " {'area': 40, 'elevation': None, 'name': 'Arresoe', 'type': None},\n",
       " {'area': 798, 'elevation': 668, 'name': 'Atlin Lake', 'type': None},\n",
       " {'area': 594, 'elevation': 104, 'name': 'Balaton', 'type': None},\n",
       " {'area': None,\n",
       "  'elevation': None,\n",
       "  'name': 'Barrage de Mbakaou',\n",
       "  'type': 'dam'},\n",
       " {'area': 538, 'elevation': 395, 'name': 'Bodensee', 'type': None},\n",
       " {'area': 29, 'elevation': 564, 'name': 'Brienzersee', 'type': None},\n",
       " {'area': 386400, 'elevation': -28, 'name': 'Caspian Sea', 'type': 'salt'},\n",
       " {'area': 23000, 'elevation': 250, 'name': 'Chad Lake', 'type': 'salt'},\n",
       " {'area': 800, 'elevation': 520, 'name': 'Chew Bahir', 'type': 'salt'},\n",
       " {'area': 147, 'elevation': None, 'name': 'Chickamauga Lake', 'type': None},\n",
       " {'area': 80, 'elevation': 518, 'name': 'Chiemsee', 'type': None},\n",
       " {'area': 53, 'elevation': 1883, 'name': 'Crater Lake', 'type': 'caldera'},\n",
       " {'area': 1800,\n",
       "  'elevation': 790,\n",
       "  'name': 'Daryacheh ye Namak',\n",
       "  'type': 'salt'},\n",
       " {'area': 41650, 'elevation': -422, 'name': 'Dead Sea', 'type': 'salt'},\n",
       " {'area': 6133, 'elevation': 1000, 'name': 'Etoscha Salt Pan', 'type': 'salt'},\n",
       " {'area': 981, 'elevation': None, 'name': 'Fort Peck Lake', 'type': 'dam'},\n",
       " {'area': 337,\n",
       "  'elevation': None,\n",
       "  'name': 'Franklin. D. Roosevelt Lake',\n",
       "  'type': 'dam'},\n",
       " {'area': 31792, 'elevation': 156, 'name': 'Great Bear Lake', 'type': None},\n",
       " {'area': 4400, 'elevation': 1279, 'name': 'Great Salt Lake', 'type': 'salt'},\n",
       " {'area': 28568, 'elevation': 156, 'name': 'Great Slave Lake', 'type': None},\n",
       " {'area': 1600,\n",
       "  'elevation': 500,\n",
       "  'name': 'Hamun e Jaz Murian',\n",
       "  'type': 'salt'},\n",
       " {'area': 1040, 'elevation': 119, 'name': 'Inari', 'type': None},\n",
       " {'area': 6236, 'elevation': 1609, 'name': 'Issyk-Kul', 'type': 'salt'},\n",
       " {'area': 2155, 'elevation': 44, 'name': 'Kakhovka Reservoir', 'type': 'dam'},\n",
       " {'area': 472, 'elevation': None, 'name': 'Kallavesi', 'type': None},\n",
       " {'area': 648, 'elevation': None, 'name': 'Kentucky Lake', 'type': None},\n",
       " {'area': 922, 'elevation': None, 'name': 'Kiev Reservoir', 'type': 'dam'},\n",
       " {'area': 80, 'elevation': 3250, 'name': 'Koli Sarez', 'type': 'naturaldam'},\n",
       " {'area': 2252,\n",
       "  'elevation': 44,\n",
       "  'name': 'Kremenchuk Reservoir',\n",
       "  'type': 'dam'},\n",
       " {'area': 6450, 'elevation': 53, 'name': 'Kuybyshev Reservoir', 'type': 'dam'},\n",
       " {'area': 0,\n",
       "  'elevation': None,\n",
       "  'name': 'La Brea Pitch Lake',\n",
       "  'type': 'asphalt'},\n",
       " {'area': 3, 'elevation': 275, 'name': 'Laacher Maar', 'type': 'caldera'},\n",
       " {'area': 54, 'elevation': -155, 'name': 'Lac Assal', 'type': 'salt'},\n",
       " {'area': 581, 'elevation': 372, 'name': 'Lac Leman', 'type': None},\n",
       " {'area': 175, 'elevation': 4082, 'name': 'Lago Junin', 'type': None},\n",
       " {'area': 216, 'elevation': 193, 'name': 'Lago Maggiore', 'type': None},\n",
       " {'area': 128, 'elevation': 259, 'name': 'Lago Trasimeno', 'type': 'caldera'},\n",
       " {'area': 1685, 'elevation': 1520, 'name': 'Lago de Chapala', 'type': None},\n",
       " {'area': 4214,\n",
       "  'elevation': None,\n",
       "  'name': 'Lago de Sobradinho',\n",
       "  'type': 'dam'},\n",
       " {'area': 114, 'elevation': 335, 'name': 'Lago di Bolsena', 'type': 'caldera'},\n",
       " {'area': 57,\n",
       "  'elevation': 164,\n",
       "  'name': 'Lago di Bracciano',\n",
       "  'type': 'caldera'},\n",
       " {'area': 146, 'elevation': 197, 'name': 'Lago di Como', 'type': None},\n",
       " {'area': 370, 'elevation': 65, 'name': 'Lago di Garda', 'type': None},\n",
       " {'area': 5770,\n",
       "  'elevation': 71,\n",
       "  'name': 'Laguna Mar Chiquita',\n",
       "  'type': 'salt'},\n",
       " {'area': 911, 'elevation': None, 'name': 'Laguna de Bay', 'type': None},\n",
       " {'area': 14, 'elevation': 995, 'name': 'Laguna de Gallocanta', 'type': None},\n",
       " {'area': 1285, 'elevation': 619, 'name': 'Lake Abaya', 'type': 'salt'},\n",
       " {'area': 320, 'elevation': 243, 'name': 'Lake Abbe', 'type': 'salt'},\n",
       " {'area': 10000, 'elevation': 1140, 'name': 'Lake Bangweulu', 'type': None},\n",
       " {'area': 49, 'elevation': 107, 'name': 'Lake Bosumtwi', 'type': 'impact'},\n",
       " {'area': 6, 'elevation': 556, 'name': 'Lake Burley Griffin', 'type': 'dam'},\n",
       " {'area': 2800, 'elevation': 326, 'name': 'Lake Cabora-Bassa', 'type': 'dam'},\n",
       " {'area': 1130, 'elevation': 30, 'name': 'Lake Champlain', 'type': None},\n",
       " {'area': 687, 'elevation': 474, 'name': 'Lake Chilwa', 'type': 'salt'},\n",
       " {'area': 25745, 'elevation': 174, 'name': 'Lake Erie', 'type': None},\n",
       " {'area': 145, 'elevation': 1200, 'name': 'Lake Eucumbene', 'type': 'dam'},\n",
       " {'area': 1050, 'elevation': 1030, 'name': 'Lake Eyasi', 'type': 'salt'},\n",
       " {'area': 9500, 'elevation': -17, 'name': 'Lake Eyre', 'type': 'salt'},\n",
       " {'area': 165, 'elevation': -212, 'name': 'Lake Genezareth', 'type': None},\n",
       " {'area': 202, 'elevation': None, 'name': 'Lake Hume', 'type': None},\n",
       " {'area': 59600, 'elevation': 176, 'name': 'Lake Huron', 'type': None},\n",
       " {'area': 1, 'elevation': 3200, 'name': 'Lake Irazu', 'type': 'acid'},\n",
       " {'area': 30, 'elevation': 915, 'name': 'Lake Jindabyne', 'type': 'dam'},\n",
       " {'area': 1243, 'elevation': None, 'name': 'Lake Kainji', 'type': 'dam'},\n",
       " {'area': 5580, 'elevation': None, 'name': 'Lake Kariba', 'type': 'dam'},\n",
       " {'area': 675, 'elevation': None, 'name': 'Lake Keban', 'type': None},\n",
       " {'area': 1720, 'elevation': 914, 'name': 'Lake Kioga', 'type': None},\n",
       " {'area': 2650, 'elevation': 1462, 'name': 'Lake Kivu', 'type': None},\n",
       " {'area': 8200, 'elevation': 300, 'name': 'Lake Mai Ndombe', 'type': None},\n",
       " {'area': 29600, 'elevation': 474, 'name': 'Lake Malawi', 'type': None},\n",
       " {'area': 1035, 'elevation': 39, 'name': 'Lake Managua', 'type': None},\n",
       " {'area': 1942,\n",
       "  'elevation': 350,\n",
       "  'name': 'Lake Manicouagan',\n",
       "  'type': 'impact'},\n",
       " {'area': 104, 'elevation': None, 'name': 'Lake Manitou', 'type': None},\n",
       " {'area': 13000, 'elevation': 0, 'name': 'Lake Maracaibo', 'type': None},\n",
       " {'area': 640, 'elevation': 372, 'name': 'Lake Mead', 'type': 'dam'},\n",
       " {'area': 57800, 'elevation': 176, 'name': 'Lake Michigan', 'type': None},\n",
       " {'area': 5120, 'elevation': 931, 'name': 'Lake Mweru', 'type': None},\n",
       " {'area': 5250, 'elevation': 183, 'name': 'Lake Nasser', 'type': 'dam'},\n",
       " {'area': 1040, 'elevation': 600, 'name': 'Lake Natron', 'type': 'salt'},\n",
       " {'area': 770, 'elevation': None, 'name': 'Lake Ngami', 'type': 'salt'},\n",
       " {'area': 8157, 'elevation': 31, 'name': 'Lake Nicaragua', 'type': None},\n",
       " {'area': 4848, 'elevation': 260, 'name': 'Lake Nipigon', 'type': None},\n",
       " {'area': None, 'elevation': None, 'name': 'Lake Nyos', 'type': 'caldera'},\n",
       " {'area': 1453, 'elevation': None, 'name': 'Lake Oahe', 'type': 'dam'},\n",
       " {'area': 367, 'elevation': 695, 'name': 'Lake Ohrid', 'type': None},\n",
       " {'area': 1890, 'elevation': None, 'name': 'Lake Okeechobee', 'type': None},\n",
       " {'area': 18960, 'elevation': 75, 'name': 'Lake Ontario', 'type': None},\n",
       " {'area': 645, 'elevation': 1127, 'name': 'Lake Powell', 'type': 'dam'},\n",
       " {'area': 273, 'elevation': 849, 'name': 'Lake Prespa', 'type': None},\n",
       " {'area': 5760, 'elevation': 800, 'name': 'Lake Rukwa', 'type': 'salt'},\n",
       " {'area': 1578, 'elevation': None, 'name': 'Lake Sakakawea', 'type': 'dam'},\n",
       " {'area': 5347,\n",
       "  'elevation': 619,\n",
       "  'name': 'Lake Sese Seko/Albertsee',\n",
       "  'type': None},\n",
       " {'area': 368, 'elevation': 7, 'name': 'Lake Skutari', 'type': None},\n",
       " {'area': 82103, 'elevation': 184, 'name': 'Lake Superior', 'type': None},\n",
       " {'area': 497, 'elevation': 1900, 'name': 'Lake Tahoe', 'type': None},\n",
       " {'area': 3000, 'elevation': 1830, 'name': 'Lake Tana', 'type': None},\n",
       " {'area': 32893, 'elevation': 782, 'name': 'Lake Tanganjika', 'type': None},\n",
       " {'area': 8372, 'elevation': 3812, 'name': 'Lake Titicaca', 'type': None},\n",
       " {'area': 1103, 'elevation': 905, 'name': 'Lake Toba', 'type': 'caldera'},\n",
       " {'area': 6405, 'elevation': 375, 'name': 'Lake Turkana', 'type': 'salt'},\n",
       " {'area': 5470, 'elevation': 1280, 'name': 'Lake Urmia', 'type': 'salt'},\n",
       " {'area': 3740, 'elevation': 1719, 'name': 'Lake Van', 'type': 'salt'},\n",
       " {'area': 68870, 'elevation': 1134, 'name': 'Lake Victoria', 'type': None},\n",
       " {'area': 8502, 'elevation': None, 'name': 'Lake Volta', 'type': 'dam'},\n",
       " {'area': 24420, 'elevation': 218, 'name': 'Lake Winnipeg', 'type': None},\n",
       " {'area': 186, 'elevation': 153, 'name': 'Lake Winnipesaukee', 'type': None},\n",
       " {'area': 0,\n",
       "  'elevation': 5600,\n",
       "  'name': 'Licancabur Crater Lake',\n",
       "  'type': 'crater'},\n",
       " {'area': 71, 'elevation': 7, 'name': 'Loch Lomond', 'type': None},\n",
       " {'area': 56, 'elevation': 16, 'name': 'Loch Ness', 'type': None},\n",
       " {'area': 5000, 'elevation': 780, 'name': 'Lop Nor', 'type': 'salt'},\n",
       " {'area': 1140, 'elevation': 0, 'name': 'Maelaren', 'type': None},\n",
       " {'area': 12000,\n",
       "  'elevation': None,\n",
       "  'name': 'Makarikari Salt Pan',\n",
       "  'type': 'salt'},\n",
       " {'area': 500, 'elevation': 272, 'name': 'Malebo Pool', 'type': None},\n",
       " {'area': 368, 'elevation': 123, 'name': 'Mjoesa-See', 'type': None},\n",
       " {'area': 1855, 'elevation': 4718, 'name': 'Nam Co', 'type': 'salt'},\n",
       " {'area': 320, 'elevation': 115, 'name': 'Neusiedlersee', 'type': None},\n",
       " {'area': 928, 'elevation': 123, 'name': 'Oulujaervi', 'type': None},\n",
       " {'area': 17160, 'elevation': 31, 'name': 'Ozero Aral', 'type': 'salt'},\n",
       " {'area': 31492, 'elevation': 455, 'name': 'Ozero Baikal', 'type': None},\n",
       " {'area': 18428, 'elevation': 342, 'name': 'Ozero Balchash', 'type': 'salt'},\n",
       " {'area': 4400, 'elevation': None, 'name': 'Ozero Chanka', 'type': None},\n",
       " {'area': 18400, 'elevation': 4, 'name': 'Ozero Ladoga', 'type': None},\n",
       " {'area': 9616, 'elevation': 33, 'name': 'Ozero Onega', 'type': None},\n",
       " {'area': 3555, 'elevation': 30, 'name': 'Ozero Pskovskoje', 'type': None},\n",
       " {'area': 4560, 'elevation': 5, 'name': 'Ozero Taimyr', 'type': None},\n",
       " {'area': 2500, 'elevation': 10, 'name': 'Ozero Tschany', 'type': None},\n",
       " {'area': 1118, 'elevation': 78, 'name': 'Paeijaenne', 'type': None},\n",
       " {'area': 1340, 'elevation': 3686, 'name': 'Poopo', 'type': 'salt'},\n",
       " {'area': 487, 'elevation': 1155, 'name': 'Pyramid Lake', 'type': 'salt'},\n",
       " {'area': 4583, 'elevation': 3195, 'name': 'Qinghai Lake', 'type': 'salt'},\n",
       " {'area': 2325, 'elevation': 920, 'name': 'Rutanzige/Eduardsee', 'type': None},\n",
       " {'area': 4370, 'elevation': 76, 'name': 'Saimaa', 'type': None},\n",
       " {'area': 10582, 'elevation': 3650, 'name': 'Salar de Uyuni', 'type': 'salt'},\n",
       " {'area': 11, 'elevation': 2008, 'name': 'Segara Anak', 'type': 'caldera'},\n",
       " {'area': 290, 'elevation': 161, 'name': 'Siljan', 'type': 'impact'},\n",
       " {'area': 56, 'elevation': 584, 'name': 'Starnberger See', 'type': None},\n",
       " {'area': 173, 'elevation': 419, 'name': 'Storuman', 'type': None},\n",
       " {'area': 48, 'elevation': 558, 'name': 'Thunersee', 'type': None},\n",
       " {'area': 5648, 'elevation': 44, 'name': 'Vaenern', 'type': None},\n",
       " {'area': 1900, 'elevation': 88, 'name': 'Vaettern', 'type': None},\n",
       " {'area': 113, 'elevation': 434, 'name': 'Vierwaldstattersee', 'type': None},\n",
       " {'area': 88, 'elevation': 406, 'name': 'Zurichsee', 'type': None}]"
      ]
     },
     "execution_count": 10,
     "metadata": {},
     "output_type": "execute_result"
    }
   ],
   "source": [
    "import requests\n",
    "data = requests.get('http://localhost:5000/lakes', params={'type': \"' OR true; --\"}).json()\n",
    "data"
   ]
  },
  {
   "cell_type": "markdown",
   "metadata": {},
   "source": [
    "Specifying a field other than `name`, `area` or `elevation` for the `sort` parameter should fail silently, defaulting to sorting alphabetically. Expected output: `['Ammersee', 'Arresoe', 'Atlin Lake', 'Balaton', 'Barrage de Mbakaou']\n",
    "`"
   ]
  },
  {
   "cell_type": "code",
   "execution_count": 11,
   "metadata": {
    "collapsed": false
   },
   "outputs": [
    {
     "data": {
      "text/plain": [
       "['Ammersee', 'Arresoe', 'Atlin Lake', 'Balaton', 'Barrage de Mbakaou']"
      ]
     },
     "execution_count": 11,
     "metadata": {},
     "output_type": "execute_result"
    }
   ],
   "source": [
    "import requests\n",
    "data = requests.get('http://localhost:5000/lakes', params={'sort': \"florb\"}).json()\n",
    "[x['name'] for x in data[:5]]"
   ]
  },
  {
   "cell_type": "markdown",
   "metadata": {},
   "source": [
    "## Paste your code\n",
    "\n",
    "Please paste the code for your entire Flask application in the cell below, in case we want to take a look when grading or debugging your assignment."
   ]
  },
  {
   "cell_type": "code",
   "execution_count": null,
   "metadata": {
    "collapsed": true
   },
   "outputs": [],
   "source": [
    "from flask import Flask, jsonify, request\n",
    "import pg8000\n",
    "\n",
    "app = Flask(__name__)\n",
    "conn = pg8000.connect(user='barneyjs', database=\"mondial\")\n",
    "\n",
    "#Creating a function to change values into ints, skipping the Nones\n",
    "def int_(x):\n",
    "    if x is None:\n",
    "        return None\n",
    "    else:\n",
    "        return int(x)\n",
    "    \n",
    "#Creating a function to change values into strs, skipping the Nones\n",
    "def str_(x):\n",
    "    if x is None:\n",
    "        return None\n",
    "    else:\n",
    "        return str(x)\n",
    "\n",
    "@app.route('/lakes')\n",
    "def get_lakes():\n",
    "    cursor = conn.cursor()\n",
    "    #ORDER BY NAME, ORDER BY AREA, ORDER BY ELEVATION\n",
    "    #order_by = 'ORDER BY name'\n",
    "    #print(order_by)\n",
    "    \n",
    "    #Getting the variable for the sorting\n",
    "    #print(get_variable)\n",
    "    get_variable = request.args.get('sort', '')\n",
    "    #print(get_variable) for debugging\n",
    "    if get_variable == 'name':\n",
    "        order_by = 'ORDER BY name'\n",
    "        #print(order_by) for debugging\n",
    "    elif get_variable == 'elevation':\n",
    "        order_by = 'ORDER BY elevation DESC'\n",
    "    elif get_variable == 'area':\n",
    "        order_by = 'ORDER BY area DESC'\n",
    "    else:\n",
    "        order_by = 'ORDER BY name'\n",
    "    \n",
    "    #Getting the variable for the type filtering\n",
    "    #SQL statement = 'SELECT name, elevation, area, type FROM lake ' + order_by + ' WHERE type=salt'\n",
    "    #print(get_variable)\n",
    "    gt_typ = request.args.get('type', '')\n",
    "    sql = ('SELECT name, elevation, area, type FROM lake WHERE type=%s ')\n",
    "    if gt_typ == 'salt':\n",
    "        get_type = 'salt'\n",
    "        cursor.execute(sql + order_by, [get_type])\n",
    "    elif gt_typ == 'dam':\n",
    "        get_type = 'dam'\n",
    "        cursor.execute(sql + order_by, [get_type])\n",
    "    elif gt_typ == 'caldera':\n",
    "        get_type = 'caldera'\n",
    "        cursor.execute(sql + order_by, [get_type])\n",
    "    else:\n",
    "        cursor.execute('SELECT name, elevation, area, type FROM lake ' + order_by)\n",
    "        print(cursor.execute)\n",
    "    \n",
    "    #cursor.execute('SELECT name, elevation, area, type FROM lake WHERE type=%s ' + order_by, [get_type]) \n",
    "    \n",
    "    output = []\n",
    "    for item in cursor.fetchall():\n",
    "        output.append({'name': item[0], 'elevation': int_(item[1]), 'area': int_(item[2]), 'type': str_(item[3])})                  \n",
    "    return jsonify(output)\n",
    "\n",
    "app.run()\n",
    "#http://localhost:5000/lakes"
   ]
  }
 ],
 "metadata": {
  "kernelspec": {
   "display_name": "Python 3",
   "language": "python",
   "name": "python3"
  },
  "language_info": {
   "codemirror_mode": {
    "name": "ipython",
    "version": 3
   },
   "file_extension": ".py",
   "mimetype": "text/x-python",
   "name": "python",
   "nbconvert_exporter": "python",
   "pygments_lexer": "ipython3",
   "version": "3.5.1"
  }
 },
 "nbformat": 4,
 "nbformat_minor": 0
}
