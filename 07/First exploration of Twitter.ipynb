{
 "cells": [
  {
   "cell_type": "code",
   "execution_count": 2,
   "metadata": {
    "collapsed": true
   },
   "outputs": [],
   "source": [
    "api_key = \"Q5JK9VebduplKnM0JDHuAA7HD\"\n",
    "api_secret = \"kOSrqYUlq1eTyX1fCoNtpS31zLMOdvA8vK5sppBP8OH6rD3yiW\"\n",
    "\n",
    "access_token = \"9375522-HGYoTu3G9zapoAgRnayuuuh6Ak93q31zTbhGpna8ns\"\n",
    "token_secret = \"z03z4mK3DlPp2edKCVS0xNdP2TEnF5PiWo4BVgYrQr7rv\""
   ]
  },
  {
   "cell_type": "code",
   "execution_count": 3,
   "metadata": {
    "collapsed": false
   },
   "outputs": [
    {
     "name": "stdout",
     "output_type": "stream",
     "text": [
      "Requirement already satisfied (use --upgrade to upgrade): twython in /usr/local/lib/python3.5/site-packages\r\n",
      "Requirement already satisfied (use --upgrade to upgrade): requests>=2.1.0 in /usr/local/lib/python3.5/site-packages (from twython)\r\n",
      "Requirement already satisfied (use --upgrade to upgrade): requests-oauthlib>=0.4.0 in /usr/local/lib/python3.5/site-packages (from twython)\r\n",
      "Requirement already satisfied (use --upgrade to upgrade): oauthlib>=0.6.2 in /usr/local/lib/python3.5/site-packages (from requests-oauthlib>=0.4.0->twython)\r\n"
     ]
    }
   ],
   "source": [
    "!pip3 install twython"
   ]
  },
  {
   "cell_type": "code",
   "execution_count": 4,
   "metadata": {
    "collapsed": true
   },
   "outputs": [],
   "source": [
    "import twython\n",
    "\n",
    "twitter = twython.Twython(api_key, api_secret, access_token, token_secret)"
   ]
  },
  {
   "cell_type": "code",
   "execution_count": 7,
   "metadata": {
    "collapsed": false
   },
   "outputs": [
    {
     "name": "stdout",
     "output_type": "stream",
     "text": [
      "Balthasars Grüne Links wurde soeben publiziert! https://t.co/8l0NLDZDro Beiträge u.a. von @adelethorens @turlesque @nr_mayagraf #nrw\n",
      "Bei der Armee zieht die rechte Sparmehrheit plötzlich die Spendierhosen an. Wir @GrueneCH lehnen Rüstungsprogramm ab https://t.co/ZJJoNIqwM5\n",
      "pEp: Erste Anwendungen von \"Pretty Easy Privacy\" für Windows und Android sind nun verfügbar! https://t.co/XVyEbTe7ap\n",
      "Balthasars Grüne Links wurde soeben publiziert! https://t.co/HbQu3vj5Fp Beiträge u.a. von @jungegruenebern @OttLukas_ @sakneu #ceta #îlesrts\n",
      "Amnesty kritisiert Vergewaltigungen &amp; Folter v Migranten in Lybien, wo die EU einen Türkei-Deal abschließen will: https://t.co/JDKexPNcJC\n",
      "Wir dachten, Android-Handys seien so sicher verschlüsselt wie das iPhone – und nun das ... https://t.co/ZJTp2o6puN via @watson_news\n",
      "Weicht das Nachrichtendienstgesetz #NDG das Berufsgeheimnis von Rechtsanwälten auf? JA, schreibt @martinsteiger https://t.co/VvArp00LK8\n",
      "Der @bastiengirod gibt Medien in der Sitzungspause der UREK-N Auskunft. #parlch https://t.co/SZf9imSJxg\n",
      "Balthasars Grüne Links wurde soeben publiziert! https://t.co/Qm0sXoi8h1 Beiträge u.a. von @nr_mayagraf @UrsScheuss @luzian_franzini #nsaua\n",
      "not ready for primetime. The Brexiteers @BorisJohnson and @Nigel_Farage shirk responsibility #brexit https://t.co/D5m53tD8WT\n",
      "Wer hat den #Nachtzug umgebracht? was hat das mit \"freiem Markt\" und fairer Konkurrenz zu tun? https://t.co/aEVhbcV8p4 /cc @umverkehR @alin…\n",
      "Which EU Country Has the Most Citizens Living Abroad? - via Metrocosm and @buercher https://t.co/yJdL5Bp8ss\n",
      "Balthasars Grüne Links wurde soeben publiziert! https://t.co/2cYKnBK3Uv Beiträge u.a. von @RegulaRytz @AlbertoMocchi @jeanrossiaud #brexit\n",
      "Orakel... ? Börsenkurse? :-) https://t.co/wdzFF14I0X\n",
      "Balthasars Grüne Links wurde soeben publiziert! https://t.co/xOfLFc3bPT Beiträge u.a. von @StephaniePenher @IliasPanchard @matthi_bolte #nsu\n",
      "Armut rund ums Camp: Hotels und Läden in Idomeni wünschen sich die Flüchtlinge &amp; Helfer zurück via @SPIEGELONLINE https://t.co/t4AwGaFbIK\n",
      "Balthasars Grüne Links wurde soeben publiziert! https://t.co/ah0yLILPWQ Beiträge u.a. von @VertsVD @regulatschanz @BrunoVanoni1 #brexit\n",
      "Kanadier können syrische Flüchtlingsfamilien \"adoptieren\". Interessante Reportage. https://t.co/Xetac4EMjB via @nytimes #refugeeswelcome\n",
      "Fiasko der Abschreckungspolitik: IOM meldet 50 Prozent mehr Tote im Mittelmeer. #schutzstatthetze #refugeeswelcome https://t.co/mh0JyMFq3N\n",
      "Schweiz: Der Datenschützer (@derBeauftragte) kritisiert Überwachungsgesetze (#Büpf #NDG) und Vorratsdatenweitergabe https://t.co/kJ04SifsfU\n",
      "Balthasars Grüne Links wurde soeben publiziert! https://t.co/kNxCoAyHHS Beiträge u.a. von @ahodgers @SkaKeller @smiddy2812 #brexit\n",
      "dear @pEp4Privacy I am ready for p≡p since a very long time ;-) Guter Endspurt, happy sprint! https://t.co/8iXIkXa8zS\n",
      "US-Wahl und das Silicon Valley: Clinton fordert #Netzneutralität https://t.co/RKcD2nhJ2l via @handelsblatt\n",
      "Nutzt Facebook die Ortsangaben von Telefonen zur Empfehlung neuer Freunde? Wie man das abschalten kann im #nexttweet https://t.co/WZji9debx6\n",
      "Planlos: Brexiteers krebsen zurück, Versprechen verschwinden klammheimlich von der Website https://t.co/L0gjNjm5Jw #Brexit via @watson_news\n",
      "Hybrid-Lastwagen mit Oberleitung – bald auch in der Schweiz? Was findest Du dazu? https://t.co/eIXFNNxVTi /cc @GrueneCH @RegulaRytz\n",
      "Balthasars Grüne Links wurde soeben publiziert! https://t.co/nm5eVockRv Beiträge u.a. von @peider @nr_mayagraf @UrsScheuss #cclausanne\n",
      ".@Refugees reports Global Refugees Trends 2015. One in 113 people is asylum seeker/internally replaced or a refugee: https://t.co/FRw50N3zww\n",
      "Start Abstimmungskampagne für @greeneconomy_ch: Wirtschaft auf grünen Pfad lenken https://t.co/q0ZF4odX1g via @20min https://t.co/KNf8IIQpr3\n",
      "Balthasars Grüne Links wurde soeben publiziert! https://t.co/RyKMzFl4l8 Beiträge u.a. von @RegulaRytz @FrickerJonas @Verts_genevois #brexit\n",
      "Und v.a. auch alle Teilnehmenden sollen sich in einem moderierten Open Forum einbringen können! https://t.co/3vZjR9MTqE\n",
      "How David Cameron blew it https://t.co/KEIHbAXYJ7 via @nuzzel\n",
      "Google Trends... genauer hinsehen ist wichtig, bevor man jede darauf bauende Story glaubt. https://t.co/l24HkV3bTj\n",
      "I signed up to volunteer for GrüneWi. Join me! https://t.co/ETtcsl3gDw\n",
      "JA zur Grünen Wirtschaft. Am 25. September 2016 /cc @greeneconomy_ch https://t.co/ECkwOElmpA\n",
      "Facebook bezahlt für Live-Videos Millionen (via @infosperber) https://t.co/8M6LN0NJLY\n",
      "Balthasars Grüne Links wurde soeben publiziert! https://t.co/zpTPyPeSVI Beiträge u.a. von @andreaskyriacou @SylviaLoehrmann @Duerr67 #brexit\n",
      "Avenir-Suisse-Direktor ist gegen unilateralen Inländervorrang https://t.co/42iBLDW9DM Genau die Position der Grünen: https://t.co/UCwn0uunST\n",
      "Völlig einig mit @Avenir_Suisse Direktor Peter Grünenfelder: Entweder gibt's unwahrscheinl Variante A) gemeinsame Lösung (zB Basis Ambühl 2)\n",
      "#Brexit Remain und Leave Votes (Wahlkreisgrösse entspricht Anzahl WählerInnen)  https://t.co/FR7DD7w2WB https://t.co/sF0yqqdwlV\n",
      "Five takeaways from the Spanish four-way debate https://t.co/kPJEjp905q #wahlen #spanien\n",
      "Zürich und die Unternehmenssteuerreform III: Die berechtigte Angst der Stadt vor dem Steuerverlust - NZZ https://t.co/9bHw5BPkrd\n",
      "Post-Brexit global equity loss of over $2 trillion worst ever https://t.co/YRk7ZDxiQg\n",
      "Balthasars Grüne Links wurde soeben publiziert! https://t.co/MCWeSc4VSp Beiträge u.a. von @mdemontmollin @peider @luziustheiler #svp\n",
      "Wie Kinder ihre Flucht festhalten. #StoryOfChange #Impactjournalism https://t.co/8vdv2iUy7W via @tagesanzeiger\n",
      "https://t.co/EaqkKT1Mit\n",
      "Balthasars Grüne Links wurde soeben publiziert! https://t.co/gnD7RX46zi Beiträge u.a. von @XimenaKM @AdrianAulbach @turlesque #brexit\n",
      "up'd his home: Mikroplastik schadet Umwelt und unserer Gesundheit https://t.co/yDZsZqTwoM\n",
      "Balthasars Grüne Links wurde soeben publiziert! https://t.co/yIS1oopuV1 Beiträge u.a. von @othommen @OttLukas_ @peider #brexit #europa\n",
      "Mikroplastik schadet Umwelt und unserer Gesundheit - ich bleibe dran! #parlCH https://t.co/Vtlbt62tIV https://t.co/fX101cOfDe\n",
      "Kreislaufwirtschaft statt Wegwerfwirtschaft: Der Nachfolger von Plastik wächst im Wald https://t.co/iQfzTLUQvM @gruenech #grünewirtschaft\n",
      "Balthasars Grüne Links wurde soeben publiziert! https://t.co/tewsrGOyo8 Beiträge u.a. von @matthi_bolte @mtoengi @BrunoVanoni1\n",
      "Soziale Netzwerke überholen Zeitungen als Nachrichtenquellen in Deutschland https://t.co/gTT5LhGoNI via @HolgerSchmidt\n",
      "Balthasars Grüne Links wurde soeben publiziert! https://t.co/EtHOtMvpc2 Beiträge u.a. von @dani_graf @LukiSami @bierino #tisa #groko\n",
      "Mozilla ruft zum Erhalt der #Netzneutralität auf https://t.co/OMb2wQlaQ6 https://t.co/y8bouJ5mvM\n",
      "Was war noch mal der Grundgedanke des Asyls? | Politblog - tagesanzeiger.ch https://t.co/JnTX480GHN via @nuzzel\n",
      "Meine Agenda ist zwar schon wieder voll am Fr/Sa mit Politik, aber vielleichts gibt es andere, die gern gehen! pl RT https://t.co/hYXMDYxSEE\n",
      "Türkische Flüchtlingspolitik im Zwielicht via @nzz https://t.co/RObP6SDnN6 via @nzz\n",
      "Neues BÜPF bringt Quellenschutz noch mehr in Gefahr: https://t.co/ZJCaYR5ROu #Büpf-Referendum JETZT unterschreiben: https://t.co/QIqRLOQ5bF\n",
      "Balthasars Grüne Links wurde soeben publiziert! https://t.co/iqulR1Hj0A Beiträge u.a. von @JanAlbrecht @peider @TerryReintke\n",
      "Balthasars Grüne Links wurde soeben publiziert! https://t.co/AA076nSTqF Beiträge u.a. von @lschmitter @adelethorens @andreaskyriacou\n",
      "#Kulturland schützen. Zersiedelungsinitiative unterschreiben https://t.co/zVEL5ccbQw @zersiedelung \n",
      " https://t.co/oQq4tjHC6G\n",
      "werde zum twitter power user mit diesen Tastaturkürzeln VIA @socialbakers https://t.co/xeOKO4gQ3v\n",
      "#refugeeswelcome #schutzstatthetze #protegeonslesrefugies https://t.co/TXHdocyRhi @GrueneCH  @migrantsrights https://t.co/FETucYhW11\n",
      "Syrisch-türkische Grenze: Türkische Soldaten sollen Flüchtlinge erschossen haben https://t.co/WBiMdyGt8U @GrueneCH fordern #savepassage!\n",
      "#refugeeswelcome mit Greis https://t.co/BvbcEugNJ1\n",
      "#refugeeswelcome https://t.co/zC8AA4Y3GW\n",
      "Balthasars Grüne Links wurde soeben publiziert! https://t.co/nF05LFL6Lu Beiträge u.a. von @CengizKulac @KaelinIrene @marcelbuehrig\n",
      "Frank A. Meyer: Misstrauen ist besser. - Darum NEIN im September zum neuen Nachrichtendienstgesetz #ndg https://t.co/IzPMolpvR7\n",
      "Protection des données personnelles : la CNIL lance une consultation sur le règlement européen\n",
      "https://t.co/lBp9mFuOox #datenschutz\n",
      "Balthasars Grüne Links wurde soeben publiziert! https://t.co/nHDji8DFRS Beiträge u.a. von @FleischmannUrs @SylviaLoehrmann @SkaKeller\n",
      "#refugeeswelcome Flüchtlinge brauchen https://t.co/TXHdocyRhi - Bitte RT wenn Du das auch findest! #flüchtlingstag https://t.co/0j5r4VnRdd\n",
      "Opposée à la politique migratoire de l’UE, MSF refuse l’argent européen https://t.co/ocA3uktMSP\n",
      "Hilfsgruppe will kein EU-Geld mehr https://t.co/aIbD5LZViu via @nzz\n",
      "Android-Nutzer aufgepasst: Post warnt vor Fake-SMS mit  gefährlichem Trojaner https://t.co/HL0kRVBoBN\n",
      "Balthasars Grüne Links wurde soeben publiziert! https://t.co/AKkYkDMBAH Beiträge u.a. von @dani_graf @fbenoy @surdeuropa #aşkkazanacak\n",
      "Balthasars Grüne Links wurde soeben publiziert! https://t.co/4xpNEPhohA Beiträge u.a. von @smiddy2812 @peider @GrueneCH #ungps #time4action\n",
      "Balthasars Grüne Links wurde soeben publiziert! https://t.co/pWWJhOMC6x Beiträge u.a. von @turlesque @nr_mayagraf @marcelbuehrig\n",
      "Balthasars Grüne Links wurde soeben publiziert! https://t.co/8oDJCPIiwu Beiträge u.a. von @bierino @mcw_bern @LukiSami #ndg #brexit\n",
      "Die acht leeren Versprchechungen der Befürworter des Nachrichtendienstgesetzes #NDG - eine lesenswerte Entgegnung #… https://t.co/OUr0heyww8\n",
      "La politique d'asile des verts: https://t.co/Mo5DDGcsii via @YouTube\n",
      "Asylpolitik: Die Haltung der Grünen: https://t.co/60z02uEFSe via @YouTube\n",
      "Balthasars Grüne Links wurde soeben publiziert! https://t.co/dT6wkSQSWd Beiträge u.a. von @GrueneCH @CengizKulac @sakneu #orlando #gerukr\n"
     ]
    }
   ],
   "source": [
    "response = twitter.get_user_timeline(screen_name='bglaettli',\n",
    "                                     count=1000,\n",
    "                                     include_rts=False,\n",
    "                                     exclude_replies=True)\n",
    "for item in response:\n",
    "    print(item['text'])"
   ]
  },
  {
   "cell_type": "code",
   "execution_count": 13,
   "metadata": {
    "collapsed": false
   },
   "outputs": [
    {
     "ename": "AttributeError",
     "evalue": "'list' object has no attribute '__name__'",
     "output_type": "error",
     "traceback": [
      "\u001b[0;31m---------------------------------------------------------------------------\u001b[0m",
      "\u001b[0;31mAttributeError\u001b[0m                            Traceback (most recent call last)",
      "\u001b[0;32m<ipython-input-13-66158c37d3eb>\u001b[0m in \u001b[0;36m<module>\u001b[0;34m()\u001b[0m\n\u001b[1;32m      4\u001b[0m                                      exclude_replies=True))\n\u001b[1;32m      5\u001b[0m \u001b[0mall_text\u001b[0m \u001b[0;34m=\u001b[0m \u001b[0mlist\u001b[0m\u001b[0;34m(\u001b[0m\u001b[0;34m)\u001b[0m\u001b[0;34m\u001b[0m\u001b[0m\n\u001b[0;32m----> 6\u001b[0;31m \u001b[0;32mfor\u001b[0m \u001b[0mtweet\u001b[0m \u001b[0;32min\u001b[0m \u001b[0mcursor\u001b[0m\u001b[0;34m:\u001b[0m\u001b[0;34m\u001b[0m\u001b[0m\n\u001b[0m\u001b[1;32m      7\u001b[0m     \u001b[0mall_text\u001b[0m\u001b[0;34m.\u001b[0m\u001b[0mappend\u001b[0m\u001b[0;34m(\u001b[0m\u001b[0mtweet\u001b[0m\u001b[0;34m)\u001b[0m\u001b[0;34m\u001b[0m\u001b[0m\n",
      "\u001b[0;32m/usr/local/lib/python3.5/site-packages/twython/api.py\u001b[0m in \u001b[0;36mcursor\u001b[0;34m(self, function, return_pages, **params)\u001b[0m\n\u001b[1;32m    473\u001b[0m         \u001b[0;32mif\u001b[0m \u001b[0;32mnot\u001b[0m \u001b[0mhasattr\u001b[0m\u001b[0;34m(\u001b[0m\u001b[0mfunction\u001b[0m\u001b[0;34m,\u001b[0m \u001b[0;34m'iter_mode'\u001b[0m\u001b[0;34m)\u001b[0m\u001b[0;34m:\u001b[0m\u001b[0;34m\u001b[0m\u001b[0m\n\u001b[1;32m    474\u001b[0m             raise TwythonError('Unable to create generator for Twython \\\n\u001b[0;32m--> 475\u001b[0;31m                                method \"%s\"' % function.__name__)\n\u001b[0m\u001b[1;32m    476\u001b[0m \u001b[0;34m\u001b[0m\u001b[0m\n\u001b[1;32m    477\u001b[0m         \u001b[0;32mwhile\u001b[0m \u001b[0;32mTrue\u001b[0m\u001b[0;34m:\u001b[0m\u001b[0;34m\u001b[0m\u001b[0m\n",
      "\u001b[0;31mAttributeError\u001b[0m: 'list' object has no attribute '__name__'"
     ]
    }
   ],
   "source": [
    "cursor = twitter.cursor(twitter.get_user_timeline(screen_name='bglaettli',\n",
    "                                     count=100,\n",
    "                                     include_rts=False,\n",
    "                                     exclude_replies=True))\n",
    "all_text = list()\n",
    "for tweet in cursor:\n",
    "    all_text.append(tweet)"
   ]
  },
  {
   "cell_type": "code",
   "execution_count": null,
   "metadata": {
    "collapsed": true
   },
   "outputs": [],
   "source": []
  }
 ],
 "metadata": {
  "kernelspec": {
   "display_name": "Python 3",
   "language": "python",
   "name": "python3"
  },
  "language_info": {
   "codemirror_mode": {
    "name": "ipython",
    "version": 3
   },
   "file_extension": ".py",
   "mimetype": "text/x-python",
   "name": "python",
   "nbconvert_exporter": "python",
   "pygments_lexer": "ipython3",
   "version": "3.5.1"
  }
 },
 "nbformat": 4,
 "nbformat_minor": 0
}
