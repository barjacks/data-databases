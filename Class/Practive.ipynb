{
 "cells": [
  {
   "cell_type": "code",
   "execution_count": 5,
   "metadata": {
    "collapsed": true
   },
   "outputs": [],
   "source": [
    "from bs4 import BeautifulSoup\n",
    "from urllib.request import urlopen\n",
    "html = urlopen(\"http://static.decontextualize.com/cats.html\").read()\n",
    "document = BeautifulSoup(html, \"html.parser\")\n",
    "import re"
   ]
  },
  {
   "cell_type": "code",
   "execution_count": 21,
   "metadata": {
    "collapsed": false
   },
   "outputs": [
    {
     "data": {
      "text/plain": [
       "[{'birthdate': '2015-05-20',\n",
       "  'color': 'black',\n",
       "  'location': ['Paws and Play', ' Independent Claws*'],\n",
       "  'name': 'Sylvester',\n",
       "  'pattern': 'colorpoint',\n",
       "  'weight': '10.46'},\n",
       " {'birthdate': '2000-01-03',\n",
       "  'color': 'cinnamon',\n",
       "  'location': ['Independent Claws*'],\n",
       "  'name': 'Jasper',\n",
       "  'pattern': 'solid',\n",
       "  'weight': '8.06'},\n",
       " {'birthdate': '2006-02-27',\n",
       "  'color': 'brown',\n",
       "  'location': ['Independent Claws*'],\n",
       "  'name': 'Luna',\n",
       "  'pattern': 'tortoiseshell',\n",
       "  'weight': '10.88'},\n",
       " {'birthdate': '2015-08-13',\n",
       "  'color': 'white',\n",
       "  'location': ['Tall Tails*', ' Hang In There'],\n",
       "  'name': 'Georges',\n",
       "  'pattern': 'tabby',\n",
       "  'weight': '9.40'},\n",
       " {'birthdate': '2003-09-13',\n",
       "  'color': 'red',\n",
       "  'location': ['Paws and Play*'],\n",
       "  'name': 'Millie',\n",
       "  'pattern': 'bicolor',\n",
       "  'weight': '9.27'},\n",
       " {'birthdate': '2009-07-30',\n",
       "  'color': 'cream',\n",
       "  'location': ['Hang In There*'],\n",
       "  'name': 'Lisa',\n",
       "  'pattern': 'colorpoint',\n",
       "  'weight': '8.84'},\n",
       " {'birthdate': '2011-12-15',\n",
       "  'color': 'cream',\n",
       "  'location': ['Hang In There*', ' Cats Meow', ' Tall Tails'],\n",
       "  'name': 'Oscar',\n",
       "  'pattern': 'solid',\n",
       "  'weight': '8.44'},\n",
       " {'birthdate': '2015-12-30',\n",
       "  'color': 'lilac',\n",
       "  'location': ['Paws and Play*', ' Cats Meow'],\n",
       "  'name': 'Scaredy',\n",
       "  'pattern': 'tabby',\n",
       "  'weight': '8.83'},\n",
       " {'birthdate': '2013-10-16',\n",
       "  'color': 'blue',\n",
       "  'location': ['Independent Claws', ' Paws and Play*'],\n",
       "  'name': 'Charlotte',\n",
       "  'pattern': 'tabby',\n",
       "  'weight': '9.54'},\n",
       " {'birthdate': '2011-02-07',\n",
       "  'color': 'white',\n",
       "  'location': ['Independent Claws*', ' Hang In There'],\n",
       "  'name': 'Whiskers',\n",
       "  'pattern': 'colorpoint',\n",
       "  'weight': '9.47'},\n",
       " {'birthdate': '2007-05-28',\n",
       "  'color': 'lilac',\n",
       "  'location': ['Independent Claws', ' Cats Meow*', ' Paws and Play'],\n",
       "  'name': 'Patches',\n",
       "  'pattern': 'colorpoint',\n",
       "  'weight': '10.12'},\n",
       " {'birthdate': '1998-12-01',\n",
       "  'color': 'black',\n",
       "  'location': ['Independent Claws', ' Paws and Play*'],\n",
       "  'name': 'Charly',\n",
       "  'pattern': 'bicolor',\n",
       "  'weight': '9.20'},\n",
       " {'birthdate': '2013-04-09',\n",
       "  'color': 'black',\n",
       "  'location': ['Hang In There', ' Tall Tails*'],\n",
       "  'name': 'Mimi',\n",
       "  'pattern': 'solid',\n",
       "  'weight': '9.19'},\n",
       " {'birthdate': '2000-06-28',\n",
       "  'color': 'black',\n",
       "  'location': ['Hang In There*'],\n",
       "  'name': 'Samantha',\n",
       "  'pattern': 'solid',\n",
       "  'weight': '7.49'},\n",
       " {'birthdate': '2014-08-16',\n",
       "  'color': 'fawn',\n",
       "  'location': ['Independent Claws*', ' Paws and Play'],\n",
       "  'name': 'Bella',\n",
       "  'pattern': 'solid',\n",
       "  'weight': '10.47'},\n",
       " {'birthdate': '2009-01-28',\n",
       "  'color': 'cinnamon',\n",
       "  'location': ['Tall Tails*'],\n",
       "  'name': 'Angel',\n",
       "  'pattern': 'tortoiseshell',\n",
       "  'weight': '9.72'},\n",
       " {'birthdate': '2015-12-16',\n",
       "  'color': 'cinnamon',\n",
       "  'location': ['Paws and Play*'],\n",
       "  'name': 'Garfield',\n",
       "  'pattern': 'calico',\n",
       "  'weight': '7.18'},\n",
       " {'birthdate': '1997-06-12',\n",
       "  'color': 'red',\n",
       "  'location': ['Paws and Play*', ' Tall Tails'],\n",
       "  'name': 'Oliver',\n",
       "  'pattern': 'bicolor',\n",
       "  'weight': '9.44'},\n",
       " {'birthdate': '2010-12-22',\n",
       "  'color': 'red',\n",
       "  'location': ['Hang In There', ' Independent Claws*'],\n",
       "  'name': 'Moritz',\n",
       "  'pattern': 'tortoiseshell',\n",
       "  'weight': '10.10'},\n",
       " {'birthdate': '2009-01-10',\n",
       "  'color': 'cream',\n",
       "  'location': ['Cats Meow', ' Independent Claws*', ' Tall Tails'],\n",
       "  'name': 'Stevens',\n",
       "  'pattern': 'bicolor',\n",
       "  'weight': '8.12'},\n",
       " {'birthdate': '2010-11-30',\n",
       "  'color': 'cinnamon',\n",
       "  'location': ['Independent Claws*'],\n",
       "  'name': 'Sassy',\n",
       "  'pattern': 'solid',\n",
       "  'weight': '8.67'},\n",
       " {'birthdate': '2003-04-14',\n",
       "  'color': 'red',\n",
       "  'location': ['Hang In There*', ' Tall Tails'],\n",
       "  'name': 'Lily',\n",
       "  'pattern': 'bicolor',\n",
       "  'weight': '10.01'},\n",
       " {'birthdate': '2014-05-15',\n",
       "  'color': 'blue',\n",
       "  'location': ['Paws and Play*', ' Independent Claws', ' Tall Tails'],\n",
       "  'name': \"O'Malley\",\n",
       "  'pattern': 'tortoiseshell',\n",
       "  'weight': '8.86'},\n",
       " {'birthdate': '2009-01-18',\n",
       "  'color': 'cinnamon',\n",
       "  'location': ['Tall Tails*'],\n",
       "  'name': 'Maru',\n",
       "  'pattern': 'bicolor',\n",
       "  'weight': '10.09'},\n",
       " {'birthdate': '2004-03-04',\n",
       "  'color': 'lilac',\n",
       "  'location': ['Tall Tails', ' Hang In There', ' Cats Meow*'],\n",
       "  'name': 'Oreo',\n",
       "  'pattern': 'bicolor',\n",
       "  'weight': '10.76'},\n",
       " {'birthdate': '2005-05-17',\n",
       "  'color': 'brown',\n",
       "  'location': ['Cats Meow', ' Paws and Play', ' Tall Tails*'],\n",
       "  'name': 'Molly',\n",
       "  'pattern': 'colorpoint',\n",
       "  'weight': '9.58'},\n",
       " {'birthdate': '2007-06-25',\n",
       "  'color': 'brown',\n",
       "  'location': ['Hang In There', ' Independent Claws', ' Cats Meow*'],\n",
       "  'name': 'Minette',\n",
       "  'pattern': 'calico',\n",
       "  'weight': '8.84'},\n",
       " {'birthdate': '2011-02-20',\n",
       "  'color': 'red',\n",
       "  'location': ['Paws and Play*'],\n",
       "  'name': 'Smudge',\n",
       "  'pattern': 'colorpoint',\n",
       "  'weight': '12.00'},\n",
       " {'birthdate': '2007-12-02',\n",
       "  'color': 'black',\n",
       "  'location': ['Cats Meow', ' Hang In There', ' Independent Claws*'],\n",
       "  'name': 'Jack',\n",
       "  'pattern': 'colorpoint',\n",
       "  'weight': '9.92'},\n",
       " {'birthdate': '2009-05-06',\n",
       "  'color': 'red',\n",
       "  'location': ['Paws and Play*'],\n",
       "  'name': 'Lolcat',\n",
       "  'pattern': 'bicolor',\n",
       "  'weight': '8.88'},\n",
       " {'birthdate': '1998-07-18',\n",
       "  'color': 'cinnamon',\n",
       "  'location': ['Independent Claws*'],\n",
       "  'name': 'Diana',\n",
       "  'pattern': 'colorpoint',\n",
       "  'weight': '7.81'},\n",
       " {'birthdate': '1997-11-29',\n",
       "  'color': 'brown',\n",
       "  'location': ['Tall Tails*'],\n",
       "  'name': 'Minka',\n",
       "  'pattern': 'tabby',\n",
       "  'weight': '9.37'},\n",
       " {'birthdate': '1997-03-09',\n",
       "  'color': 'lilac',\n",
       "  'location': ['Independent Claws', ' Cats Meow', ' Hang In There*'],\n",
       "  'name': 'Carlos',\n",
       "  'pattern': 'tabby',\n",
       "  'weight': '9.92'},\n",
       " {'birthdate': '1998-03-24',\n",
       "  'color': 'cinnamon',\n",
       "  'location': ['Tall Tails', ' Independent Claws', ' Hang In There*'],\n",
       "  'name': 'Roquefort',\n",
       "  'pattern': 'colorpoint',\n",
       "  'weight': '9.73'},\n",
       " {'birthdate': '2005-12-25',\n",
       "  'color': 'brown',\n",
       "  'location': ['Independent Claws', ' Paws and Play*'],\n",
       "  'name': 'Chanel',\n",
       "  'pattern': 'tabby',\n",
       "  'weight': '9.04'},\n",
       " {'birthdate': '2003-12-07',\n",
       "  'color': 'black',\n",
       "  'location': ['Hang In There*', ' Independent Claws'],\n",
       "  'name': 'Jiji',\n",
       "  'pattern': 'tabby',\n",
       "  'weight': '10.35'},\n",
       " {'birthdate': '1997-01-04',\n",
       "  'color': 'fawn',\n",
       "  'location': ['Paws and Play*', ' Cats Meow'],\n",
       "  'name': 'Poppy',\n",
       "  'pattern': 'calico',\n",
       "  'weight': '9.89'},\n",
       " {'birthdate': '2010-10-30',\n",
       "  'color': 'cinnamon',\n",
       "  'location': ['Tall Tails*'],\n",
       "  'name': 'Berlioz',\n",
       "  'pattern': 'colorpoint',\n",
       "  'weight': '11.37'},\n",
       " {'birthdate': '2010-02-26',\n",
       "  'color': 'fawn',\n",
       "  'location': ['Hang In There', ' Tall Tails', ' Independent Claws*'],\n",
       "  'name': 'Max',\n",
       "  'pattern': 'colorpoint',\n",
       "  'weight': '8.72'},\n",
       " {'birthdate': '1999-01-09',\n",
       "  'color': 'white',\n",
       "  'location': ['Cats Meow*', ' Independent Claws', ' Tall Tails'],\n",
       "  'name': 'Lafayette',\n",
       "  'pattern': 'tortoiseshell',\n",
       "  'weight': '9.30'}]"
      ]
     },
     "execution_count": 21,
     "metadata": {},
     "output_type": "execute_result"
    }
   ],
   "source": [
    "cat_list = list()\n",
    "cat_table = document.find('table', {'class': 'cat-list'})\n",
    "tbody = cat_table.find('tbody')\n",
    "for tr_tag in tbody.find_all('tr'):\n",
    "    cat_dict = {}\n",
    "    name = tr_tag.find(\"td\", {'class': 'name' })\n",
    "    birthdate = tr_tag.find(\"td\", {'class': 'birthdate' })\n",
    "    weight = tr_tag.find(\"td\", {'class': 'weight' })\n",
    "    color = tr_tag.find(\"td\", {'class': 'color' })\n",
    "    pattern = tr_tag.find(\"td\", {'class': 'pattern' })\n",
    "    locations = (tr_tag.find(\"td\", {'class': 'locations' }).string).split(\",\")\n",
    "    cat_dict = {'name': name.string, 'birthdate' : birthdate.string, 'weight' : weight.string, 'color' : \\\n",
    "                color.string, 'pattern' : pattern.string, 'location' : locations}\n",
    "    \n",
    "    cat_list.append(cat_dict)\n",
    "cat_list"
   ]
  },
  {
   "cell_type": "code",
   "execution_count": 7,
   "metadata": {
    "collapsed": true
   },
   "outputs": [],
   "source": [
    "cafe_name_id_map = {'Cats Meow': 5,\n",
    " 'Hang In There': 1,\n",
    " 'Independent Claws': 2,\n",
    " 'Paws and Play': 3,\n",
    " 'Tall Tails': 4}"
   ]
  },
  {
   "cell_type": "code",
   "execution_count": 8,
   "metadata": {
    "collapsed": false
   },
   "outputs": [
    {
     "name": "stdout",
     "output_type": "stream",
     "text": [
      "Hang In There\n",
      "Cats Meow\n",
      "Tall Tails\n",
      "Independent Claws\n",
      "Paws and Play\n"
     ]
    }
   ],
   "source": [
    "for x in cafe_name_id_map:\n",
    "    print(x)"
   ]
  },
  {
   "cell_type": "code",
   "execution_count": 9,
   "metadata": {
    "collapsed": true
   },
   "outputs": [],
   "source": [
    "cat_id_map = {'Angel': 56,\n",
    " 'Bella': 55,\n",
    " 'Berlioz': 78,\n",
    " 'Carlos': 73,\n",
    " 'Chanel': 75,\n",
    " 'Charlotte': 49,\n",
    " 'Charly': 52,\n",
    " 'Diana': 71,\n",
    " 'Garfield': 57,\n",
    " 'Georges': 44,\n",
    " 'Jack': 69,\n",
    " 'Jasper': 42,\n",
    " 'Jiji': 76,\n",
    " 'Lafayette': 80,\n",
    " 'Lily': 62,\n",
    " 'Lisa': 46,\n",
    " 'Lolcat': 70,\n",
    " 'Luna': 43,\n",
    " 'Maru': 64,\n",
    " 'Max': 79,\n",
    " 'Millie': 45,\n",
    " 'Mimi': 53,\n",
    " 'Minette': 67,\n",
    " 'Minka': 72,\n",
    " 'Molly': 66,\n",
    " 'Moritz': 59,\n",
    " \"O'Malley\": 63,\n",
    " 'Oliver': 58,\n",
    " 'Oreo': 65,\n",
    " 'Oscar': 47,\n",
    " 'Patches': 51,\n",
    " 'Poppy': 77,\n",
    " 'Roquefort': 74,\n",
    " 'Samantha': 54,\n",
    " 'Sassy': 61,\n",
    " 'Scaredy': 48,\n",
    " 'Smudge': 68,\n",
    " 'Stevens': 60,\n",
    " 'Sylvester': 41,\n",
    " 'Whiskers': 50}"
   ]
  },
  {
   "cell_type": "code",
   "execution_count": 10,
   "metadata": {
    "collapsed": false
   },
   "outputs": [
    {
     "name": "stdout",
     "output_type": "stream",
     "text": [
      "{'Carlos': 73, 'Maru': 64, 'Poppy': 77, 'Lolcat': 70, 'Berlioz': 78, 'Molly': 66, 'Whiskers': 50, 'Minette': 67, 'Lisa': 46, 'Georges': 44, 'Minka': 72, 'Oliver': 58, 'Mimi': 53, 'Garfield': 57, 'Jasper': 42, 'Sassy': 61, 'Charly': 52, 'Roquefort': 74, 'Samantha': 54, \"O'Malley\": 63, 'Lily': 62, 'Sylvester': 41, 'Patches': 51, 'Angel': 56, 'Max': 79, 'Smudge': 68, 'Millie': 45, 'Luna': 43, 'Scaredy': 48, 'Moritz': 59, 'Diana': 71, 'Jack': 69, 'Bella': 55, 'Charlotte': 49, 'Stevens': 60, 'Chanel': 75, 'Oreo': 65, 'Jiji': 76, 'Oscar': 47, 'Lafayette': 80}\n"
     ]
    }
   ],
   "source": [
    "print(cat_id_map)"
   ]
  },
  {
   "cell_type": "code",
   "execution_count": 18,
   "metadata": {
    "collapsed": true
   },
   "outputs": [],
   "source": [
    "#Function translate to cafe_id number\n",
    "def cat_id_number(x):\n",
    "    if cafe == x:\n",
    "        return cat_id_map.get(x)"
   ]
  },
  {
   "cell_type": "code",
   "execution_count": 20,
   "metadata": {
    "collapsed": false
   },
   "outputs": [
    {
     "name": "stdout",
     "output_type": "stream",
     "text": [
      "Carlos\n",
      "Maru\n",
      "Poppy\n",
      "Lolcat\n",
      "Berlioz\n",
      "Molly\n",
      "Whiskers\n",
      "Minette\n",
      "Lisa\n",
      "Georges\n",
      "Minka\n",
      "Oliver\n",
      "Mimi\n",
      "Garfield\n",
      "Jasper\n",
      "Sassy\n",
      "Charly\n",
      "Roquefort\n",
      "Samantha\n",
      "O'Malley\n",
      "Lily\n",
      "Sylvester\n",
      "Patches\n",
      "Angel\n",
      "Max\n",
      "Smudge\n",
      "Millie\n",
      "Luna\n",
      "Scaredy\n",
      "Moritz\n",
      "Diana\n",
      "Jack\n",
      "Bella\n",
      "Charlotte\n",
      "Stevens\n",
      "Chanel\n",
      "Oreo\n",
      "Jiji\n",
      "Oscar\n",
      "Lafayette\n"
     ]
    }
   ],
   "source": [
    "for cat in cat_id_map:\n",
    "    print(cat)"
   ]
  },
  {
   "cell_type": "code",
   "execution_count": null,
   "metadata": {
    "collapsed": true
   },
   "outputs": [],
   "source": []
  },
  {
   "cell_type": "code",
   "execution_count": null,
   "metadata": {
    "collapsed": true
   },
   "outputs": [],
   "source": []
  },
  {
   "cell_type": "code",
   "execution_count": null,
   "metadata": {
    "collapsed": true
   },
   "outputs": [],
   "source": []
  },
  {
   "cell_type": "code",
   "execution_count": 12,
   "metadata": {
    "collapsed": false
   },
   "outputs": [],
   "source": [
    "#Function to extract location from list in catlist dictionary\n",
    "def location(x):\n",
    "    x = x['location']\n",
    "    for y in x:\n",
    "        return y\n",
    "    \n",
    "#Function to take off the * at the end of each cafe with a star so as to match them at later point\n",
    "def no_star_cafe(x):\n",
    "    #x = location(x)\n",
    "    if re.search(r\"(\\*)$\", x):\n",
    "        return cafe[:-1]\n",
    "    else:\n",
    "        return cafe\n",
    "\n",
    "#Function to list cafes with a star\n",
    "def current_location(x):\n",
    "    if re.search(r\"(\\*)$\", x):\n",
    "        return True\n",
    "    else: \n",
    "        return False\n",
    "    \n",
    "#Function translate to cafe_id number\n",
    "def cafe_id_number(x):\n",
    "    if cafe == x:\n",
    "        return cafe_name_id_map.get(x)\n",
    "    "
   ]
  },
  {
   "cell_type": "code",
   "execution_count": 19,
   "metadata": {
    "collapsed": false
   },
   "outputs": [
    {
     "name": "stdout",
     "output_type": "stream",
     "text": [
      "None 3\n",
      "None 2\n",
      "None 2\n",
      "None 4\n",
      "None 3\n",
      "None 1\n",
      "None 1\n",
      "None 3\n",
      "None 2\n",
      "None 2\n",
      "None 2\n",
      "None 2\n",
      "None 1\n",
      "None 1\n",
      "None 2\n",
      "None 4\n",
      "None 3\n",
      "None 3\n",
      "None 1\n",
      "None 5\n",
      "None 2\n",
      "None 1\n",
      "None 3\n",
      "None 4\n",
      "None 4\n",
      "None 5\n",
      "None 1\n",
      "None 3\n",
      "None 5\n",
      "None 3\n",
      "None 2\n",
      "None 4\n",
      "None 2\n",
      "None 4\n",
      "None 2\n",
      "None 1\n",
      "None 3\n",
      "None 4\n",
      "None 1\n",
      "None 5\n"
     ]
    }
   ],
   "source": [
    "#Extrating cat_cafe_id for all cat locations:\n",
    "for cafe in cat_list:\n",
    "    #print(\"cafecafecafecafecafecafe\")\n",
    "    #cafe = location(cafe)\n",
    "    cafe = location(cafe)\n",
    "    #print(\"locationlocationlocationlocationlocation\")\n",
    "    #cafes without stars\n",
    "    cafe = no_star_cafe(cafe)\n",
    "    #print(\"no_star_cafeno_star_cafeno_star_cafeno_star_cafe\")\n",
    "    #getting and listing only the cafe_id instead of the cafe_name\n",
    "    cafe_id = cafe_id_number(cafe)\n",
    "    cat_id = cat_id_number(cafe)\n",
    "    #print(\"cafe_id_numbercafe_id_numbercafe_id_numbercafe_id_numbercafe_id_number\")\n",
    "    print(cat_id, cafe_id)"
   ]
  },
  {
   "cell_type": "code",
   "execution_count": null,
   "metadata": {
    "collapsed": true
   },
   "outputs": [],
   "source": []
  },
  {
   "cell_type": "code",
   "execution_count": 75,
   "metadata": {
    "collapsed": false
   },
   "outputs": [
    {
     "ename": "TypeError",
     "evalue": "expected string or bytes-like object",
     "output_type": "error",
     "traceback": [
      "\u001b[0;31m---------------------------------------------------------------------------\u001b[0m",
      "\u001b[0;31mTypeError\u001b[0m                                 Traceback (most recent call last)",
      "\u001b[0;32m<ipython-input-75-54d83ec35552>\u001b[0m in \u001b[0;36m<module>\u001b[0;34m()\u001b[0m\n\u001b[1;32m      1\u001b[0m \u001b[0;31m#Extrating all the cafes, without the star\u001b[0m\u001b[0;34m\u001b[0m\u001b[0;34m\u001b[0m\u001b[0m\n\u001b[1;32m      2\u001b[0m \u001b[0;32mfor\u001b[0m \u001b[0mcafe\u001b[0m \u001b[0;32min\u001b[0m \u001b[0mcat_list\u001b[0m\u001b[0;34m:\u001b[0m\u001b[0;34m\u001b[0m\u001b[0m\n\u001b[0;32m----> 3\u001b[0;31m     \u001b[0mcafe\u001b[0m \u001b[0;34m=\u001b[0m \u001b[0mcat_cafe_id_number\u001b[0m\u001b[0;34m(\u001b[0m\u001b[0mcafe\u001b[0m\u001b[0;34m)\u001b[0m\u001b[0;34m\u001b[0m\u001b[0m\n\u001b[0m",
      "\u001b[0;32m<ipython-input-72-98b721805bce>\u001b[0m in \u001b[0;36mcat_cafe_id_number\u001b[0;34m(a)\u001b[0m\n\u001b[1;32m     29\u001b[0m     \u001b[0mb\u001b[0m \u001b[0;34m=\u001b[0m \u001b[0mlocation\u001b[0m\u001b[0;34m(\u001b[0m\u001b[0ma\u001b[0m\u001b[0;34m)\u001b[0m\u001b[0;34m\u001b[0m\u001b[0m\n\u001b[1;32m     30\u001b[0m     \u001b[0mc\u001b[0m \u001b[0;34m=\u001b[0m \u001b[0mno_star_cafe\u001b[0m\u001b[0;34m(\u001b[0m\u001b[0mb\u001b[0m\u001b[0;34m)\u001b[0m\u001b[0;34m\u001b[0m\u001b[0m\n\u001b[0;32m---> 31\u001b[0;31m     \u001b[0md\u001b[0m \u001b[0;34m=\u001b[0m \u001b[0mcurrent_location\u001b[0m\u001b[0;34m(\u001b[0m\u001b[0mc\u001b[0m\u001b[0;34m)\u001b[0m\u001b[0;34m\u001b[0m\u001b[0m\n\u001b[0m\u001b[1;32m     32\u001b[0m     \u001b[0me\u001b[0m \u001b[0;34m=\u001b[0m \u001b[0mcafe_id_number\u001b[0m\u001b[0;34m(\u001b[0m\u001b[0md\u001b[0m\u001b[0;34m)\u001b[0m\u001b[0;34m\u001b[0m\u001b[0m\n\u001b[1;32m     33\u001b[0m     \u001b[0;32mreturn\u001b[0m \u001b[0me\u001b[0m\u001b[0;34m\u001b[0m\u001b[0m\n",
      "\u001b[0;32m<ipython-input-72-98b721805bce>\u001b[0m in \u001b[0;36mcurrent_location\u001b[0;34m(x)\u001b[0m\n\u001b[1;32m     15\u001b[0m \u001b[0;31m#Function to list cafes with a star\u001b[0m\u001b[0;34m\u001b[0m\u001b[0;34m\u001b[0m\u001b[0m\n\u001b[1;32m     16\u001b[0m \u001b[0;32mdef\u001b[0m \u001b[0mcurrent_location\u001b[0m\u001b[0;34m(\u001b[0m\u001b[0mx\u001b[0m\u001b[0;34m)\u001b[0m\u001b[0;34m:\u001b[0m\u001b[0;34m\u001b[0m\u001b[0m\n\u001b[0;32m---> 17\u001b[0;31m     \u001b[0;32mif\u001b[0m \u001b[0mre\u001b[0m\u001b[0;34m.\u001b[0m\u001b[0msearch\u001b[0m\u001b[0;34m(\u001b[0m\u001b[0;34mr\"(\\*)$\"\u001b[0m\u001b[0;34m,\u001b[0m \u001b[0mx\u001b[0m\u001b[0;34m)\u001b[0m\u001b[0;34m:\u001b[0m\u001b[0;34m\u001b[0m\u001b[0m\n\u001b[0m\u001b[1;32m     18\u001b[0m         \u001b[0;32mreturn\u001b[0m \u001b[0;32mTrue\u001b[0m\u001b[0;34m\u001b[0m\u001b[0m\n\u001b[1;32m     19\u001b[0m     \u001b[0;32melse\u001b[0m\u001b[0;34m:\u001b[0m\u001b[0;34m\u001b[0m\u001b[0m\n",
      "\u001b[0;32m/usr/local/Cellar/python3/3.5.1/Frameworks/Python.framework/Versions/3.5/lib/python3.5/re.py\u001b[0m in \u001b[0;36msearch\u001b[0;34m(pattern, string, flags)\u001b[0m\n\u001b[1;32m    171\u001b[0m     \"\"\"Scan through string looking for a match to the pattern, returning\n\u001b[1;32m    172\u001b[0m     a match object, or None if no match was found.\"\"\"\n\u001b[0;32m--> 173\u001b[0;31m     \u001b[0;32mreturn\u001b[0m \u001b[0m_compile\u001b[0m\u001b[0;34m(\u001b[0m\u001b[0mpattern\u001b[0m\u001b[0;34m,\u001b[0m \u001b[0mflags\u001b[0m\u001b[0;34m)\u001b[0m\u001b[0;34m.\u001b[0m\u001b[0msearch\u001b[0m\u001b[0;34m(\u001b[0m\u001b[0mstring\u001b[0m\u001b[0;34m)\u001b[0m\u001b[0;34m\u001b[0m\u001b[0m\n\u001b[0m\u001b[1;32m    174\u001b[0m \u001b[0;34m\u001b[0m\u001b[0m\n\u001b[1;32m    175\u001b[0m \u001b[0;32mdef\u001b[0m \u001b[0msub\u001b[0m\u001b[0;34m(\u001b[0m\u001b[0mpattern\u001b[0m\u001b[0;34m,\u001b[0m \u001b[0mrepl\u001b[0m\u001b[0;34m,\u001b[0m \u001b[0mstring\u001b[0m\u001b[0;34m,\u001b[0m \u001b[0mcount\u001b[0m\u001b[0;34m=\u001b[0m\u001b[0;36m0\u001b[0m\u001b[0;34m,\u001b[0m \u001b[0mflags\u001b[0m\u001b[0;34m=\u001b[0m\u001b[0;36m0\u001b[0m\u001b[0;34m)\u001b[0m\u001b[0;34m:\u001b[0m\u001b[0;34m\u001b[0m\u001b[0m\n",
      "\u001b[0;31mTypeError\u001b[0m: expected string or bytes-like object"
     ]
    }
   ],
   "source": [
    "#Extrating all the cafes, without the star\n",
    "for cafe in cat_list:\n",
    "    cafe = cat_cafe_id_number(cafe)"
   ]
  },
  {
   "cell_type": "code",
   "execution_count": 92,
   "metadata": {
    "collapsed": false
   },
   "outputs": [
    {
     "name": "stdout",
     "output_type": "stream",
     "text": [
      "3\n",
      "2\n",
      "2\n",
      "4\n",
      "3\n",
      "1\n",
      "1\n",
      "3\n",
      "2\n",
      "2\n",
      "2\n",
      "2\n",
      "1\n",
      "1\n",
      "2\n",
      "4\n",
      "3\n",
      "3\n",
      "1\n",
      "5\n",
      "2\n",
      "1\n",
      "3\n",
      "4\n",
      "4\n",
      "5\n",
      "1\n",
      "3\n",
      "5\n",
      "3\n",
      "2\n",
      "4\n",
      "2\n",
      "4\n",
      "2\n",
      "1\n",
      "3\n",
      "4\n",
      "1\n",
      "5\n"
     ]
    }
   ],
   "source": [
    "#Extrating cat_cafe_id for all cat locations:\n",
    "for cafe in cat_list:\n",
    "    #cafe = location(cafe)\n",
    "    cafe = location(cafe)\n",
    "    #cafes without stars\n",
    "    cafe = no_star_cafe(cafe)\n",
    "    #getting and listing only the cafe_id instead of the cafe_name\n",
    "    for x in cafe_name_id_map.keys():\n",
    "        if cafe == x:\n",
    "            y = cafe_name_id_map.get(x)\n",
    "    print(y)"
   ]
  },
  {
   "cell_type": "code",
   "execution_count": 24,
   "metadata": {
    "collapsed": false
   },
   "outputs": [
    {
     "name": "stdout",
     "output_type": "stream",
     "text": [
      "False\n",
      "True\n",
      "True\n",
      "True\n",
      "True\n",
      "True\n",
      "True\n",
      "True\n",
      "False\n",
      "True\n",
      "False\n",
      "False\n",
      "False\n",
      "True\n",
      "True\n",
      "True\n",
      "True\n",
      "True\n",
      "False\n",
      "False\n",
      "True\n",
      "True\n",
      "True\n",
      "True\n",
      "False\n",
      "False\n",
      "False\n",
      "True\n",
      "False\n",
      "True\n",
      "True\n",
      "True\n",
      "False\n",
      "False\n",
      "False\n",
      "True\n",
      "True\n",
      "True\n",
      "False\n",
      "True\n"
     ]
    }
   ],
   "source": [
    "for cafe in cat_list:\n",
    "    #cafe = location(cafe)\n",
    "    cafe = location(cafe)\n",
    "    cafe = current_location(cafe)\n",
    "    print(cafe)"
   ]
  },
  {
   "cell_type": "code",
   "execution_count": 63,
   "metadata": {
    "collapsed": false
   },
   "outputs": [
    {
     "ename": "NameError",
     "evalue": "name 'y' is not defined",
     "output_type": "error",
     "traceback": [
      "\u001b[0;31m---------------------------------------------------------------------------\u001b[0m",
      "\u001b[0;31mNameError\u001b[0m                                 Traceback (most recent call last)",
      "\u001b[0;32m<ipython-input-63-376b2a8dcf8b>\u001b[0m in \u001b[0;36m<module>\u001b[0;34m()\u001b[0m\n\u001b[1;32m      2\u001b[0m     \u001b[0;32mif\u001b[0m \u001b[0mcafe\u001b[0m \u001b[0;34m==\u001b[0m \u001b[0mx\u001b[0m\u001b[0;34m:\u001b[0m\u001b[0;34m\u001b[0m\u001b[0m\n\u001b[1;32m      3\u001b[0m         \u001b[0my\u001b[0m \u001b[0;34m=\u001b[0m \u001b[0mcafe_name_id_map\u001b[0m\u001b[0;34m.\u001b[0m\u001b[0mget\u001b[0m\u001b[0;34m(\u001b[0m\u001b[0mx\u001b[0m\u001b[0;34m)\u001b[0m\u001b[0;34m\u001b[0m\u001b[0m\n\u001b[0;32m----> 4\u001b[0;31m     \u001b[0mprint\u001b[0m\u001b[0;34m(\u001b[0m\u001b[0my\u001b[0m\u001b[0;34m)\u001b[0m\u001b[0;34m\u001b[0m\u001b[0m\n\u001b[0m",
      "\u001b[0;31mNameError\u001b[0m: name 'y' is not defined"
     ]
    }
   ],
   "source": []
  },
  {
   "cell_type": "code",
   "execution_count": 57,
   "metadata": {
    "collapsed": true
   },
   "outputs": [],
   "source": [
    "if cafe == cafe_name_id_map.keys():\n",
    "    cafe_id = cafe_name_id_map.get(cafe)\n",
    "    print(cafe_id)"
   ]
  },
  {
   "cell_type": "code",
   "execution_count": null,
   "metadata": {
    "collapsed": true
   },
   "outputs": [],
   "source": []
  },
  {
   "cell_type": "code",
   "execution_count": null,
   "metadata": {
    "collapsed": true
   },
   "outputs": [],
   "source": []
  },
  {
   "cell_type": "code",
   "execution_count": 47,
   "metadata": {
    "collapsed": false
   },
   "outputs": [
    {
     "name": "stdout",
     "output_type": "stream",
     "text": [
      "2\n",
      "5\n",
      "4\n",
      "1\n",
      "3\n"
     ]
    }
   ],
   "source": [
    "#getting the cafes ID\n",
    "for cafe in cafe_name_id_map.keys():\n",
    "    print(cafe, cafe_name_id_map.get(cafe))"
   ]
  },
  {
   "cell_type": "code",
   "execution_count": null,
   "metadata": {
    "collapsed": true
   },
   "outputs": [],
   "source": [
    "prices = {'banana':'4', 'apple':'2', 'pear':'3'}\n",
    "stock = {'banana':6, 'orange':32, 'pear':15}\n",
    "for item in (prices.keys() & stock.keys()):\n",
    "    print (item,\"price:\",prices.get(item,'-'),\"stock:\",stock.get(item,0))"
   ]
  },
  {
   "cell_type": "code",
   "execution_count": null,
   "metadata": {
    "collapsed": true
   },
   "outputs": [],
   "source": [
    "orange price: - stock: 32\n",
    "pear price: 3 stock: 15\n",
    "banana price: 4 stock: 6\n",
    "apple price: 2 stock: 0"
   ]
  },
  {
   "cell_type": "code",
   "execution_count": null,
   "metadata": {
    "collapsed": true
   },
   "outputs": [],
   "source": [
    "cafe_name_id_map = {'Cats Meow': 5,\n",
    " 'Hang In There': 1,\n",
    " 'Independent Claws': 2,\n",
    " 'Paws and Play': 3,\n",
    " 'Tall Tails': 4}"
   ]
  },
  {
   "cell_type": "code",
   "execution_count": null,
   "metadata": {
    "collapsed": true
   },
   "outputs": [],
   "source": []
  },
  {
   "cell_type": "code",
   "execution_count": 145,
   "metadata": {
    "collapsed": false
   },
   "outputs": [
    {
     "name": "stdout",
     "output_type": "stream",
     "text": [
      "firstfirstfirstfirstfirstfirst\n",
      "secondsecondsecondsecondsecond\n",
      "thirdthirdthirdthirdthirdthird\n",
      "Paws and Play\n",
      "firstfirstfirstfirstfirstfirst\n",
      "secondsecondsecondsecondsecond\n",
      "thirdthirdthirdthirdthirdthird\n",
      "Independent Claws\n",
      "firstfirstfirstfirstfirstfirst\n",
      "secondsecondsecondsecondsecond\n",
      "thirdthirdthirdthirdthirdthird\n",
      "Independent Claws\n",
      "firstfirstfirstfirstfirstfirst\n",
      "secondsecondsecondsecondsecond\n",
      "thirdthirdthirdthirdthirdthird\n",
      "Tall Tails\n",
      "firstfirstfirstfirstfirstfirst\n",
      "secondsecondsecondsecondsecond\n",
      "thirdthirdthirdthirdthirdthird\n",
      "Paws and Play\n",
      "firstfirstfirstfirstfirstfirst\n",
      "secondsecondsecondsecondsecond\n",
      "thirdthirdthirdthirdthirdthird\n",
      "Hang In There\n",
      "firstfirstfirstfirstfirstfirst\n",
      "secondsecondsecondsecondsecond\n",
      "thirdthirdthirdthirdthirdthird\n",
      "Hang In There\n",
      "firstfirstfirstfirstfirstfirst\n",
      "secondsecondsecondsecondsecond\n",
      "thirdthirdthirdthirdthirdthird\n",
      "Paws and Play\n",
      "firstfirstfirstfirstfirstfirst\n",
      "secondsecondsecondsecondsecond\n",
      "thirdthirdthirdthirdthirdthird\n",
      "Independent Claws\n",
      "firstfirstfirstfirstfirstfirst\n",
      "secondsecondsecondsecondsecond\n",
      "thirdthirdthirdthirdthirdthird\n",
      "Independent Claws\n",
      "firstfirstfirstfirstfirstfirst\n",
      "secondsecondsecondsecondsecond\n",
      "thirdthirdthirdthirdthirdthird\n",
      "Independent Claws\n",
      "firstfirstfirstfirstfirstfirst\n",
      "secondsecondsecondsecondsecond\n",
      "thirdthirdthirdthirdthirdthird\n",
      "Independent Claws\n",
      "firstfirstfirstfirstfirstfirst\n",
      "secondsecondsecondsecondsecond\n",
      "thirdthirdthirdthirdthirdthird\n",
      "Hang In There\n",
      "firstfirstfirstfirstfirstfirst\n",
      "secondsecondsecondsecondsecond\n",
      "thirdthirdthirdthirdthirdthird\n",
      "Hang In There\n",
      "firstfirstfirstfirstfirstfirst\n",
      "secondsecondsecondsecondsecond\n",
      "thirdthirdthirdthirdthirdthird\n",
      "Independent Claws\n",
      "firstfirstfirstfirstfirstfirst\n",
      "secondsecondsecondsecondsecond\n",
      "thirdthirdthirdthirdthirdthird\n",
      "Tall Tails\n",
      "firstfirstfirstfirstfirstfirst\n",
      "secondsecondsecondsecondsecond\n",
      "thirdthirdthirdthirdthirdthird\n",
      "Paws and Play\n",
      "firstfirstfirstfirstfirstfirst\n",
      "secondsecondsecondsecondsecond\n",
      "thirdthirdthirdthirdthirdthird\n",
      "Paws and Play\n",
      "firstfirstfirstfirstfirstfirst\n",
      "secondsecondsecondsecondsecond\n",
      "thirdthirdthirdthirdthirdthird\n",
      "Hang In There\n",
      "firstfirstfirstfirstfirstfirst\n",
      "secondsecondsecondsecondsecond\n",
      "thirdthirdthirdthirdthirdthird\n",
      "Cats Meow\n",
      "firstfirstfirstfirstfirstfirst\n",
      "secondsecondsecondsecondsecond\n",
      "thirdthirdthirdthirdthirdthird\n",
      "Independent Claws\n",
      "firstfirstfirstfirstfirstfirst\n",
      "secondsecondsecondsecondsecond\n",
      "thirdthirdthirdthirdthirdthird\n",
      "Hang In There\n",
      "firstfirstfirstfirstfirstfirst\n",
      "secondsecondsecondsecondsecond\n",
      "thirdthirdthirdthirdthirdthird\n",
      "Paws and Play\n",
      "firstfirstfirstfirstfirstfirst\n",
      "secondsecondsecondsecondsecond\n",
      "thirdthirdthirdthirdthirdthird\n",
      "Tall Tails\n",
      "firstfirstfirstfirstfirstfirst\n",
      "secondsecondsecondsecondsecond\n",
      "thirdthirdthirdthirdthirdthird\n",
      "Tall Tails\n",
      "firstfirstfirstfirstfirstfirst\n",
      "secondsecondsecondsecondsecond\n",
      "thirdthirdthirdthirdthirdthird\n",
      "Cats Meow\n",
      "firstfirstfirstfirstfirstfirst\n",
      "secondsecondsecondsecondsecond\n",
      "thirdthirdthirdthirdthirdthird\n",
      "Hang In There\n",
      "firstfirstfirstfirstfirstfirst\n",
      "secondsecondsecondsecondsecond\n",
      "thirdthirdthirdthirdthirdthird\n",
      "Paws and Play\n",
      "firstfirstfirstfirstfirstfirst\n",
      "secondsecondsecondsecondsecond\n",
      "thirdthirdthirdthirdthirdthird\n",
      "Cats Meow\n",
      "firstfirstfirstfirstfirstfirst\n",
      "secondsecondsecondsecondsecond\n",
      "thirdthirdthirdthirdthirdthird\n",
      "Paws and Play\n",
      "firstfirstfirstfirstfirstfirst\n",
      "secondsecondsecondsecondsecond\n",
      "thirdthirdthirdthirdthirdthird\n",
      "Independent Claws\n",
      "firstfirstfirstfirstfirstfirst\n",
      "secondsecondsecondsecondsecond\n",
      "thirdthirdthirdthirdthirdthird\n",
      "Tall Tails\n",
      "firstfirstfirstfirstfirstfirst\n",
      "secondsecondsecondsecondsecond\n",
      "thirdthirdthirdthirdthirdthird\n",
      "Independent Claws\n",
      "firstfirstfirstfirstfirstfirst\n",
      "secondsecondsecondsecondsecond\n",
      "thirdthirdthirdthirdthirdthird\n",
      "Tall Tails\n",
      "firstfirstfirstfirstfirstfirst\n",
      "secondsecondsecondsecondsecond\n",
      "thirdthirdthirdthirdthirdthird\n",
      "Independent Claws\n",
      "firstfirstfirstfirstfirstfirst\n",
      "secondsecondsecondsecondsecond\n",
      "thirdthirdthirdthirdthirdthird\n",
      "Hang In There\n",
      "firstfirstfirstfirstfirstfirst\n",
      "secondsecondsecondsecondsecond\n",
      "thirdthirdthirdthirdthirdthird\n",
      "Paws and Play\n",
      "firstfirstfirstfirstfirstfirst\n",
      "secondsecondsecondsecondsecond\n",
      "thirdthirdthirdthirdthirdthird\n",
      "Tall Tails\n",
      "firstfirstfirstfirstfirstfirst\n",
      "secondsecondsecondsecondsecond\n",
      "thirdthirdthirdthirdthirdthird\n",
      "Hang In There\n",
      "firstfirstfirstfirstfirstfirst\n",
      "secondsecondsecondsecondsecond\n",
      "thirdthirdthirdthirdthirdthird\n",
      "Cats Meow\n"
     ]
    }
   ],
   "source": [
    "for cafe in cat_list:\n",
    "    print(\"firstfirstfirstfirstfirstfirst\")\n",
    "    cafe = location(cafe)\n",
    "    print(\"secondsecondsecondsecondsecond\")\n",
    "    cafe = no_star_cafe(cafe)\n",
    "    print(\"thirdthirdthirdthirdthirdthird\")\n",
    "    print(cafe)"
   ]
  },
  {
   "cell_type": "code",
   "execution_count": 149,
   "metadata": {
    "collapsed": false
   },
   "outputs": [
    {
     "name": "stdout",
     "output_type": "stream",
     "text": [
      "firstfirstfirstfirstfirstfirst\n"
     ]
    },
    {
     "ename": "TypeError",
     "evalue": "expected string or bytes-like object",
     "output_type": "error",
     "traceback": [
      "\u001b[0;31m---------------------------------------------------------------------------\u001b[0m",
      "\u001b[0;31mTypeError\u001b[0m                                 Traceback (most recent call last)",
      "\u001b[0;32m<ipython-input-149-19f5bea29a46>\u001b[0m in \u001b[0;36m<module>\u001b[0;34m()\u001b[0m\n\u001b[1;32m      1\u001b[0m \u001b[0;32mfor\u001b[0m \u001b[0mcafe\u001b[0m \u001b[0;32min\u001b[0m \u001b[0mcat_list\u001b[0m\u001b[0;34m:\u001b[0m\u001b[0;34m\u001b[0m\u001b[0m\n\u001b[1;32m      2\u001b[0m     \u001b[0mprint\u001b[0m\u001b[0;34m(\u001b[0m\u001b[0;34m\"firstfirstfirstfirstfirstfirst\"\u001b[0m\u001b[0;34m)\u001b[0m\u001b[0;34m\u001b[0m\u001b[0m\n\u001b[0;32m----> 3\u001b[0;31m     \u001b[0mcafe\u001b[0m \u001b[0;34m=\u001b[0m \u001b[0mno_star_cafe\u001b[0m\u001b[0;34m(\u001b[0m\u001b[0mcafe\u001b[0m\u001b[0;34m)\u001b[0m\u001b[0;34m\u001b[0m\u001b[0m\n\u001b[0m\u001b[1;32m      4\u001b[0m     \u001b[0mprint\u001b[0m\u001b[0;34m(\u001b[0m\u001b[0;34m\"secondsecondsecondsecondsecond\"\u001b[0m\u001b[0;34m)\u001b[0m\u001b[0;34m\u001b[0m\u001b[0m\n\u001b[1;32m      5\u001b[0m     \u001b[0mprint\u001b[0m\u001b[0;34m(\u001b[0m\u001b[0;34m\"thirdthirdthirdthirdthirdthird\"\u001b[0m\u001b[0;34m)\u001b[0m\u001b[0;34m\u001b[0m\u001b[0m\n",
      "\u001b[0;32m<ipython-input-136-ab05a42a32c8>\u001b[0m in \u001b[0;36mno_star_cafe\u001b[0;34m(x)\u001b[0m\n\u001b[1;32m      8\u001b[0m \u001b[0;32mdef\u001b[0m \u001b[0mno_star_cafe\u001b[0m\u001b[0;34m(\u001b[0m\u001b[0mx\u001b[0m\u001b[0;34m)\u001b[0m\u001b[0;34m:\u001b[0m\u001b[0;34m\u001b[0m\u001b[0m\n\u001b[1;32m      9\u001b[0m     \u001b[0;31m#x = location(x)\u001b[0m\u001b[0;34m\u001b[0m\u001b[0;34m\u001b[0m\u001b[0m\n\u001b[0;32m---> 10\u001b[0;31m     \u001b[0;32mif\u001b[0m \u001b[0mre\u001b[0m\u001b[0;34m.\u001b[0m\u001b[0msearch\u001b[0m\u001b[0;34m(\u001b[0m\u001b[0;34mr\"(\\*)$\"\u001b[0m\u001b[0;34m,\u001b[0m \u001b[0mx\u001b[0m\u001b[0;34m)\u001b[0m\u001b[0;34m:\u001b[0m\u001b[0;34m\u001b[0m\u001b[0m\n\u001b[0m\u001b[1;32m     11\u001b[0m         \u001b[0;32mreturn\u001b[0m \u001b[0mcafe\u001b[0m\u001b[0;34m[\u001b[0m\u001b[0;34m:\u001b[0m\u001b[0;34m-\u001b[0m\u001b[0;36m1\u001b[0m\u001b[0;34m]\u001b[0m\u001b[0;34m\u001b[0m\u001b[0m\n\u001b[1;32m     12\u001b[0m     \u001b[0;32melse\u001b[0m\u001b[0;34m:\u001b[0m\u001b[0;34m\u001b[0m\u001b[0m\n",
      "\u001b[0;32m/usr/local/Cellar/python3/3.5.1/Frameworks/Python.framework/Versions/3.5/lib/python3.5/re.py\u001b[0m in \u001b[0;36msearch\u001b[0;34m(pattern, string, flags)\u001b[0m\n\u001b[1;32m    171\u001b[0m     \"\"\"Scan through string looking for a match to the pattern, returning\n\u001b[1;32m    172\u001b[0m     a match object, or None if no match was found.\"\"\"\n\u001b[0;32m--> 173\u001b[0;31m     \u001b[0;32mreturn\u001b[0m \u001b[0m_compile\u001b[0m\u001b[0;34m(\u001b[0m\u001b[0mpattern\u001b[0m\u001b[0;34m,\u001b[0m \u001b[0mflags\u001b[0m\u001b[0;34m)\u001b[0m\u001b[0;34m.\u001b[0m\u001b[0msearch\u001b[0m\u001b[0;34m(\u001b[0m\u001b[0mstring\u001b[0m\u001b[0;34m)\u001b[0m\u001b[0;34m\u001b[0m\u001b[0m\n\u001b[0m\u001b[1;32m    174\u001b[0m \u001b[0;34m\u001b[0m\u001b[0m\n\u001b[1;32m    175\u001b[0m \u001b[0;32mdef\u001b[0m \u001b[0msub\u001b[0m\u001b[0;34m(\u001b[0m\u001b[0mpattern\u001b[0m\u001b[0;34m,\u001b[0m \u001b[0mrepl\u001b[0m\u001b[0;34m,\u001b[0m \u001b[0mstring\u001b[0m\u001b[0;34m,\u001b[0m \u001b[0mcount\u001b[0m\u001b[0;34m=\u001b[0m\u001b[0;36m0\u001b[0m\u001b[0;34m,\u001b[0m \u001b[0mflags\u001b[0m\u001b[0;34m=\u001b[0m\u001b[0;36m0\u001b[0m\u001b[0;34m)\u001b[0m\u001b[0;34m:\u001b[0m\u001b[0;34m\u001b[0m\u001b[0m\n",
      "\u001b[0;31mTypeError\u001b[0m: expected string or bytes-like object"
     ]
    }
   ],
   "source": [
    "for cafe in cat_list:\n",
    "    print(\"firstfirstfirstfirstfirstfirst\")\n",
    "    cafe = no_star_cafe(cafe)\n",
    "    print(\"secondsecondsecondsecondsecond\")\n",
    "    print(\"thirdthirdthirdthirdthirdthird\")\n",
    "    print(cafe)"
   ]
  },
  {
   "cell_type": "code",
   "execution_count": null,
   "metadata": {
    "collapsed": true
   },
   "outputs": [],
   "source": []
  },
  {
   "cell_type": "code",
   "execution_count": null,
   "metadata": {
    "collapsed": true
   },
   "outputs": [],
   "source": []
  }
 ],
 "metadata": {
  "kernelspec": {
   "display_name": "Python 3",
   "language": "python",
   "name": "python3"
  },
  "language_info": {
   "codemirror_mode": {
    "name": "ipython",
    "version": 3
   },
   "file_extension": ".py",
   "mimetype": "text/x-python",
   "name": "python",
   "nbconvert_exporter": "python",
   "pygments_lexer": "ipython3",
   "version": "3.5.1"
  }
 },
 "nbformat": 4,
 "nbformat_minor": 0
}
