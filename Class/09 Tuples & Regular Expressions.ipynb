{
 "cells": [
  {
   "cell_type": "markdown",
   "metadata": {},
   "source": [
    "# Tuples"
   ]
  },
  {
   "cell_type": "markdown",
   "metadata": {},
   "source": [
    "A tuple is like a strict list. "
   ]
  },
  {
   "cell_type": "code",
   "execution_count": 1,
   "metadata": {
    "collapsed": false
   },
   "outputs": [
    {
     "data": {
      "text/plain": [
       "int"
      ]
     },
     "execution_count": 1,
     "metadata": {},
     "output_type": "execute_result"
    }
   ],
   "source": [
    "t = (1, 10, 15)\n",
    "type(1)"
   ]
  },
  {
   "cell_type": "code",
   "execution_count": 2,
   "metadata": {
    "collapsed": false
   },
   "outputs": [
    {
     "data": {
      "text/plain": [
       "1"
      ]
     },
     "execution_count": 2,
     "metadata": {},
     "output_type": "execute_result"
    }
   ],
   "source": [
    "t[0]"
   ]
  },
  {
   "cell_type": "code",
   "execution_count": 3,
   "metadata": {
    "collapsed": false
   },
   "outputs": [
    {
     "name": "stdout",
     "output_type": "stream",
     "text": [
      "1\n",
      "100\n",
      "225\n"
     ]
    }
   ],
   "source": [
    "for item in t:\n",
    "    print(item * item)"
   ]
  },
  {
   "cell_type": "code",
   "execution_count": 4,
   "metadata": {
    "collapsed": false
   },
   "outputs": [
    {
     "ename": "AttributeError",
     "evalue": "'tuple' object has no attribute 'append'",
     "output_type": "error",
     "traceback": [
      "\u001b[0;31m---------------------------------------------------------------------------\u001b[0m",
      "\u001b[0;31mAttributeError\u001b[0m                            Traceback (most recent call last)",
      "\u001b[0;32m<ipython-input-4-e0d05117f4e7>\u001b[0m in \u001b[0;36m<module>\u001b[0;34m()\u001b[0m\n\u001b[0;32m----> 1\u001b[0;31m \u001b[0mt\u001b[0m\u001b[0;34m.\u001b[0m\u001b[0mappend\u001b[0m\u001b[0;34m(\u001b[0m\u001b[0;36m30\u001b[0m\u001b[0;34m)\u001b[0m\u001b[0;34m\u001b[0m\u001b[0m\n\u001b[0m",
      "\u001b[0;31mAttributeError\u001b[0m: 'tuple' object has no attribute 'append'"
     ]
    }
   ],
   "source": [
    "t.append(30) #this doesn't work"
   ]
  },
  {
   "cell_type": "code",
   "execution_count": 5,
   "metadata": {
    "collapsed": true
   },
   "outputs": [],
   "source": [
    "carefree_list = [5, 10, 15, 20, 25]"
   ]
  },
  {
   "cell_type": "code",
   "execution_count": 6,
   "metadata": {
    "collapsed": true
   },
   "outputs": [],
   "source": [
    "carefree_list[1] = \"Mr. Fluffypants\""
   ]
  },
  {
   "cell_type": "code",
   "execution_count": 7,
   "metadata": {
    "collapsed": false
   },
   "outputs": [
    {
     "ename": "TypeError",
     "evalue": "'tuple' object does not support item assignment",
     "output_type": "error",
     "traceback": [
      "\u001b[0;31m---------------------------------------------------------------------------\u001b[0m",
      "\u001b[0;31mTypeError\u001b[0m                                 Traceback (most recent call last)",
      "\u001b[0;32m<ipython-input-7-2444799aba87>\u001b[0m in \u001b[0;36m<module>\u001b[0;34m()\u001b[0m\n\u001b[0;32m----> 1\u001b[0;31m \u001b[0mt\u001b[0m\u001b[0;34m[\u001b[0m\u001b[0;36m1\u001b[0m\u001b[0;34m]\u001b[0m \u001b[0;34m=\u001b[0m \u001b[0;34m\"Mr. Fluffypants\"\u001b[0m\u001b[0;34m\u001b[0m\u001b[0m\n\u001b[0m",
      "\u001b[0;31mTypeError\u001b[0m: 'tuple' object does not support item assignment"
     ]
    }
   ],
   "source": [
    "t[1] = \"Mr. Fluffypants\""
   ]
  },
  {
   "cell_type": "code",
   "execution_count": null,
   "metadata": {
    "collapsed": true
   },
   "outputs": [],
   "source": [
    "#an immutable datatype\n",
    "#Benefit 1: can't be changed\n",
    "#Benefit 2: energy efficient"
   ]
  },
  {
   "cell_type": "code",
   "execution_count": 10,
   "metadata": {
    "collapsed": true
   },
   "outputs": [],
   "source": [
    "foo = (1,2,3,4,5,6,7)"
   ]
  },
  {
   "cell_type": "code",
   "execution_count": 11,
   "metadata": {
    "collapsed": false
   },
   "outputs": [
    {
     "data": {
      "text/plain": [
       "104"
      ]
     },
     "execution_count": 11,
     "metadata": {},
     "output_type": "execute_result"
    }
   ],
   "source": [
    "import sys\n",
    "\n",
    "sys.getsizeof(foo)"
   ]
  },
  {
   "cell_type": "code",
   "execution_count": 13,
   "metadata": {
    "collapsed": false
   },
   "outputs": [
    {
     "data": {
      "text/plain": [
       "112"
      ]
     },
     "execution_count": 13,
     "metadata": {},
     "output_type": "execute_result"
    }
   ],
   "source": [
    "hello = [1,3,4,5,6,7]\n",
    "sys.getsizeof(hello)"
   ]
  },
  {
   "cell_type": "markdown",
   "metadata": {},
   "source": [
    "# Back to Regular Expressions\n",
    "## Grouping with multiple matches in the same string"
   ]
  },
  {
   "cell_type": "code",
   "execution_count": 19,
   "metadata": {
    "collapsed": true
   },
   "outputs": [],
   "source": [
    "import re"
   ]
  },
  {
   "cell_type": "code",
   "execution_count": 20,
   "metadata": {
    "collapsed": true
   },
   "outputs": [],
   "source": [
    "test = \"one 1 two 2 three 3 four 4 five 5\""
   ]
  },
  {
   "cell_type": "code",
   "execution_count": 21,
   "metadata": {
    "collapsed": false
   },
   "outputs": [
    {
     "data": {
      "text/plain": [
       "['one 1', 'two 2', 'three 3', 'four 4', 'five 5']"
      ]
     },
     "execution_count": 21,
     "metadata": {},
     "output_type": "execute_result"
    }
   ],
   "source": [
    "re.findall(r\"\\w+ \\d+\", test)"
   ]
  },
  {
   "cell_type": "code",
   "execution_count": 22,
   "metadata": {
    "collapsed": false
   },
   "outputs": [
    {
     "name": "stdout",
     "output_type": "stream",
     "text": [
      "one\n",
      "1\n",
      "two\n",
      "2\n",
      "three\n",
      "3\n",
      "four\n",
      "4\n",
      "five\n",
      "5\n"
     ]
    }
   ],
   "source": [
    "for item in re.findall(r\"\\w+ \\d+\", test):\n",
    "    x = item.split(\" \")\n",
    "    print(x[0])\n",
    "    print(x[1])"
   ]
  },
  {
   "cell_type": "code",
   "execution_count": 28,
   "metadata": {
    "collapsed": false
   },
   "outputs": [
    {
     "data": {
      "text/plain": [
       "[('one', '1'), ('two', '2'), ('three', '3'), ('four', '4'), ('five', '5')]"
      ]
     },
     "execution_count": 28,
     "metadata": {},
     "output_type": "execute_result"
    }
   ],
   "source": [
    "test = \"one 1 two 2 three 3 four 4 five 5\"   \n",
    "re.findall(r\"(\\w+) (\\d)\", test)"
   ]
  },
  {
   "cell_type": "code",
   "execution_count": 27,
   "metadata": {
    "collapsed": true
   },
   "outputs": [],
   "source": [
    "all_subjects = open('enronsubjects.txt').read()"
   ]
  },
  {
   "cell_type": "code",
   "execution_count": 35,
   "metadata": {
    "collapsed": false
   },
   "outputs": [
    {
     "name": "stdout",
     "output_type": "stream",
     "text": [
      "713\n",
      "713\n",
      "713\n",
      "713\n",
      "713\n",
      "713\n",
      "713\n",
      "713\n",
      "713\n",
      "713\n",
      "713\n",
      "281\n",
      "713\n",
      "713\n",
      "713\n",
      "713\n",
      "713\n",
      "713\n",
      "281\n",
      "713\n",
      "713\n",
      "713\n",
      "614\n",
      "713\n",
      "303\n",
      "281\n",
      "800\n",
      "800\n",
      "888\n"
     ]
    }
   ],
   "source": [
    "for item in re.findall(r\"(\\d{3})-(\\d{3})-(\\d{4})\", all_subjects):\n",
    "    print(item[0])\n",
    "    print(item[1])"
   ]
  },
  {
   "cell_type": "code",
   "execution_count": 33,
   "metadata": {
    "collapsed": false
   },
   "outputs": [
    {
     "data": {
      "text/plain": [
       "['713',\n",
       " '713',\n",
       " '713',\n",
       " '713',\n",
       " '713',\n",
       " '713',\n",
       " '713',\n",
       " '713',\n",
       " '713',\n",
       " '713',\n",
       " '713',\n",
       " '281',\n",
       " '713',\n",
       " '713',\n",
       " '713',\n",
       " '713',\n",
       " '713',\n",
       " '713',\n",
       " '281',\n",
       " '713',\n",
       " '713',\n",
       " '713',\n",
       " '614',\n",
       " '713',\n",
       " '303',\n",
       " '281',\n",
       " '800',\n",
       " '800',\n",
       " '888']"
      ]
     },
     "execution_count": 33,
     "metadata": {},
     "output_type": "execute_result"
    }
   ],
   "source": [
    "[item[0] for item in re.findall(r\"(\\d{3})-(\\d{3})-(\\d{4})\", all_subjects)]"
   ]
  },
  {
   "cell_type": "markdown",
   "metadata": {},
   "source": [
    "### monetary amounts in the subject lines\n",
    "matchi somethin g like $10"
   ]
  },
  {
   "cell_type": "code",
   "execution_count": 38,
   "metadata": {
    "collapsed": false
   },
   "outputs": [
    {
     "data": {
      "text/plain": [
       "[('10', 'M'),\n",
       " ('10', 'M'),\n",
       " ('10', 'M'),\n",
       " ('10', 'M'),\n",
       " ('25', 'm'),\n",
       " ('25', 'm'),\n",
       " ('25', 'm'),\n",
       " ('25', 'm'),\n",
       " ('25', 'm'),\n",
       " ('25', 'm'),\n",
       " ('25', 'm'),\n",
       " ('25', 'm'),\n",
       " ('25', 'm'),\n",
       " ('25', 'm'),\n",
       " ('25', 'm'),\n",
       " ('25', 'm'),\n",
       " ('25', 'm'),\n",
       " ('25', 'm'),\n",
       " ('40', 'M'),\n",
       " ('870', 'K'),\n",
       " ('870', 'K'),\n",
       " ('21', 'b'),\n",
       " ('6', 'm'),\n",
       " ('14', 'b'),\n",
       " ('14', 'b'),\n",
       " ('350', 'M'),\n",
       " ('500', 'k'),\n",
       " ('500', 'k'),\n",
       " ('500', 'k'),\n",
       " ('500', 'k'),\n",
       " ('500', 'k'),\n",
       " ('500', 'k'),\n",
       " ('500', 'k'),\n",
       " ('500', 'k'),\n",
       " ('500', 'k'),\n",
       " ('550', 'M'),\n",
       " ('455', 'M'),\n",
       " ('5', 'm'),\n",
       " ('5', 'm'),\n",
       " ('5', 'm'),\n",
       " ('7', 'M'),\n",
       " ('7', 'M'),\n",
       " ('7', 'M'),\n",
       " ('7', 'M'),\n",
       " ('7', 'M'),\n",
       " ('7', 'M'),\n",
       " ('100', 'm'),\n",
       " ('7', 'M'),\n",
       " ('7', 'M'),\n",
       " ('7', 'M'),\n",
       " ('8', 'M'),\n",
       " ('8', 'M'),\n",
       " ('500', 'm'),\n",
       " ('500', 'm'),\n",
       " ('500', 'm'),\n",
       " ('80', 'm'),\n",
       " ('80', 'm'),\n",
       " ('80', 'm'),\n",
       " ('80', 'm'),\n",
       " ('80', 'm'),\n",
       " ('80', 'm'),\n",
       " ('80', 'm'),\n",
       " ('50', 'M'),\n",
       " ('25', 'M'),\n",
       " ('25', 'M'),\n",
       " ('25', 'M'),\n",
       " ('45', 'M'),\n",
       " ('45', 'M'),\n",
       " ('100', 'k'),\n",
       " ('130', 'M'),\n",
       " ('130', 'M'),\n",
       " ('130', 'M'),\n",
       " ('1', 'm')]"
      ]
     },
     "execution_count": 38,
     "metadata": {},
     "output_type": "execute_result"
    }
   ],
   "source": [
    "re.findall(r\"\\$(\\d+) ?([kKbNmM])\", all_subjects)"
   ]
  },
  {
   "cell_type": "code",
   "execution_count": 39,
   "metadata": {
    "collapsed": false
   },
   "outputs": [
    {
     "name": "stdout",
     "output_type": "stream",
     "text": [
      "10\n",
      "10\n",
      "10\n",
      "10\n",
      "25\n",
      "25\n",
      "25\n",
      "25\n",
      "25\n",
      "25\n",
      "25\n",
      "25\n",
      "25\n",
      "25\n",
      "25\n",
      "25\n",
      "25\n",
      "25\n",
      "40\n",
      "870\n",
      "870\n",
      "21\n",
      "6\n",
      "14\n",
      "14\n",
      "350\n",
      "500\n",
      "500\n",
      "500\n",
      "500\n",
      "500\n",
      "500\n",
      "500\n",
      "500\n",
      "500\n",
      "550\n",
      "455\n",
      "5\n",
      "5\n",
      "5\n",
      "7\n",
      "7\n",
      "7\n",
      "7\n",
      "7\n",
      "7\n",
      "100\n",
      "7\n",
      "7\n",
      "7\n",
      "8\n",
      "8\n",
      "500\n",
      "500\n",
      "500\n",
      "80\n",
      "80\n",
      "80\n",
      "80\n",
      "80\n",
      "80\n",
      "80\n",
      "50\n",
      "25\n",
      "25\n",
      "25\n",
      "45\n",
      "45\n",
      "100\n",
      "130\n",
      "130\n",
      "130\n",
      "1\n"
     ]
    }
   ],
   "source": [
    "for item in re.findall(r\"\\$(\\d+) ?([kKbNmM])\", all_subjects):\n",
    "    print(item[0])"
   ]
  },
  {
   "cell_type": "code",
   "execution_count": 45,
   "metadata": {
    "collapsed": false
   },
   "outputs": [
    {
     "data": {
      "text/plain": [
       "1349657340000"
      ]
     },
     "execution_count": 45,
     "metadata": {},
     "output_type": "execute_result"
    }
   ],
   "source": [
    "vals = []\n",
    "for item in re.findall(r\"\\$(\\d+) ?([kKbBmM])\", all_subjects):\n",
    "    multiplier = item[1].lower()\n",
    "    number_val = int(item[0])\n",
    "    if multiplier == 'k':\n",
    "        number_val *= 1000\n",
    "    if multiplier == 'm':\n",
    "        number_val *= 1000000\n",
    "    if multiplier == 'b':\n",
    "        number_val *= 1000000000\n",
    "    vals.append(number_val)\n",
    "sum(vals)\n",
    "        \n",
    "        "
   ]
  },
  {
   "cell_type": "markdown",
   "metadata": {},
   "source": [
    "### substitution"
   ]
  },
  {
   "cell_type": "code",
   "execution_count": 48,
   "metadata": {
    "collapsed": true
   },
   "outputs": [],
   "source": [
    "message = \"this is a test, this is only a test\""
   ]
  },
  {
   "cell_type": "code",
   "execution_count": 49,
   "metadata": {
    "collapsed": false
   },
   "outputs": [
    {
     "data": {
      "text/plain": [
       "'that is a walrus, that is only a walrus'"
      ]
     },
     "execution_count": 49,
     "metadata": {},
     "output_type": "execute_result"
    }
   ],
   "source": [
    "message.replace(\"this\", \"that\").replace(\"test\", \"walrus\")"
   ]
  },
  {
   "cell_type": "code",
   "execution_count": 50,
   "metadata": {
    "collapsed": false
   },
   "outputs": [
    {
     "data": {
      "text/plain": [
       "[('713', '853', '4743'),\n",
       " ('713', '222', '7667'),\n",
       " ('713', '222', '7667'),\n",
       " ('713', '222', '7667'),\n",
       " ('713', '222', '7667'),\n",
       " ('713', '222', '7667'),\n",
       " ('713', '222', '7667'),\n",
       " ('713', '222', '7667'),\n",
       " ('713', '222', '7667'),\n",
       " ('713', '222', '7667'),\n",
       " ('713', '222', '7667'),\n",
       " ('281', '296', '0573'),\n",
       " ('713', '851', '2499'),\n",
       " ('713', '345', '7896'),\n",
       " ('713', '345', '7896'),\n",
       " ('713', '345', '7896'),\n",
       " ('713', '345', '7896'),\n",
       " ('713', '345', '7896'),\n",
       " ('281', '367', '8953'),\n",
       " ('713', '528', '0759'),\n",
       " ('713', '850', '9002'),\n",
       " ('713', '703', '8294'),\n",
       " ('614', '888', '9588'),\n",
       " ('713', '767', '8686'),\n",
       " ('303', '571', '6135'),\n",
       " ('281', '537', '9334'),\n",
       " ('800', '937', '6563'),\n",
       " ('800', '937', '6563'),\n",
       " ('888', '296', '1938')]"
      ]
     },
     "execution_count": 50,
     "metadata": {},
     "output_type": "execute_result"
    }
   ],
   "source": [
    "re.findall(r\"(\\d{3})-(\\d{3})-(\\d{4})\", all_subjects)"
   ]
  },
  {
   "cell_type": "code",
   "execution_count": 51,
   "metadata": {
    "collapsed": false
   },
   "outputs": [
    {
     "data": {
      "text/plain": [
       "'that is a test; that is only a test'"
      ]
     },
     "execution_count": 51,
     "metadata": {},
     "output_type": "execute_result"
    }
   ],
   "source": [
    "message = \"this is a test; this is only a test\"\n",
    "re.sub(r\"[Tt]his\", \"that\", message)"
   ]
  },
  {
   "cell_type": "code",
   "execution_count": 52,
   "metadata": {
    "collapsed": false
   },
   "outputs": [
    {
     "data": {
      "text/plain": [
       "'WALRUS WALRUS WALRUS WALRUS; WALRUS WALRUS WALRUS WALRUS WALRUS'"
      ]
     },
     "execution_count": 52,
     "metadata": {},
     "output_type": "execute_result"
    }
   ],
   "source": [
    "re.sub(r\"\\b\\w+\\b\", \"WALRUS\", message)"
   ]
  },
  {
   "cell_type": "code",
   "execution_count": null,
   "metadata": {
    "collapsed": true
   },
   "outputs": [],
   "source": [
    "re.sub(r\"\\b\\w+\\b\", \"WALRUS\", message)"
   ]
  },
  {
   "cell_type": "code",
   "execution_count": 57,
   "metadata": {
    "collapsed": false
   },
   "outputs": [],
   "source": [
    "anon = re.sub(r\"(\\d{3})-(\\d{3})-(\\d{4})\", \"555-555-5555\", all_subjects)"
   ]
  },
  {
   "cell_type": "code",
   "execution_count": 61,
   "metadata": {
    "collapsed": false
   },
   "outputs": [
    {
     "data": {
      "text/plain": [
       "[('555', '555', '5555'),\n",
       " ('555', '555', '5555'),\n",
       " ('555', '555', '5555'),\n",
       " ('555', '555', '5555'),\n",
       " ('555', '555', '5555'),\n",
       " ('555', '555', '5555'),\n",
       " ('555', '555', '5555'),\n",
       " ('555', '555', '5555'),\n",
       " ('555', '555', '5555'),\n",
       " ('555', '555', '5555'),\n",
       " ('555', '555', '5555'),\n",
       " ('555', '555', '5555'),\n",
       " ('555', '555', '5555'),\n",
       " ('555', '555', '5555'),\n",
       " ('555', '555', '5555'),\n",
       " ('555', '555', '5555'),\n",
       " ('555', '555', '5555'),\n",
       " ('555', '555', '5555'),\n",
       " ('555', '555', '5555'),\n",
       " ('555', '555', '5555'),\n",
       " ('555', '555', '5555'),\n",
       " ('555', '555', '5555'),\n",
       " ('555', '555', '5555'),\n",
       " ('555', '555', '5555'),\n",
       " ('555', '555', '5555'),\n",
       " ('555', '555', '5555'),\n",
       " ('555', '555', '5555'),\n",
       " ('555', '555', '5555'),\n",
       " ('555', '555', '5555')]"
      ]
     },
     "execution_count": 61,
     "metadata": {},
     "output_type": "execute_result"
    }
   ],
   "source": [
    "re.findall(r\"(\\d{3})-(\\d{3})-(\\d{4})\", anon)"
   ]
  },
  {
   "cell_type": "code",
   "execution_count": 64,
   "metadata": {
    "collapsed": true
   },
   "outputs": [],
   "source": [
    "anon2 = re.sub(r\"(\\d{3})-(\\d{3})-(\\d{4})\", r\"\\1-\\2-XXXX\", all_subjects)"
   ]
  },
  {
   "cell_type": "code",
   "execution_count": 65,
   "metadata": {
    "collapsed": false
   },
   "outputs": [
    {
     "data": {
      "text/plain": [
       "[]"
      ]
     },
     "execution_count": 65,
     "metadata": {},
     "output_type": "execute_result"
    }
   ],
   "source": [
    "re.findall(r\".{,20}\\d{3}-\\d{3-X{4}.{,20}}\", anon2)"
   ]
  },
  {
   "cell_type": "code",
   "execution_count": null,
   "metadata": {
    "collapsed": true
   },
   "outputs": [],
   "source": []
  }
 ],
 "metadata": {
  "kernelspec": {
   "display_name": "Python 3",
   "language": "python",
   "name": "python3"
  },
  "language_info": {
   "codemirror_mode": {
    "name": "ipython",
    "version": 3
   },
   "file_extension": ".py",
   "mimetype": "text/x-python",
   "name": "python",
   "nbconvert_exporter": "python",
   "pygments_lexer": "ipython3",
   "version": "3.5.1"
  }
 },
 "nbformat": 4,
 "nbformat_minor": 0
}
