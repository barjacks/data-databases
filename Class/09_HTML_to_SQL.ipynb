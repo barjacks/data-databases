{
 "cells": [
  {
   "cell_type": "markdown",
   "metadata": {},
   "source": [
    "# HTML to SQL\n",
    "\n",
    "In this tutorial, we'll take the result of scraping a web page and make a SQL database from it. Over the course of the tutorial, I'll show you how to scrape a page, make Python data structure from it, devise a SQL schema for the data, and then use Python (with pg8000) to insert the data into a PostgreSQL database.\n",
    "\n",
    "## Introducing Menupages\n",
    "\n",
    "As a target for this exercise, we'll pick some HTML that presents a moderate challenge: [the Morningside Heights listing from Menupages](http://www.menupages.com/restaurants/all-areas/morningside-heights/all-cuisines/). (Menupages is now owned by and largely superceded by Seamless, but in my formative period as a New Yorker in the middle of the first decade of the 2000s it was *the place* to go for information about where to get food in Manhattan. Menupages doesn't make its data available in a non-HTML format, so if we want to get our hands on the data we need to scrape it from the website.\n",
    "\n",
    "To make things easier on the Menupages server, and so that this tutorial doesn't break when/if Menupages changes their layout, I've made a copy of the Morningside Heights directory HTML and uploaded it to Github [here](https://raw.githubusercontent.com/ledeprogram/data-and-databases/master/menupages-morningside-heights.html). We'll download and use this file locally instead of fetching it from Menupages directly.\n",
    "\n",
    "> Note: If you're trying to reproduce my results from the Menupages site itself, note that I slightly modified the source code to correct some bad HTML in the `<thead>` tag, which was preventing `html.parser` from parsing the page into a tree properly.\n",
    "\n",
    "## Making the data structure\n",
    "\n",
    "The data structure that we'll want to end up with as a sort of \"intermediary\" between the HTML and SQL is a list of dictionaries, with each dictionary having keys and values corresponding to the data for each restauraunt. Eyeballing the page, I'd say that the data structure we'd want to end up with might look like this:\n",
    "\n",
    "    [\n",
    "        {'name': '176 Presbyterian Deli',\n",
    "         'cuisines': [],\n",
    "         'price': None},\n",
    "        {'name': 'Amir's Grill',\n",
    "         'cuisines': ['Middle Eastern'],\n",
    "         'price': None}\n",
    "        {'name': 'Artopolis Espresso Cafe',\n",
    "         'cuisines': ['Coffee & Tea', 'Sandwiches', 'Crepes'],\n",
    "         'price': '$'}\n",
    "        },\n",
    "        ... more of these probably ...\n",
    "    ]\n",
    "    \n",
    "A data structure like this clearly separates out all of the individual pieces of data available to us in the HTML, and allows us to easily transform the data into a different format (e.g., CSV, SQL, etc.).\n",
    "\n",
    "> Note: This isn't a \"standard\" format or anything—it's just something I made up, based on what is present in the HTML. I might decide later to revise what the data structure looks like, if I find out something about the data that wasn't immediately apparent from just looking at the rendered HTML. It's worth noting that there's no automated tool to \"force\" the HTML into this data format. (In fact, that's the whole point of this tutorial.)\n",
    "\n",
    "## Scraping the HTML\n",
    "\n",
    "By prodding at the source code with Developer Tools, I isolated the important part of the HTML to this little bit here:\n",
    "\n",
    "![screenshot of dev tools on menupages](http://static.decontextualize.com/snaps/menupages-devtools.png)\n",
    "\n",
    "At first glance: There's a table with class `search-results` that has a `<tbody>` tag that is the parent tag for a series of `<tr>` tags that represent each restaurant, row-by-row. Inside each `<tr>` tag, there are a number of `<td>`s that look useful: one with class `name-address` that appears to have the name and address of the restaurant; another with class `price` that has the price of the restaurant. The \"cuisines\" of the restaurant can be obtained either from the `name-address` `<td>`, or from a mysterious `<td>` without a class that appears to be in the table but not displayed anywhere. (That's weird, but not unheard of: it's likely hidden by a CSS class, and the data is probably present only to be used by some Javascript on the page.)\n",
    "\n",
    "As a first attempt, let's just try to print the *name* of every restaurant. First, we'll load the data and create a Beautiful Soup object."
   ]
  },
  {
   "cell_type": "code",
   "execution_count": 40,
   "metadata": {
    "collapsed": true
   },
   "outputs": [],
   "source": [
    "from bs4 import BeautifulSoup\n",
    "\n",
    "raw_html = open(\"menupages-morningside-heights.html\").read()\n",
    "soup = BeautifulSoup(raw_html, \"html.parser\")"
   ]
  },
  {
   "cell_type": "markdown",
   "metadata": {},
   "source": [
    "Now, we'll find that `<table>` tag and iterate through its child `<tr>`s:"
   ]
  },
  {
   "cell_type": "code",
   "execution_count": 41,
   "metadata": {
    "collapsed": false,
    "scrolled": true
   },
   "outputs": [
    {
     "name": "stdout",
     "output_type": "stream",
     "text": [
      "Milano Market\n",
      "Massawa\n",
      "China Place\n",
      "Subsconscious\n",
      "Famous Famiglia\n",
      "Kitchenette\n",
      "V & T Pizza\n",
      "New Aroma\n",
      "Peking Garden\n",
      "Tom's Restaurant\n",
      "Pisticci\n",
      "Deluxe\n",
      "Toast\n",
      "Tom's Delicious Pizza\n",
      "West Place\n",
      "Che' Bella Pizza\n",
      "Ajanta\n",
      "Panino Sportivo Roma\n",
      "Max Soha\n",
      "Strokos Pizza\n",
      "Camille's\n",
      "Amsterdam Restaurant\n",
      "Nussbaum & Wu\n",
      "Amir's Grill\n",
      "M2M - Morning To Midnight\n",
      "The Mill\n",
      "Le Monde\n",
      "Melba's\n",
      "Chuck E Cheese's\n",
      "Haagen-Dazs\n",
      "Oren's\n",
      "Dinosaur Bar-B-Que\n",
      "Symposium Greek Restaurant\n",
      "Koronet Pizza\n",
      "The Heights Bar & Grill\n",
      "Cafe Nana\n",
      "Hamilton Deli\n",
      "Community Food & Juice\n",
      "Haakon's Hall\n",
      "El Porton\n",
      "Brad's\n",
      "Mel's Burger Bar\n",
      "Bettolona\n",
      "Five Guys\n",
      "Nikko\n",
      "Falafel on Broadway\n",
      "Sushi Sushi\n",
      "Insomnia Cookies\n",
      "Cafe Amrita\n",
      "Pinkberry\n",
      "Artopolis Espresso Cafe\n",
      "Max Caffe\n",
      "Chipotle\n",
      "Chokolat Patisserie\n",
      "Chokolat Patisserie\n",
      "Joe's G-H Deli\n",
      "Joe the Art of Coffee\n",
      "Levain Bakery\n",
      "Silvana\n",
      "Bier International\n",
      "Vegenation\n",
      "Flat Top\n",
      "Kuro Kuma\n",
      "Vinateria\n",
      "Henan Cart\n",
      "Vine\n",
      "El Paso Truck\n",
      "Mama's Fried Chicken and Pizza\n",
      "Chapati House\n",
      "Dig Inn Seasonal Market\n",
      "Uncle Luoyang\n",
      "Pita Grill\n",
      "Kissaten Jin\n",
      "Serengeti Teas & Spices\n",
      "Lighthouse Fish Market & Restaurant\n",
      "Lolo's Seafood Shack\n",
      "Harmony\n",
      "Bernheim & Schwartz\n",
      "BTH (By The Hudson)\n",
      "Empanadas Monumental\n",
      "Friedman's\n",
      "176 Presbyterian Deli\n",
      "Nacho Mama's\n",
      "Streetbird Rotisserie\n",
      "Colum Chinese Restaurant\n",
      "Flacoz Tacoz\n",
      "sweetgreen\n",
      "La Salle Dumpling Room\n"
     ]
    }
   ],
   "source": [
    "search_table = soup.find('table', {'class': 'search-results'}) # the search-results table\n",
    "table_body = search_table.find('tbody') # get only the table body\n",
    "for tr_tag in table_body.find_all('tr'):\n",
    "    name_address_tag = tr_tag.find('td', {'class': 'name-address'})\n",
    "    a_tag = name_address_tag.find('a')\n",
    "    print(a_tag.string)"
   ]
  },
  {
   "cell_type": "markdown",
   "metadata": {},
   "source": [
    "Okay, that looks okay so far! Let's continue the work. The next easiest-hanging fruit is the price. Looking through the HTML, we can see that the price is recorded in one of two ways: either as a `N/A` string inside the `price`-classed `<td>` tag, or as a string inside of a `span` that is the direct descendent of that tag. We'll check for both."
   ]
  },
  {
   "cell_type": "code",
   "execution_count": 42,
   "metadata": {
    "collapsed": false,
    "scrolled": true
   },
   "outputs": [
    {
     "name": "stdout",
     "output_type": "stream",
     "text": [
      "Milano Market - 2\n",
      "Massawa - None\n",
      "China Place - None\n",
      "Subsconscious - None\n",
      "Famous Famiglia - None\n",
      "Kitchenette - None\n",
      "V & T Pizza - None\n",
      "New Aroma - 1\n",
      "Peking Garden - 1\n",
      "Tom's Restaurant - 1\n",
      "Pisticci - 1\n",
      "Deluxe - 1\n",
      "Toast - 2\n",
      "Tom's Delicious Pizza - 2\n",
      "West Place - 1\n",
      "Che' Bella Pizza - None\n",
      "Ajanta - None\n",
      "Panino Sportivo Roma - 2\n",
      "Max Soha - 2\n",
      "Strokos Pizza - 3\n",
      "Camille's - 1\n",
      "Amsterdam Restaurant - 1\n",
      "Nussbaum & Wu - None\n",
      "Amir's Grill - 1\n",
      "M2M - Morning To Midnight - 1\n",
      "The Mill - 2\n",
      "Le Monde - 1\n",
      "Melba's - 1\n",
      "Chuck E Cheese's - None\n",
      "Haagen-Dazs - 1\n",
      "Oren's - None\n",
      "Dinosaur Bar-B-Que - 3\n",
      "Symposium Greek Restaurant - None\n",
      "Koronet Pizza - 1\n",
      "The Heights Bar & Grill - 1\n",
      "Cafe Nana - None\n",
      "Hamilton Deli - None\n",
      "Community Food & Juice - None\n",
      "Haakon's Hall - None\n",
      "El Porton - None\n",
      "Brad's - 1\n",
      "Mel's Burger Bar - 2\n",
      "Bettolona - 1\n",
      "Five Guys - 1\n",
      "Nikko - 2\n",
      "Falafel on Broadway - 1\n",
      "Sushi Sushi - 1\n",
      "Insomnia Cookies - 1\n",
      "Cafe Amrita - 1\n",
      "Pinkberry - 2\n",
      "Artopolis Espresso Cafe - 1\n",
      "Max Caffe - 2\n",
      "Chipotle - 1\n",
      "Chokolat Patisserie - 5\n",
      "Chokolat Patisserie - 1\n",
      "Joe's G-H Deli - 2\n",
      "Joe the Art of Coffee - 1\n",
      "Levain Bakery - 2\n",
      "Silvana - 1\n",
      "Bier International - 1\n",
      "Vegenation - 1\n",
      "Flat Top - 4\n",
      "Kuro Kuma - 1\n",
      "Vinateria - 2\n",
      "Henan Cart - 1\n",
      "Vine - 2\n",
      "El Paso Truck - 1\n",
      "Mama's Fried Chicken and Pizza - 1\n",
      "Chapati House - 2\n",
      "Dig Inn Seasonal Market - 1\n",
      "Uncle Luoyang - 1\n",
      "Pita Grill - 2\n",
      "Kissaten Jin - 1\n",
      "Serengeti Teas & Spices - 2\n",
      "Lighthouse Fish Market & Restaurant - 3\n",
      "Lolo's Seafood Shack - 2\n",
      "Harmony - 1\n",
      "Bernheim & Schwartz - 2\n",
      "BTH (By The Hudson) - 3\n",
      "Empanadas Monumental - None\n",
      "Friedman's - None\n",
      "176 Presbyterian Deli - None\n",
      "Nacho Mama's - None\n",
      "Streetbird Rotisserie - None\n",
      "Colum Chinese Restaurant - None\n",
      "Flacoz Tacoz - None\n",
      "sweetgreen - None\n",
      "La Salle Dumpling Room - None\n"
     ]
    }
   ],
   "source": [
    "search_table = soup.find('table', {'class': 'search-results'}) # the search-results table\n",
    "table_body = search_table.find('tbody') # get only the table body\n",
    "for tr_tag in table_body.find_all('tr'):\n",
    "    name_address_tag = tr_tag.find('td', {'class': 'name-address'})\n",
    "    a_tag = name_address_tag.find('a')\n",
    "    name = a_tag.string\n",
    "    price_tag = tr_tag.find('td', {'class': 'price'})\n",
    "    price_span_tag = price_tag.find('span')\n",
    "    if price_span_tag:\n",
    "        price = price_span_tag.string\n",
    "    else:\n",
    "        price = None\n",
    "    print(name, \"-\", price)"
   ]
  },
  {
   "cell_type": "markdown",
   "metadata": {},
   "source": [
    "At this point, the code is getting a little bit ugly, so I'm going to try to compartmentalize it a bit by moving some of the code for extracting information from the `<tr>` tags into separate functions."
   ]
  },
  {
   "cell_type": "code",
   "execution_count": 92,
   "metadata": {
    "collapsed": true
   },
   "outputs": [],
   "source": [
    "def get_name(tr_tag):\n",
    "    name_address_tag = tr_tag.find('td', {'class': 'name-address'})\n",
    "    a_tag = name_address_tag.find('a')\n",
    "    return str(a_tag.string) # call str() to convert to regular string, not bs4 navigable string type\n",
    "    \n",
    "def get_price(tr_tag):\n",
    "    price_tag = tr_tag.find('td', {'class': 'price'})\n",
    "    price_span_tag = price_tag.find('span')\n",
    "    if price_span_tag:\n",
    "        return int(price_span_tag.string)\n",
    "    else:\n",
    "        return 0"
   ]
  },
  {
   "cell_type": "markdown",
   "metadata": {},
   "source": [
    "Now we can rewrite our loop, but in a much cleaner way:"
   ]
  },
  {
   "cell_type": "code",
   "execution_count": 93,
   "metadata": {
    "collapsed": false,
    "scrolled": true
   },
   "outputs": [
    {
     "name": "stdout",
     "output_type": "stream",
     "text": [
      "Milano Market - 2\n",
      "Massawa - 0\n",
      "China Place - 0\n",
      "Subsconscious - 0\n",
      "Famous Famiglia - 0\n",
      "Kitchenette - 0\n",
      "V & T Pizza - 0\n",
      "New Aroma - 1\n",
      "Peking Garden - 1\n",
      "Tom's Restaurant - 1\n",
      "Pisticci - 1\n",
      "Deluxe - 1\n",
      "Toast - 2\n",
      "Tom's Delicious Pizza - 2\n",
      "West Place - 1\n",
      "Che' Bella Pizza - 0\n",
      "Ajanta - 0\n",
      "Panino Sportivo Roma - 2\n",
      "Max Soha - 2\n",
      "Strokos Pizza - 3\n",
      "Camille's - 1\n",
      "Amsterdam Restaurant - 1\n",
      "Nussbaum & Wu - 0\n",
      "Amir's Grill - 1\n",
      "M2M - Morning To Midnight - 1\n",
      "The Mill - 2\n",
      "Le Monde - 1\n",
      "Melba's - 1\n",
      "Chuck E Cheese's - 0\n",
      "Haagen-Dazs - 1\n",
      "Oren's - 0\n",
      "Dinosaur Bar-B-Que - 3\n",
      "Symposium Greek Restaurant - 0\n",
      "Koronet Pizza - 1\n",
      "The Heights Bar & Grill - 1\n",
      "Cafe Nana - 0\n",
      "Hamilton Deli - 0\n",
      "Community Food & Juice - 0\n",
      "Haakon's Hall - 0\n",
      "El Porton - 0\n",
      "Brad's - 1\n",
      "Mel's Burger Bar - 2\n",
      "Bettolona - 1\n",
      "Five Guys - 1\n",
      "Nikko - 2\n",
      "Falafel on Broadway - 1\n",
      "Sushi Sushi - 1\n",
      "Insomnia Cookies - 1\n",
      "Cafe Amrita - 1\n",
      "Pinkberry - 2\n",
      "Artopolis Espresso Cafe - 1\n",
      "Max Caffe - 2\n",
      "Chipotle - 1\n",
      "Chokolat Patisserie - 5\n",
      "Chokolat Patisserie - 1\n",
      "Joe's G-H Deli - 2\n",
      "Joe the Art of Coffee - 1\n",
      "Levain Bakery - 2\n",
      "Silvana - 1\n",
      "Bier International - 1\n",
      "Vegenation - 1\n",
      "Flat Top - 4\n",
      "Kuro Kuma - 1\n",
      "Vinateria - 2\n",
      "Henan Cart - 1\n",
      "Vine - 2\n",
      "El Paso Truck - 1\n",
      "Mama's Fried Chicken and Pizza - 1\n",
      "Chapati House - 2\n",
      "Dig Inn Seasonal Market - 1\n",
      "Uncle Luoyang - 1\n",
      "Pita Grill - 2\n",
      "Kissaten Jin - 1\n",
      "Serengeti Teas & Spices - 2\n",
      "Lighthouse Fish Market & Restaurant - 3\n",
      "Lolo's Seafood Shack - 2\n",
      "Harmony - 1\n",
      "Bernheim & Schwartz - 2\n",
      "BTH (By The Hudson) - 3\n",
      "Empanadas Monumental - 0\n",
      "Friedman's - 0\n",
      "176 Presbyterian Deli - 0\n",
      "Nacho Mama's - 0\n",
      "Streetbird Rotisserie - 0\n",
      "Colum Chinese Restaurant - 0\n",
      "Flacoz Tacoz - 0\n",
      "sweetgreen - 0\n",
      "La Salle Dumpling Room - 0\n"
     ]
    }
   ],
   "source": [
    "search_table = soup.find('table', {'class': 'search-results'}) # the search-results table\n",
    "table_body = search_table.find('tbody') # get only the table body\n",
    "for tr_tag in table_body.find_all('tr'):\n",
    "    name = get_name(tr_tag)\n",
    "    price = get_price(tr_tag)\n",
    "    print(name, \"-\", price)"
   ]
  },
  {
   "cell_type": "markdown",
   "metadata": {},
   "source": [
    "Getting the \"cuisines\" is a bit more difficult. I think we'll try to use the mysterious `<td>` tag that doesn't have a class. In order to use this, we have to do something we haven't done yet, which is grab a matching element *by position* instead of by class. This function takes the `<tr>` tag object and gets the content of the fifth (index 4) `<td>` tag, splitting it on a comma, so that it returns a list of strings:"
   ]
  },
  {
   "cell_type": "code",
   "execution_count": 94,
   "metadata": {
    "collapsed": true
   },
   "outputs": [],
   "source": [
    "def get_cuisines(tr_tag):\n",
    "    cuisine_tag = tr_tag.find_all('td')[4]\n",
    "    if cuisine_tag.string:\n",
    "        return cuisine_tag.string.split(',')\n",
    "    else:\n",
    "        return []"
   ]
  },
  {
   "cell_type": "markdown",
   "metadata": {},
   "source": [
    "(I checked to see if the `.string` attribute is actually present, because in some cases the given `<td>` is empty.) Here's the revised loop making use of this function:"
   ]
  },
  {
   "cell_type": "code",
   "execution_count": 95,
   "metadata": {
    "collapsed": false,
    "scrolled": true
   },
   "outputs": [
    {
     "name": "stdout",
     "output_type": "stream",
     "text": [
      "Milano Market - 2 - ['deli', ' sandwiches']\n",
      "Massawa - 0 - ['ethiopian', ' african']\n",
      "China Place - 0 - ['chinese', ' japanese', ' sushi']\n",
      "Subsconscious - 0 - ['cheese-steaks', ' deli', ' sandwiches', ' salads']\n",
      "Famous Famiglia - 0 - ['italian', ' pizza']\n",
      "Kitchenette - 0 - ['bakery-pastries', ' american', ' desserts']\n",
      "V & T Pizza - 0 - ['italian', ' pizza']\n",
      "New Aroma - 1 - ['chinese']\n",
      "Peking Garden - 1 - ['chinese']\n",
      "Tom's Restaurant - 1 - ['diner']\n",
      "Pisticci - 1 - ['italian']\n",
      "Deluxe - 1 - ['diner', ' american']\n",
      "Toast - 2 - ['american', ' bar-food']\n",
      "Tom's Delicious Pizza - 2 - ['italian', ' pizza']\n",
      "West Place - 1 - ['chinese']\n",
      "Che' Bella Pizza - 0 - ['italian', ' pizza']\n",
      "Ajanta - 0 - ['indian']\n",
      "Panino Sportivo Roma - 2 - ['italian', ' coffee-tea', ' sandwiches']\n",
      "Max Soha - 2 - ['italian']\n",
      "Strokos Pizza - 3 - ['deli', ' pizza', ' sandwiches', ' chicken']\n",
      "Camille's - 1 - ['american']\n",
      "Amsterdam Restaurant - 1 - ['american-new', ' tapas']\n",
      "Nussbaum & Wu - 0 - ['deli', ' sandwiches', ' bagels', ' salads']\n",
      "Amir's Grill - 1 - ['middle-eastern']\n",
      "M2M - Morning To Midnight - 1 - ['japanese', ' sushi', ' deli', ' sandwiches']\n",
      "The Mill - 2 - ['korean']\n",
      "Le Monde - 1 - ['french', ' bistro']\n",
      "Melba's - 1 - ['american-new', ' soul-food']\n",
      "Chuck E Cheese's - 0 - ['pizza', ' american']\n",
      "Haagen-Dazs - 1 - ['desserts']\n",
      "Oren's - 0 - ['coffee-tea', ' sandwiches']\n",
      "Dinosaur Bar-B-Que - 3 - ['barbecue', ' soul-food']\n",
      "Symposium Greek Restaurant - 0 - ['greek', ' vegetarian']\n",
      "Koronet Pizza - 1 - ['pizza']\n",
      "The Heights Bar & Grill - 1 - ['southwestern', ' tapas', ' bar-food']\n",
      "Cafe Nana - 0 - ['middle-eastern', ' kosher']\n",
      "Hamilton Deli - 0 - ['deli', ' sandwiches']\n",
      "Community Food & Juice - 0 - ['american-new', ' smoothies-juices', ' vegetarian', ' healthy', ' localorganic']\n",
      "Haakon's Hall - 0 - ['american', ' scandinavian']\n",
      "El Porton - 0 - ['mexican']\n",
      "Brad's - 1 - ['coffee-tea']\n",
      "Mel's Burger Bar - 2 - ['burgers', ' bar-food']\n",
      "Bettolona - 1 - ['italian', ' pizza', ' localorganic']\n",
      "Five Guys - 1 - ['burgers', ' hot-dogs']\n",
      "Nikko - 2 - ['chinese', ' japanese', ' sushi', ' teahouses']\n",
      "Falafel on Broadway - 1 - ['middle-eastern']\n",
      "Sushi Sushi - 1 - ['japanese', ' sushi']\n",
      "Insomnia Cookies - 1 - ['bakery-pastries', ' desserts']\n",
      "Cafe Amrita - 1 - ['coffee-tea', ' sandwiches']\n",
      "Pinkberry - 2 - ['desserts']\n",
      "Artopolis Espresso Cafe - 1 - ['coffee-tea', ' sandwiches', ' crepes']\n",
      "Max Caffe - 2 - ['coffee-tea', ' sandwiches']\n",
      "Chipotle - 1 - ['mexican']\n",
      "Chokolat Patisserie - 5 - ['bakery-pastries', ' desserts']\n",
      "Chokolat Patisserie - 1 - ['bakery-pastries', ' coffee-tea', ' desserts']\n",
      "Joe's G-H Deli - 2 - ['deli', ' sandwiches']\n",
      "Joe the Art of Coffee - 1 - ['coffee-tea']\n",
      "Levain Bakery - 2 - ['bakery-pastries', ' desserts']\n",
      "Silvana - 1 - ['middle-eastern', ' vegetarian']\n",
      "Bier International - 1 - ['german', ' eclectic', ' bar-food']\n",
      "Vegenation - 1 - ['indian', ' vegetarian']\n",
      "Flat Top - 4 - ['american-new', ' bistro']\n",
      "Kuro Kuma - 1 - ['coffee-tea']\n",
      "Vinateria - 2 - ['american-new']\n",
      "Henan Cart - 1 - ['chinese']\n",
      "Vine - 2 - ['japanese', ' sushi', ' thai']\n",
      "El Paso Truck - 1 - ['mexican']\n",
      "Mama's Fried Chicken and Pizza - 1 - ['pizza', ' chicken']\n",
      "Chapati House - 2 - ['indian']\n",
      "Dig Inn Seasonal Market - 1 - ['american', ' localorganic']\n",
      "Uncle Luoyang - 1 - ['chinese']\n",
      "Pita Grill - 2 - ['middle-eastern']\n",
      "Kissaten Jin - 1 - ['japanese']\n",
      "Serengeti Teas & Spices - 2 - ['coffee-tea', ' teahouses']\n",
      "Lighthouse Fish Market & Restaurant - 3 - ['seafood', ' wings', ' fish--chips']\n",
      "Lolo's Seafood Shack - 2 - ['seafood']\n",
      "Harmony - 1 - ['sandwiches', ' salads', ' teahouses']\n",
      "Bernheim & Schwartz - 2 - ['american', ' gastropub']\n",
      "BTH (By The Hudson) - 3 - ['american-new']\n",
      "Empanadas Monumental - 0 - []\n",
      "Friedman's - 0 - []\n",
      "176 Presbyterian Deli - 0 - []\n",
      "Nacho Mama's - 0 - []\n",
      "Streetbird Rotisserie - 0 - []\n",
      "Colum Chinese Restaurant - 0 - []\n",
      "Flacoz Tacoz - 0 - []\n",
      "sweetgreen - 0 - []\n",
      "La Salle Dumpling Room - 0 - []\n"
     ]
    }
   ],
   "source": [
    "search_table = soup.find('table', {'class': 'search-results'}) # the search-results table\n",
    "table_body = search_table.find('tbody') # get only the table body\n",
    "for tr_tag in table_body.find_all('tr'):\n",
    "    name = get_name(tr_tag)\n",
    "    price = get_price(tr_tag)\n",
    "    cuisines = get_cuisines(tr_tag)\n",
    "    print(name, \"-\", price, \"-\", cuisines)"
   ]
  },
  {
   "cell_type": "markdown",
   "metadata": {},
   "source": [
    "Nice! Now we're going to rework the code so that instead of just printing stuff out, we'll make a list of dictionaries containing the data."
   ]
  },
  {
   "cell_type": "code",
   "execution_count": 98,
   "metadata": {
    "collapsed": false
   },
   "outputs": [
    {
     "data": {
      "text/plain": [
       "[{'cuisines': ['deli', ' sandwiches'], 'name': 'Milano Market', 'price': 2},\n",
       " {'cuisines': ['ethiopian', ' african'], 'name': 'Massawa', 'price': 0},\n",
       " {'cuisines': ['chinese', ' japanese', ' sushi'],\n",
       "  'name': 'China Place',\n",
       "  'price': 0},\n",
       " {'cuisines': ['cheese-steaks', ' deli', ' sandwiches', ' salads'],\n",
       "  'name': 'Subsconscious',\n",
       "  'price': 0},\n",
       " {'cuisines': ['italian', ' pizza'], 'name': 'Famous Famiglia', 'price': 0},\n",
       " {'cuisines': ['bakery-pastries', ' american', ' desserts'],\n",
       "  'name': 'Kitchenette',\n",
       "  'price': 0},\n",
       " {'cuisines': ['italian', ' pizza'], 'name': 'V & T Pizza', 'price': 0},\n",
       " {'cuisines': ['chinese'], 'name': 'New Aroma', 'price': 1},\n",
       " {'cuisines': ['chinese'], 'name': 'Peking Garden', 'price': 1},\n",
       " {'cuisines': ['diner'], 'name': \"Tom's Restaurant\", 'price': 1},\n",
       " {'cuisines': ['italian'], 'name': 'Pisticci', 'price': 1},\n",
       " {'cuisines': ['diner', ' american'], 'name': 'Deluxe', 'price': 1},\n",
       " {'cuisines': ['american', ' bar-food'], 'name': 'Toast', 'price': 2},\n",
       " {'cuisines': ['italian', ' pizza'],\n",
       "  'name': \"Tom's Delicious Pizza\",\n",
       "  'price': 2},\n",
       " {'cuisines': ['chinese'], 'name': 'West Place', 'price': 1},\n",
       " {'cuisines': ['italian', ' pizza'], 'name': \"Che' Bella Pizza\", 'price': 0},\n",
       " {'cuisines': ['indian'], 'name': 'Ajanta', 'price': 0},\n",
       " {'cuisines': ['italian', ' coffee-tea', ' sandwiches'],\n",
       "  'name': 'Panino Sportivo Roma',\n",
       "  'price': 2},\n",
       " {'cuisines': ['italian'], 'name': 'Max Soha', 'price': 2},\n",
       " {'cuisines': ['deli', ' pizza', ' sandwiches', ' chicken'],\n",
       "  'name': 'Strokos Pizza',\n",
       "  'price': 3},\n",
       " {'cuisines': ['american'], 'name': \"Camille's\", 'price': 1},\n",
       " {'cuisines': ['american-new', ' tapas'],\n",
       "  'name': 'Amsterdam Restaurant',\n",
       "  'price': 1},\n",
       " {'cuisines': ['deli', ' sandwiches', ' bagels', ' salads'],\n",
       "  'name': 'Nussbaum & Wu',\n",
       "  'price': 0},\n",
       " {'cuisines': ['middle-eastern'], 'name': \"Amir's Grill\", 'price': 1},\n",
       " {'cuisines': ['japanese', ' sushi', ' deli', ' sandwiches'],\n",
       "  'name': 'M2M - Morning To Midnight',\n",
       "  'price': 1},\n",
       " {'cuisines': ['korean'], 'name': 'The Mill', 'price': 2},\n",
       " {'cuisines': ['french', ' bistro'], 'name': 'Le Monde', 'price': 1},\n",
       " {'cuisines': ['american-new', ' soul-food'], 'name': \"Melba's\", 'price': 1},\n",
       " {'cuisines': ['pizza', ' american'], 'name': \"Chuck E Cheese's\", 'price': 0},\n",
       " {'cuisines': ['desserts'], 'name': 'Haagen-Dazs', 'price': 1},\n",
       " {'cuisines': ['coffee-tea', ' sandwiches'], 'name': \"Oren's\", 'price': 0},\n",
       " {'cuisines': ['barbecue', ' soul-food'],\n",
       "  'name': 'Dinosaur Bar-B-Que',\n",
       "  'price': 3},\n",
       " {'cuisines': ['greek', ' vegetarian'],\n",
       "  'name': 'Symposium Greek Restaurant',\n",
       "  'price': 0},\n",
       " {'cuisines': ['pizza'], 'name': 'Koronet Pizza', 'price': 1},\n",
       " {'cuisines': ['southwestern', ' tapas', ' bar-food'],\n",
       "  'name': 'The Heights Bar & Grill',\n",
       "  'price': 1},\n",
       " {'cuisines': ['middle-eastern', ' kosher'], 'name': 'Cafe Nana', 'price': 0},\n",
       " {'cuisines': ['deli', ' sandwiches'], 'name': 'Hamilton Deli', 'price': 0},\n",
       " {'cuisines': ['american-new',\n",
       "   ' smoothies-juices',\n",
       "   ' vegetarian',\n",
       "   ' healthy',\n",
       "   ' localorganic'],\n",
       "  'name': 'Community Food & Juice',\n",
       "  'price': 0},\n",
       " {'cuisines': ['american', ' scandinavian'],\n",
       "  'name': \"Haakon's Hall\",\n",
       "  'price': 0},\n",
       " {'cuisines': ['mexican'], 'name': 'El Porton', 'price': 0},\n",
       " {'cuisines': ['coffee-tea'], 'name': \"Brad's\", 'price': 1},\n",
       " {'cuisines': ['burgers', ' bar-food'],\n",
       "  'name': \"Mel's Burger Bar\",\n",
       "  'price': 2},\n",
       " {'cuisines': ['italian', ' pizza', ' localorganic'],\n",
       "  'name': 'Bettolona',\n",
       "  'price': 1},\n",
       " {'cuisines': ['burgers', ' hot-dogs'], 'name': 'Five Guys', 'price': 1},\n",
       " {'cuisines': ['chinese', ' japanese', ' sushi', ' teahouses'],\n",
       "  'name': 'Nikko',\n",
       "  'price': 2},\n",
       " {'cuisines': ['middle-eastern'], 'name': 'Falafel on Broadway', 'price': 1},\n",
       " {'cuisines': ['japanese', ' sushi'], 'name': 'Sushi Sushi', 'price': 1},\n",
       " {'cuisines': ['bakery-pastries', ' desserts'],\n",
       "  'name': 'Insomnia Cookies',\n",
       "  'price': 1},\n",
       " {'cuisines': ['coffee-tea', ' sandwiches'],\n",
       "  'name': 'Cafe Amrita',\n",
       "  'price': 1},\n",
       " {'cuisines': ['desserts'], 'name': 'Pinkberry', 'price': 2},\n",
       " {'cuisines': ['coffee-tea', ' sandwiches', ' crepes'],\n",
       "  'name': 'Artopolis Espresso Cafe',\n",
       "  'price': 1},\n",
       " {'cuisines': ['coffee-tea', ' sandwiches'], 'name': 'Max Caffe', 'price': 2},\n",
       " {'cuisines': ['mexican'], 'name': 'Chipotle', 'price': 1},\n",
       " {'cuisines': ['bakery-pastries', ' desserts'],\n",
       "  'name': 'Chokolat Patisserie',\n",
       "  'price': 5},\n",
       " {'cuisines': ['bakery-pastries', ' coffee-tea', ' desserts'],\n",
       "  'name': 'Chokolat Patisserie',\n",
       "  'price': 1},\n",
       " {'cuisines': ['deli', ' sandwiches'], 'name': \"Joe's G-H Deli\", 'price': 2},\n",
       " {'cuisines': ['coffee-tea'], 'name': 'Joe the Art of Coffee', 'price': 1},\n",
       " {'cuisines': ['bakery-pastries', ' desserts'],\n",
       "  'name': 'Levain Bakery',\n",
       "  'price': 2},\n",
       " {'cuisines': ['middle-eastern', ' vegetarian'],\n",
       "  'name': 'Silvana',\n",
       "  'price': 1},\n",
       " {'cuisines': ['german', ' eclectic', ' bar-food'],\n",
       "  'name': 'Bier International',\n",
       "  'price': 1},\n",
       " {'cuisines': ['indian', ' vegetarian'], 'name': 'Vegenation', 'price': 1},\n",
       " {'cuisines': ['american-new', ' bistro'], 'name': 'Flat Top', 'price': 4},\n",
       " {'cuisines': ['coffee-tea'], 'name': 'Kuro Kuma', 'price': 1},\n",
       " {'cuisines': ['american-new'], 'name': 'Vinateria', 'price': 2},\n",
       " {'cuisines': ['chinese'], 'name': 'Henan Cart', 'price': 1},\n",
       " {'cuisines': ['japanese', ' sushi', ' thai'], 'name': 'Vine', 'price': 2},\n",
       " {'cuisines': ['mexican'], 'name': 'El Paso Truck', 'price': 1},\n",
       " {'cuisines': ['pizza', ' chicken'],\n",
       "  'name': \"Mama's Fried Chicken and Pizza\",\n",
       "  'price': 1},\n",
       " {'cuisines': ['indian'], 'name': 'Chapati House', 'price': 2},\n",
       " {'cuisines': ['american', ' localorganic'],\n",
       "  'name': 'Dig Inn Seasonal Market',\n",
       "  'price': 1},\n",
       " {'cuisines': ['chinese'], 'name': 'Uncle Luoyang', 'price': 1},\n",
       " {'cuisines': ['middle-eastern'], 'name': 'Pita Grill', 'price': 2},\n",
       " {'cuisines': ['japanese'], 'name': 'Kissaten Jin', 'price': 1},\n",
       " {'cuisines': ['coffee-tea', ' teahouses'],\n",
       "  'name': 'Serengeti Teas & Spices',\n",
       "  'price': 2},\n",
       " {'cuisines': ['seafood', ' wings', ' fish--chips'],\n",
       "  'name': 'Lighthouse Fish Market & Restaurant',\n",
       "  'price': 3},\n",
       " {'cuisines': ['seafood'], 'name': \"Lolo's Seafood Shack\", 'price': 2},\n",
       " {'cuisines': ['sandwiches', ' salads', ' teahouses'],\n",
       "  'name': 'Harmony',\n",
       "  'price': 1},\n",
       " {'cuisines': ['american', ' gastropub'],\n",
       "  'name': 'Bernheim & Schwartz',\n",
       "  'price': 2},\n",
       " {'cuisines': ['american-new'], 'name': 'BTH (By The Hudson)', 'price': 3},\n",
       " {'cuisines': [], 'name': 'Empanadas Monumental', 'price': 0},\n",
       " {'cuisines': [], 'name': \"Friedman's\", 'price': 0},\n",
       " {'cuisines': [], 'name': '176 Presbyterian Deli', 'price': 0},\n",
       " {'cuisines': [], 'name': \"Nacho Mama's\", 'price': 0},\n",
       " {'cuisines': [], 'name': 'Streetbird Rotisserie', 'price': 0},\n",
       " {'cuisines': [], 'name': 'Colum Chinese Restaurant', 'price': 0},\n",
       " {'cuisines': [], 'name': 'Flacoz Tacoz', 'price': 0},\n",
       " {'cuisines': [], 'name': 'sweetgreen', 'price': 0},\n",
       " {'cuisines': [], 'name': 'La Salle Dumpling Room', 'price': 0}]"
      ]
     },
     "execution_count": 98,
     "metadata": {},
     "output_type": "execute_result"
    }
   ],
   "source": [
    "restaurants = []\n",
    "search_table = soup.find('table', {'class': 'search-results'}) # the search-results table\n",
    "table_body = search_table.find('tbody') # get only the table body\n",
    "for tr_tag in table_body.find_all('tr'):\n",
    "    name = get_name(tr_tag)\n",
    "    price = get_price(tr_tag)\n",
    "    cuisines = get_cuisines(tr_tag)\n",
    "    rest_dict = {'name': name, 'price': price, 'cuisines': cuisines}\n",
    "    restaurants.append(rest_dict)\n",
    "restaurants"
   ]
  },
  {
   "cell_type": "markdown",
   "metadata": {},
   "source": [
    "Now `restaurants` is a *list of dictionaries*, which is the data structure we were aiming for from the beginning."
   ]
  },
  {
   "cell_type": "markdown",
   "metadata": {},
   "source": [
    "## Back to SQL\n",
    "\n",
    "In order to store this data in SQL, we first need to create the data schema. By this I mean: we need to decide which tables are needed, and what the data types will be for those tables.\n",
    "\n",
    "So what tables do we need? Clearly we need a table for restaurants, since that's what the data represents. The restaurant table will need at least a field for name and price. The question of how to store the cuisine types is a little bit different: it's an example of a many-to-many relationship. Each restaurant can have zero or more cuisine types, and each cuisine type can be associated with more than one restaurant.\n",
    "\n",
    "The best way to represent a many-to-many relationship in SQL is with a linking table, and this instance will be no different! Because the cuisine types themselves don't have any extra data associated with them, we can safely store a string for the type in the linking table itself, instead of creating a second table for cuisine types.\n",
    "\n",
    "Here's what I propose for the schemas of the two tables:\n",
    "\n",
    "The `restaurant` table:\n",
    "\n",
    "| column | type |\n",
    "| ------ | ---- |\n",
    "| id | serial |\n",
    "| name | varchar(80) |\n",
    "| price | int |\n",
    "\n",
    "The `cuisine` table:\n",
    "\n",
    "| column | type |\n",
    "| ------ | ---- |\n",
    "| restaurant_id | int |\n",
    "| cuisine | varchar(40) |\n",
    "\n",
    "The `serial` type is a special PostgreSQL type that automatically creates an incrementing unique integer in that field. This is great for fields that function as unique identifiers where you don't want to keep track of the number yourself."
   ]
  },
  {
   "cell_type": "markdown",
   "metadata": {},
   "source": [
    "### Creating the tables\n",
    "\n",
    "At this point, you can open up `psql` and create a new database to contain the restaurant data. We'll call it `menupages`:\n",
    "\n",
    "    allison=# create database menupages;\n",
    "    CREATE DATABASE\n",
    "\n",
    "Connect to the database like so:\n",
    "\n",
    "    \\c menupages\n",
    "    \n",
    "We'll use the [`CREATE TABLE`](https://www.postgresql.org/docs/current/static/sql-createtable.html) SQL command to create the tables. Here's the `CREATE TABLE` for restaurants:\n",
    "\n",
    "    CREATE TABLE restaurant (\n",
    "      id serial,\n",
    "      name varchar(80),\n",
    "      price int\n",
    "    );\n",
    "    \n",
    "And the `CREATE TABLE` for cuisines:\n",
    "\n",
    "    CREATE TABLE cuisine (\n",
    "      restaurant_id int,\n",
    "      cuisine varchar(40)\n",
    "    );\n",
    "    \n",
    "After executing these `CREATE TABLE` statements, running `\\d` should show something like this:\n",
    "\n",
    "```\n",
    "menupages=# \\d\n",
    "                List of relations\n",
    " Schema |       Name        |   Type   |  Owner  \n",
    "--------+-------------------+----------+---------\n",
    " public | cuisine           | table    | allison\n",
    " public | restaurant        | table    | allison\n",
    " public | restaurant_id_seq | sequence | allison\n",
    "(3 rows)\n",
    "```\n",
    "\n",
    "(The `restaurant_id_seq` entry is something that PostgreSQL adds automatically to keep track of the `serial` type.)\n",
    "\n",
    "### Inserting data into SQL\n",
    "\n",
    "Now we can take the data in our list of dictionaries and add it to SQL. We'll do this by connecting to the database with pg8000 and using the `INSERT` statement to add records to the tables. The code in the following cell connects to PostgreSQL:"
   ]
  },
  {
   "cell_type": "code",
   "execution_count": 76,
   "metadata": {
    "collapsed": true
   },
   "outputs": [],
   "source": [
    "import pg8000\n",
    "conn = pg8000.connect(database=\"menupages\")"
   ]
  },
  {
   "cell_type": "markdown",
   "metadata": {},
   "source": [
    "The process of inserting a record into the database from Python is a little bit complicated. First, we need to create a cursor:"
   ]
  },
  {
   "cell_type": "code",
   "execution_count": 77,
   "metadata": {
    "collapsed": true
   },
   "outputs": [],
   "source": [
    "cursor = conn.cursor()"
   ]
  },
  {
   "cell_type": "markdown",
   "metadata": {},
   "source": [
    "Then, we'll write a string that contains the `INSERT INTO` SQL statement. The `INSERT INTO` statement looks like this, schematically (fill in the lower-case \n",
    "\n",
    "    INSERT INTO table_name (col1, col2, col3, col4, ...)\n",
    "    VALUES (value1, value2, value3, val4, ...)\n",
    "    RETURNING rval1, rval2, ...\n",
    "    \n",
    "... where:\n",
    "\n",
    "* `table_name` is the name of your table\n",
    "* `colN`: one or more comma-separated column names\n",
    "* `valueN`: one or more comma-separated values to insert into the columns (in same order as `colN`)\n",
    "* `rvalN`: values to *return* from the insert process\n",
    "\n",
    "The following statement inserts a new row into the `restaurant` table with the name `Test Restaurant` and price `3`, returning the `id` field:"
   ]
  },
  {
   "cell_type": "code",
   "execution_count": 78,
   "metadata": {
    "collapsed": true
   },
   "outputs": [],
   "source": [
    "test_insert = \"INSERT INTO restaurant (name, price) VALUES ('Test Restaurant', 3) RETURNING id\""
   ]
  },
  {
   "cell_type": "markdown",
   "metadata": {},
   "source": [
    "We'll execute this statement with `cursor.execute()`:"
   ]
  },
  {
   "cell_type": "code",
   "execution_count": 79,
   "metadata": {
    "collapsed": false
   },
   "outputs": [],
   "source": [
    "cursor.execute(test_insert)"
   ]
  },
  {
   "cell_type": "markdown",
   "metadata": {},
   "source": [
    "Using `cursor.fetchone()`, we can get back the value for the `id` field, which was automatically created by the database because the column's type is `serial`:"
   ]
  },
  {
   "cell_type": "code",
   "execution_count": 80,
   "metadata": {
    "collapsed": false
   },
   "outputs": [
    {
     "name": "stdout",
     "output_type": "stream",
     "text": [
      "267\n"
     ]
    }
   ],
   "source": [
    "rowid = cursor.fetchone()[0] # `fetchone()` always returns a list of values, even if there's only one column\n",
    "print(rowid)"
   ]
  },
  {
   "cell_type": "markdown",
   "metadata": {},
   "source": [
    "The value for `id` will start with 0 and increment once for every record you add to the table. Note that the number keeps growing *even if you've deleted rows from the table* (which is why the number you see above is greater than 0: I've been messing with this table a lot, making mistakes, deleting records, etc.).\n",
    "\n",
    "Changes you make to the database don't take effect until you've executed the `.commit()` method of the connection object."
   ]
  },
  {
   "cell_type": "code",
   "execution_count": 81,
   "metadata": {
    "collapsed": true
   },
   "outputs": [],
   "source": [
    "conn.commit()"
   ]
  },
  {
   "cell_type": "markdown",
   "metadata": {},
   "source": [
    "We'll do a quick check to ensure that the record did indeed get added to the table:"
   ]
  },
  {
   "cell_type": "code",
   "execution_count": 84,
   "metadata": {
    "collapsed": false
   },
   "outputs": [
    {
     "name": "stdout",
     "output_type": "stream",
     "text": [
      "[267, 'Test Restaurant', 3]\n"
     ]
    }
   ],
   "source": [
    "cursor = conn.cursor()\n",
    "cursor.execute(\"SELECT * FROM restaurant\")\n",
    "for item in cursor.fetchall():\n",
    "    print(item)"
   ]
  },
  {
   "cell_type": "markdown",
   "metadata": {},
   "source": [
    "Looks good! We got back the row that we just created.\n",
    "\n",
    "### Parameters\n",
    "\n",
    "If you're including data from another source in a SQL statement, you should use *parameters* instead of attempting to construct the query yourself. This saves you from accidentally introducing errors into your program if the data you want to insert uses special SQL characters. To use parameters, we'll replace the hard-coded data items in the SQL statement we wrote above with the special replacement character sequence `%s`:"
   ]
  },
  {
   "cell_type": "code",
   "execution_count": 85,
   "metadata": {
    "collapsed": true
   },
   "outputs": [],
   "source": [
    "insert_statement = \"INSERT INTO restaurant (name, price) VALUES (%s, %s) RETURNING id\""
   ]
  },
  {
   "cell_type": "markdown",
   "metadata": {},
   "source": [
    "Then, when calling `.execute()` on the cursor object, we include the values we want to be included in the query as a second parameter, in a list, in the order we want them to replace the `%s` sequences in the query:"
   ]
  },
  {
   "cell_type": "code",
   "execution_count": 86,
   "metadata": {
    "collapsed": false
   },
   "outputs": [
    {
     "name": "stdout",
     "output_type": "stream",
     "text": [
      "268\n"
     ]
    }
   ],
   "source": [
    "cursor = conn.cursor()\n",
    "cursor.execute(insert_statement, [\"Another Test Restaurant\", 4])\n",
    "rowid = cursor.fetchone()[0]\n",
    "conn.commit()\n",
    "print(rowid)"
   ]
  },
  {
   "cell_type": "markdown",
   "metadata": {},
   "source": [
    "More notes TK, but here's the loop that adds all of the restaurants to the database:"
   ]
  },
  {
   "cell_type": "code",
   "execution_count": 99,
   "metadata": {
    "collapsed": false
   },
   "outputs": [],
   "source": [
    "cursor = conn.cursor()\n",
    "for item in restaurants:\n",
    "    cursor.execute(\n",
    "        \"INSERT INTO restaurant (name, price) VALUES (%s, %s) RETURNING id\",\n",
    "        [item['name'], item['price']])\n",
    "conn.commit()"
   ]
  }
 ],
 "metadata": {
  "kernelspec": {
   "display_name": "Python 3",
   "language": "python",
   "name": "python3"
  },
  "language_info": {
   "codemirror_mode": {
    "name": "ipython",
    "version": 3
   },
   "file_extension": ".py",
   "mimetype": "text/x-python",
   "name": "python",
   "nbconvert_exporter": "python",
   "pygments_lexer": "ipython3",
   "version": "3.5.1"
  }
 },
 "nbformat": 4,
 "nbformat_minor": 0
}
