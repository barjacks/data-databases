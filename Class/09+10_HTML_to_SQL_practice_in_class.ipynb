{
 "cells": [
  {
   "cell_type": "markdown",
   "metadata": {},
   "source": [
    "## HTML to SQL"
   ]
  },
  {
   "cell_type": "code",
   "execution_count": 29,
   "metadata": {
    "collapsed": false
   },
   "outputs": [
    {
     "data": {
      "text/plain": [
       "('menupages-morningside-heights.html',\n",
       " <http.client.HTTPMessage at 0x10204cef0>)"
      ]
     },
     "execution_count": 29,
     "metadata": {},
     "output_type": "execute_result"
    }
   ],
   "source": [
    "from urllib.request import urlretrieve\n",
    "\n",
    "urlretrieve('https://raw.githubusercontent.com/ledeprogram/data-and-databases/master/menupages-morningside-heights.html', 'menupages-morningside-heights.html')"
   ]
  },
  {
   "cell_type": "markdown",
   "metadata": {},
   "source": [
    "store:\n",
    "\n",
    "* restaurant name\n",
    "* price $$$$\n",
    "* cuisines\n",
    "\n",
    "research:\n",
    "\n",
    "* every restaurant has a <tr> this is a child of the <table> tag with class search results\n",
    "* restaurants are in td tags with class name-adress\n",
    "* restaurant names are in <a> tag insinde that <td>\n",
    "* restaurant price in a span inside a t with class price\n",
    "* cuisine is in a <td> Tag with no class, the fifth td Tag is a child of the restaurants tr"
   ]
  },
  {
   "cell_type": "markdown",
   "metadata": {},
   "source": [
    "target:\n",
    "\n",
    "* list of dictionaries\n",
    "\n",
    "[\n",
    "    {'name': 'Brad's', 'price': 1, 'cuisines': ['Coffee']},\n",
    "    {'name': 'Cafe Nana', 'price': 0, cuisines': ['Middle Eastern', 'Kosher']},\n",
    "    ...\n",
    "]"
   ]
  },
  {
   "cell_type": "code",
   "execution_count": 30,
   "metadata": {
    "collapsed": true
   },
   "outputs": [],
   "source": [
    "from bs4 import BeautifulSoup"
   ]
  },
  {
   "cell_type": "code",
   "execution_count": 31,
   "metadata": {
    "collapsed": true
   },
   "outputs": [],
   "source": [
    "raw_html = open(\"menupages-morningside-heights.html\").read()\n",
    "soup = BeautifulSoup(raw_html, \"html.parser\")"
   ]
  },
  {
   "cell_type": "code",
   "execution_count": 32,
   "metadata": {
    "collapsed": true
   },
   "outputs": [],
   "source": [
    "#Just the names"
   ]
  },
  {
   "cell_type": "code",
   "execution_count": 33,
   "metadata": {
    "collapsed": false
   },
   "outputs": [
    {
     "name": "stdout",
     "output_type": "stream",
     "text": [
      "Milano Market\n",
      "Massawa\n",
      "China Place\n",
      "Subsconscious\n",
      "Famous Famiglia\n",
      "Kitchenette\n",
      "V & T Pizza\n",
      "New Aroma\n",
      "Peking Garden\n",
      "Tom's Restaurant\n",
      "Pisticci\n",
      "Deluxe\n",
      "Toast\n",
      "Tom's Delicious Pizza\n",
      "West Place\n",
      "Che' Bella Pizza\n",
      "Ajanta\n",
      "Panino Sportivo Roma\n",
      "Max Soha\n",
      "Strokos Pizza\n",
      "Camille's\n",
      "Amsterdam Restaurant\n",
      "Nussbaum & Wu\n",
      "Amir's Grill\n",
      "M2M - Morning To Midnight\n",
      "The Mill\n",
      "Le Monde\n",
      "Melba's\n",
      "Chuck E Cheese's\n",
      "Haagen-Dazs\n",
      "Oren's\n",
      "Dinosaur Bar-B-Que\n",
      "Symposium Greek Restaurant\n",
      "Koronet Pizza\n",
      "The Heights Bar & Grill\n",
      "Cafe Nana\n",
      "Hamilton Deli\n",
      "Community Food & Juice\n",
      "Haakon's Hall\n",
      "El Porton\n",
      "Brad's\n",
      "Mel's Burger Bar\n",
      "Bettolona\n",
      "Five Guys\n",
      "Nikko\n",
      "Falafel on Broadway\n",
      "Sushi Sushi\n",
      "Insomnia Cookies\n",
      "Cafe Amrita\n",
      "Pinkberry\n",
      "Artopolis Espresso Cafe\n",
      "Max Caffe\n",
      "Chipotle\n",
      "Chokolat Patisserie\n",
      "Chokolat Patisserie\n",
      "Joe's G-H Deli\n",
      "Joe the Art of Coffee\n",
      "Levain Bakery\n",
      "Silvana\n",
      "Bier International\n",
      "Vegenation\n",
      "Flat Top\n",
      "Kuro Kuma\n",
      "Vinateria\n",
      "Henan Cart\n",
      "Vine\n",
      "El Paso Truck\n",
      "Mama's Fried Chicken and Pizza\n",
      "Chapati House\n",
      "Dig Inn Seasonal Market\n",
      "Uncle Luoyang\n",
      "Pita Grill\n",
      "Kissaten Jin\n",
      "Serengeti Teas & Spices\n",
      "Lighthouse Fish Market & Restaurant\n",
      "Lolo's Seafood Shack\n",
      "Harmony\n",
      "Bernheim & Schwartz\n",
      "BTH (By The Hudson)\n",
      "Empanadas Monumental\n",
      "Friedman's\n",
      "176 Presbyterian Deli\n",
      "Nacho Mama's\n",
      "Streetbird Rotisserie\n",
      "Colum Chinese Restaurant\n",
      "Flacoz Tacoz\n",
      "sweetgreen\n",
      "La Salle Dumpling Room\n"
     ]
    }
   ],
   "source": [
    "search_table = soup.find('table', {'class': 'search-results'})\n",
    "table_body = search_table.find('tbody')\n",
    "for tr_tag in table_body.find_all('tr'):\n",
    "    name_address_tag = tr_tag.find('td', {'class': 'name-address'})\n",
    "    a_tag = name_address_tag.find('a')\n",
    "    print(a_tag.string)"
   ]
  },
  {
   "cell_type": "code",
   "execution_count": 34,
   "metadata": {
    "collapsed": true
   },
   "outputs": [],
   "source": [
    "#how about names and prices, and the cuisines"
   ]
  },
  {
   "cell_type": "code",
   "execution_count": 35,
   "metadata": {
    "collapsed": false
   },
   "outputs": [
    {
     "name": "stdout",
     "output_type": "stream",
     "text": [
      "Milano Market 2\n",
      "Massawa 0\n",
      "China Place 0\n",
      "Subsconscious 0\n",
      "Famous Famiglia 0\n",
      "Kitchenette 0\n",
      "V & T Pizza 0\n",
      "New Aroma 1\n",
      "Peking Garden 1\n",
      "Tom's Restaurant 1\n",
      "Pisticci 1\n",
      "Deluxe 1\n",
      "Toast 2\n",
      "Tom's Delicious Pizza 2\n",
      "West Place 1\n",
      "Che' Bella Pizza 0\n",
      "Ajanta 0\n",
      "Panino Sportivo Roma 2\n",
      "Max Soha 2\n",
      "Strokos Pizza 3\n",
      "Camille's 1\n",
      "Amsterdam Restaurant 1\n",
      "Nussbaum & Wu 0\n",
      "Amir's Grill 1\n",
      "M2M - Morning To Midnight 1\n",
      "The Mill 2\n",
      "Le Monde 1\n",
      "Melba's 1\n",
      "Chuck E Cheese's 0\n",
      "Haagen-Dazs 1\n",
      "Oren's 0\n",
      "Dinosaur Bar-B-Que 3\n",
      "Symposium Greek Restaurant 0\n",
      "Koronet Pizza 1\n",
      "The Heights Bar & Grill 1\n",
      "Cafe Nana 0\n",
      "Hamilton Deli 0\n",
      "Community Food & Juice 0\n",
      "Haakon's Hall 0\n",
      "El Porton 0\n",
      "Brad's 1\n",
      "Mel's Burger Bar 2\n",
      "Bettolona 1\n",
      "Five Guys 1\n",
      "Nikko 2\n",
      "Falafel on Broadway 1\n",
      "Sushi Sushi 1\n",
      "Insomnia Cookies 1\n",
      "Cafe Amrita 1\n",
      "Pinkberry 2\n",
      "Artopolis Espresso Cafe 1\n",
      "Max Caffe 2\n",
      "Chipotle 1\n",
      "Chokolat Patisserie 5\n",
      "Chokolat Patisserie 1\n",
      "Joe's G-H Deli 2\n",
      "Joe the Art of Coffee 1\n",
      "Levain Bakery 2\n",
      "Silvana 1\n",
      "Bier International 1\n",
      "Vegenation 1\n",
      "Flat Top 4\n",
      "Kuro Kuma 1\n",
      "Vinateria 2\n",
      "Henan Cart 1\n",
      "Vine 2\n",
      "El Paso Truck 1\n",
      "Mama's Fried Chicken and Pizza 1\n",
      "Chapati House 2\n",
      "Dig Inn Seasonal Market 1\n",
      "Uncle Luoyang 1\n",
      "Pita Grill 2\n",
      "Kissaten Jin 1\n",
      "Serengeti Teas & Spices 2\n",
      "Lighthouse Fish Market & Restaurant 3\n",
      "Lolo's Seafood Shack 2\n",
      "Harmony 1\n",
      "Bernheim & Schwartz 2\n",
      "BTH (By The Hudson) 3\n",
      "Empanadas Monumental 0\n",
      "Friedman's 0\n",
      "176 Presbyterian Deli 0\n",
      "Nacho Mama's 0\n",
      "Streetbird Rotisserie 0\n",
      "Colum Chinese Restaurant 0\n",
      "Flacoz Tacoz 0\n",
      "sweetgreen 0\n",
      "La Salle Dumpling Room 0\n"
     ]
    }
   ],
   "source": [
    "search_table = soup.find('table', {'class': 'search-results'})\n",
    "table_body = search_table.find('tbody')\n",
    "for tr_tag in table_body.find_all('tr'):\n",
    "    #Get the restaurant name from the name inside the td\n",
    "    #restaurant_name = get_name(tr_tag)\n",
    "    name_address_tag = tr_tag.find('td', {'class': 'name-address'})\n",
    "    a_tag = name_address_tag.find('a')\n",
    "    restaurant_name = a_tag.string\n",
    "    #get the price from the span if present\n",
    "    #restaurant_name = get_price(tr_tag)\n",
    "    price_tag = tr_tag.find('td', {'class': 'price'})\n",
    "    price_span_tag = price_tag.find('span')\n",
    "    if price_span_tag:\n",
    "        price = price_span_tag.string\n",
    "    else:\n",
    "        price = 0\n",
    "    print(restaurant_name, price)"
   ]
  },
  {
   "cell_type": "code",
   "execution_count": 50,
   "metadata": {
    "collapsed": true
   },
   "outputs": [],
   "source": [
    "def get_name(tr_tag):\n",
    "    name_address_tag = tr_tag.find('td', {'class': 'name-address'})\n",
    "    a_tag = name_address_tag.find('a')\n",
    "    restaurant_name = a_tag.string\n",
    "    return restaurant_name\n",
    "\n",
    "def get_price(tag):\n",
    "    price_tag = tr_tag.find('td', {'class': 'price'})\n",
    "    price_span_tag = price_tag.find('span')\n",
    "    if price_span_tag:\n",
    "        price = int(price_span_tag.string)\n",
    "    else:\n",
    "        price = 0\n",
    "    return price\n",
    "\n",
    "def get_cuisines(tr_tag):\n",
    "    all_td_tags = tr_tag.find_all('td')\n",
    "    cuisine_tag = all_td_tags[4]\n",
    "    cuisines = cuisine_tag.string\n",
    "    if cuisines: \n",
    "        cuisines_list = cuisines.split(\",\")\n",
    "    else:\n",
    "        cuisines_list = []\n",
    "    return cuisines_list"
   ]
  },
  {
   "cell_type": "code",
   "execution_count": 51,
   "metadata": {
    "collapsed": false
   },
   "outputs": [
    {
     "data": {
      "text/plain": [
       "[{'cuisines': ['deli', ' sandwiches'], 'name': 'Milano Market', 'price': 2},\n",
       " {'cuisines': ['ethiopian', ' african'], 'name': 'Massawa', 'price': 0},\n",
       " {'cuisines': ['chinese', ' japanese', ' sushi'],\n",
       "  'name': 'China Place',\n",
       "  'price': 0},\n",
       " {'cuisines': ['cheese-steaks', ' deli', ' sandwiches', ' salads'],\n",
       "  'name': 'Subsconscious',\n",
       "  'price': 0},\n",
       " {'cuisines': ['italian', ' pizza'], 'name': 'Famous Famiglia', 'price': 0},\n",
       " {'cuisines': ['bakery-pastries', ' american', ' desserts'],\n",
       "  'name': 'Kitchenette',\n",
       "  'price': 0},\n",
       " {'cuisines': ['italian', ' pizza'], 'name': 'V & T Pizza', 'price': 0},\n",
       " {'cuisines': ['chinese'], 'name': 'New Aroma', 'price': 1},\n",
       " {'cuisines': ['chinese'], 'name': 'Peking Garden', 'price': 1},\n",
       " {'cuisines': ['diner'], 'name': \"Tom's Restaurant\", 'price': 1},\n",
       " {'cuisines': ['italian'], 'name': 'Pisticci', 'price': 1},\n",
       " {'cuisines': ['diner', ' american'], 'name': 'Deluxe', 'price': 1},\n",
       " {'cuisines': ['american', ' bar-food'], 'name': 'Toast', 'price': 2},\n",
       " {'cuisines': ['italian', ' pizza'],\n",
       "  'name': \"Tom's Delicious Pizza\",\n",
       "  'price': 2},\n",
       " {'cuisines': ['chinese'], 'name': 'West Place', 'price': 1},\n",
       " {'cuisines': ['italian', ' pizza'], 'name': \"Che' Bella Pizza\", 'price': 0},\n",
       " {'cuisines': ['indian'], 'name': 'Ajanta', 'price': 0},\n",
       " {'cuisines': ['italian', ' coffee-tea', ' sandwiches'],\n",
       "  'name': 'Panino Sportivo Roma',\n",
       "  'price': 2},\n",
       " {'cuisines': ['italian'], 'name': 'Max Soha', 'price': 2},\n",
       " {'cuisines': ['deli', ' pizza', ' sandwiches', ' chicken'],\n",
       "  'name': 'Strokos Pizza',\n",
       "  'price': 3},\n",
       " {'cuisines': ['american'], 'name': \"Camille's\", 'price': 1},\n",
       " {'cuisines': ['american-new', ' tapas'],\n",
       "  'name': 'Amsterdam Restaurant',\n",
       "  'price': 1},\n",
       " {'cuisines': ['deli', ' sandwiches', ' bagels', ' salads'],\n",
       "  'name': 'Nussbaum & Wu',\n",
       "  'price': 0},\n",
       " {'cuisines': ['middle-eastern'], 'name': \"Amir's Grill\", 'price': 1},\n",
       " {'cuisines': ['japanese', ' sushi', ' deli', ' sandwiches'],\n",
       "  'name': 'M2M - Morning To Midnight',\n",
       "  'price': 1},\n",
       " {'cuisines': ['korean'], 'name': 'The Mill', 'price': 2},\n",
       " {'cuisines': ['french', ' bistro'], 'name': 'Le Monde', 'price': 1},\n",
       " {'cuisines': ['american-new', ' soul-food'], 'name': \"Melba's\", 'price': 1},\n",
       " {'cuisines': ['pizza', ' american'], 'name': \"Chuck E Cheese's\", 'price': 0},\n",
       " {'cuisines': ['desserts'], 'name': 'Haagen-Dazs', 'price': 1},\n",
       " {'cuisines': ['coffee-tea', ' sandwiches'], 'name': \"Oren's\", 'price': 0},\n",
       " {'cuisines': ['barbecue', ' soul-food'],\n",
       "  'name': 'Dinosaur Bar-B-Que',\n",
       "  'price': 3},\n",
       " {'cuisines': ['greek', ' vegetarian'],\n",
       "  'name': 'Symposium Greek Restaurant',\n",
       "  'price': 0},\n",
       " {'cuisines': ['pizza'], 'name': 'Koronet Pizza', 'price': 1},\n",
       " {'cuisines': ['southwestern', ' tapas', ' bar-food'],\n",
       "  'name': 'The Heights Bar & Grill',\n",
       "  'price': 1},\n",
       " {'cuisines': ['middle-eastern', ' kosher'], 'name': 'Cafe Nana', 'price': 0},\n",
       " {'cuisines': ['deli', ' sandwiches'], 'name': 'Hamilton Deli', 'price': 0},\n",
       " {'cuisines': ['american-new',\n",
       "   ' smoothies-juices',\n",
       "   ' vegetarian',\n",
       "   ' healthy',\n",
       "   ' localorganic'],\n",
       "  'name': 'Community Food & Juice',\n",
       "  'price': 0},\n",
       " {'cuisines': ['american', ' scandinavian'],\n",
       "  'name': \"Haakon's Hall\",\n",
       "  'price': 0},\n",
       " {'cuisines': ['mexican'], 'name': 'El Porton', 'price': 0},\n",
       " {'cuisines': ['coffee-tea'], 'name': \"Brad's\", 'price': 1},\n",
       " {'cuisines': ['burgers', ' bar-food'],\n",
       "  'name': \"Mel's Burger Bar\",\n",
       "  'price': 2},\n",
       " {'cuisines': ['italian', ' pizza', ' localorganic'],\n",
       "  'name': 'Bettolona',\n",
       "  'price': 1},\n",
       " {'cuisines': ['burgers', ' hot-dogs'], 'name': 'Five Guys', 'price': 1},\n",
       " {'cuisines': ['chinese', ' japanese', ' sushi', ' teahouses'],\n",
       "  'name': 'Nikko',\n",
       "  'price': 2},\n",
       " {'cuisines': ['middle-eastern'], 'name': 'Falafel on Broadway', 'price': 1},\n",
       " {'cuisines': ['japanese', ' sushi'], 'name': 'Sushi Sushi', 'price': 1},\n",
       " {'cuisines': ['bakery-pastries', ' desserts'],\n",
       "  'name': 'Insomnia Cookies',\n",
       "  'price': 1},\n",
       " {'cuisines': ['coffee-tea', ' sandwiches'],\n",
       "  'name': 'Cafe Amrita',\n",
       "  'price': 1},\n",
       " {'cuisines': ['desserts'], 'name': 'Pinkberry', 'price': 2},\n",
       " {'cuisines': ['coffee-tea', ' sandwiches', ' crepes'],\n",
       "  'name': 'Artopolis Espresso Cafe',\n",
       "  'price': 1},\n",
       " {'cuisines': ['coffee-tea', ' sandwiches'], 'name': 'Max Caffe', 'price': 2},\n",
       " {'cuisines': ['mexican'], 'name': 'Chipotle', 'price': 1},\n",
       " {'cuisines': ['bakery-pastries', ' desserts'],\n",
       "  'name': 'Chokolat Patisserie',\n",
       "  'price': 5},\n",
       " {'cuisines': ['bakery-pastries', ' coffee-tea', ' desserts'],\n",
       "  'name': 'Chokolat Patisserie',\n",
       "  'price': 1},\n",
       " {'cuisines': ['deli', ' sandwiches'], 'name': \"Joe's G-H Deli\", 'price': 2},\n",
       " {'cuisines': ['coffee-tea'], 'name': 'Joe the Art of Coffee', 'price': 1},\n",
       " {'cuisines': ['bakery-pastries', ' desserts'],\n",
       "  'name': 'Levain Bakery',\n",
       "  'price': 2},\n",
       " {'cuisines': ['middle-eastern', ' vegetarian'],\n",
       "  'name': 'Silvana',\n",
       "  'price': 1},\n",
       " {'cuisines': ['german', ' eclectic', ' bar-food'],\n",
       "  'name': 'Bier International',\n",
       "  'price': 1},\n",
       " {'cuisines': ['indian', ' vegetarian'], 'name': 'Vegenation', 'price': 1},\n",
       " {'cuisines': ['american-new', ' bistro'], 'name': 'Flat Top', 'price': 4},\n",
       " {'cuisines': ['coffee-tea'], 'name': 'Kuro Kuma', 'price': 1},\n",
       " {'cuisines': ['american-new'], 'name': 'Vinateria', 'price': 2},\n",
       " {'cuisines': ['chinese'], 'name': 'Henan Cart', 'price': 1},\n",
       " {'cuisines': ['japanese', ' sushi', ' thai'], 'name': 'Vine', 'price': 2},\n",
       " {'cuisines': ['mexican'], 'name': 'El Paso Truck', 'price': 1},\n",
       " {'cuisines': ['pizza', ' chicken'],\n",
       "  'name': \"Mama's Fried Chicken and Pizza\",\n",
       "  'price': 1},\n",
       " {'cuisines': ['indian'], 'name': 'Chapati House', 'price': 2},\n",
       " {'cuisines': ['american', ' localorganic'],\n",
       "  'name': 'Dig Inn Seasonal Market',\n",
       "  'price': 1},\n",
       " {'cuisines': ['chinese'], 'name': 'Uncle Luoyang', 'price': 1},\n",
       " {'cuisines': ['middle-eastern'], 'name': 'Pita Grill', 'price': 2},\n",
       " {'cuisines': ['japanese'], 'name': 'Kissaten Jin', 'price': 1},\n",
       " {'cuisines': ['coffee-tea', ' teahouses'],\n",
       "  'name': 'Serengeti Teas & Spices',\n",
       "  'price': 2},\n",
       " {'cuisines': ['seafood', ' wings', ' fish--chips'],\n",
       "  'name': 'Lighthouse Fish Market & Restaurant',\n",
       "  'price': 3},\n",
       " {'cuisines': ['seafood'], 'name': \"Lolo's Seafood Shack\", 'price': 2},\n",
       " {'cuisines': ['sandwiches', ' salads', ' teahouses'],\n",
       "  'name': 'Harmony',\n",
       "  'price': 1},\n",
       " {'cuisines': ['american', ' gastropub'],\n",
       "  'name': 'Bernheim & Schwartz',\n",
       "  'price': 2},\n",
       " {'cuisines': ['american-new'], 'name': 'BTH (By The Hudson)', 'price': 3},\n",
       " {'cuisines': [], 'name': 'Empanadas Monumental', 'price': 0},\n",
       " {'cuisines': [], 'name': \"Friedman's\", 'price': 0},\n",
       " {'cuisines': [], 'name': '176 Presbyterian Deli', 'price': 0},\n",
       " {'cuisines': [], 'name': \"Nacho Mama's\", 'price': 0},\n",
       " {'cuisines': [], 'name': 'Streetbird Rotisserie', 'price': 0},\n",
       " {'cuisines': [], 'name': 'Colum Chinese Restaurant', 'price': 0},\n",
       " {'cuisines': [], 'name': 'Flacoz Tacoz', 'price': 0},\n",
       " {'cuisines': [], 'name': 'sweetgreen', 'price': 0},\n",
       " {'cuisines': [], 'name': 'La Salle Dumpling Room', 'price': 0}]"
      ]
     },
     "execution_count": 51,
     "metadata": {},
     "output_type": "execute_result"
    }
   ],
   "source": [
    "restaurants = []\n",
    "search_table = soup.find('table', {'class': 'search-results'})\n",
    "table_body = search_table.find('tbody')\n",
    "for tr_tag in table_body.find_all('tr'):\n",
    "    restaurant_name = get_name(tr_tag)\n",
    "    price = get_price(tr_tag)\n",
    "    cuisines = get_cuisines(tr_tag)\n",
    "    #print(restaurant_name, price, cuisines)\n",
    "    rest_dict = {'name': restaurant_name, 'price': price, 'cuisines': cuisines}\n",
    "    restaurants.append(rest_dict)\n",
    "restaurants\n",
    "    "
   ]
  },
  {
   "cell_type": "code",
   "execution_count": null,
   "metadata": {
    "collapsed": true
   },
   "outputs": [],
   "source": []
  },
  {
   "cell_type": "code",
   "execution_count": 38,
   "metadata": {
    "collapsed": false
   },
   "outputs": [],
   "source": [
    "import pandas as pd\n",
    "df = pd.DataFrame(restaurants)"
   ]
  },
  {
   "cell_type": "code",
   "execution_count": 45,
   "metadata": {
    "collapsed": false
   },
   "outputs": [
    {
     "data": {
      "text/html": [
       "<div>\n",
       "<table border=\"1\" class=\"dataframe\">\n",
       "  <thead>\n",
       "    <tr style=\"text-align: right;\">\n",
       "      <th></th>\n",
       "      <th>cuisines</th>\n",
       "      <th>name</th>\n",
       "      <th>price</th>\n",
       "    </tr>\n",
       "  </thead>\n",
       "  <tbody>\n",
       "    <tr>\n",
       "      <th>0</th>\n",
       "      <td>[deli,  sandwiches]</td>\n",
       "      <td>Milano Market</td>\n",
       "      <td>2</td>\n",
       "    </tr>\n",
       "    <tr>\n",
       "      <th>1</th>\n",
       "      <td>[ethiopian,  african]</td>\n",
       "      <td>Massawa</td>\n",
       "      <td>0</td>\n",
       "    </tr>\n",
       "    <tr>\n",
       "      <th>2</th>\n",
       "      <td>[chinese,  japanese,  sushi]</td>\n",
       "      <td>China Place</td>\n",
       "      <td>0</td>\n",
       "    </tr>\n",
       "    <tr>\n",
       "      <th>3</th>\n",
       "      <td>[cheese-steaks,  deli,  sandwiches,  salads]</td>\n",
       "      <td>Subsconscious</td>\n",
       "      <td>0</td>\n",
       "    </tr>\n",
       "    <tr>\n",
       "      <th>4</th>\n",
       "      <td>[italian,  pizza]</td>\n",
       "      <td>Famous Famiglia</td>\n",
       "      <td>0</td>\n",
       "    </tr>\n",
       "  </tbody>\n",
       "</table>\n",
       "</div>"
      ],
      "text/plain": [
       "                                       cuisines             name price\n",
       "0                           [deli,  sandwiches]    Milano Market     2\n",
       "1                         [ethiopian,  african]          Massawa     0\n",
       "2                  [chinese,  japanese,  sushi]      China Place     0\n",
       "3  [cheese-steaks,  deli,  sandwiches,  salads]    Subsconscious     0\n",
       "4                             [italian,  pizza]  Famous Famiglia     0"
      ]
     },
     "execution_count": 45,
     "metadata": {},
     "output_type": "execute_result"
    }
   ],
   "source": [
    "df.head()"
   ]
  },
  {
   "cell_type": "markdown",
   "metadata": {
    "collapsed": true
   },
   "source": [
    "## Putting this stuff into a database"
   ]
  },
  {
   "cell_type": "code",
   "execution_count": 1,
   "metadata": {
    "collapsed": true
   },
   "outputs": [],
   "source": [
    "#Schema -> designing the tables\n",
    "#What tables do we need?\n",
    "#what should those tables have in them? (columns and data type)\n",
    "\n",
    "#\"data normalisation\" \"normal form\"\n",
    "\n",
    "#entities:\n",
    "\n",
    "#Restaurants, name, price, list of cuisines (that needs to become a second table)\n",
    "#Which cuisines a restaurant is associated with.\n",
    "\n",
    "#PROPOSITION:\n",
    "# restaurant table:\n",
    "# 'id' (unique integer identifying the restaurant)\n",
    "# 'name' (string with the restaurants name)\n",
    "# 'price' (integer that corresponds to the number of dollar signs)\n",
    "\n",
    "#CUISINE TABLE:\n",
    "# 'restaurant id': (number associated with restaurant)\n",
    "# 'kind': (string that identifies the cuisine itself)\n",
    "\n",
    "    #sample cusine table\n",
    "    #restaurant_id: 4\n",
    "    #kind: coffee-tea\n",
    "    #restaurant_id: 4\n",
    "    #kind: seafood"
   ]
  },
  {
   "cell_type": "code",
   "execution_count": 2,
   "metadata": {
    "collapsed": true
   },
   "outputs": [],
   "source": [
    "#creating the database PSQL\n",
    "\n",
    "#two phases: \n",
    "#1 setup phase (one time). PSQL.\n",
    "#2 working with data (many times). Python."
   ]
  },
  {
   "cell_type": "markdown",
   "metadata": {},
   "source": [
    "CREATE DATABASE menupages;"
   ]
  },
  {
   "cell_type": "markdown",
   "metadata": {},
   "source": [
    "\\c menupages"
   ]
  },
  {
   "cell_type": "code",
   "execution_count": null,
   "metadata": {
    "collapsed": true
   },
   "outputs": [],
   "source": [
    "#Creating unique identifiers. PSQL datatype is serial. An integer that is automatically assigned."
   ]
  },
  {
   "cell_type": "markdown",
   "metadata": {},
   "source": [
    "CREATE TABLE restaurant (id serial, name varchar(80), price int);"
   ]
  },
  {
   "cell_type": "code",
   "execution_count": null,
   "metadata": {
    "collapsed": true
   },
   "outputs": [],
   "source": [
    "#\\d restaurant (test) \\d for list of relations"
   ]
  },
  {
   "cell_type": "markdown",
   "metadata": {},
   "source": [
    "INSERT INTO restaurant (name, price) VALUES ('TEST Restaurant', 5); (the sequence is automatically added)"
   ]
  },
  {
   "cell_type": "code",
   "execution_count": null,
   "metadata": {
    "collapsed": true
   },
   "outputs": [],
   "source": [
    "#SELECT * FROM restaurant; (test)"
   ]
  },
  {
   "cell_type": "markdown",
   "metadata": {},
   "source": [
    "DELETE FROM restaurant; (DELETE FROM restaurant WHERE id = 3;)"
   ]
  },
  {
   "cell_type": "markdown",
   "metadata": {},
   "source": [
    "CREATE TABLE cuisine (restaurant_id int, kind varchar(40));"
   ]
  },
  {
   "cell_type": "code",
   "execution_count": null,
   "metadata": {
    "collapsed": true
   },
   "outputs": [],
   "source": [
    "#The id is now an int, because we are using the serial from the other table"
   ]
  },
  {
   "cell_type": "markdown",
   "metadata": {},
   "source": [
    "menupages=# INSERT INTO restaurant (name, price) VALUES ('Panino Sportivo Roma', 2);\n",
    "INSERT 0 1\n",
    "menupages=# INSERT INTO cuisine (restaurant_id, kind) VALUES (4, 'italian');\n",
    "INSERT 0 1\n",
    "menupages=# INSERT INTO cuisine (restaurant_id, kind) VALUES (4, 'coffee-tea');\n",
    "INSERT 0 1\n",
    "menupages=# INSERT INTO cuisine (restaurant_id, kind) VALUES (4, 'sandwiches');\n",
    "INSERT 0 1\n",
    "menupages=# \\d cuisine"
   ]
  },
  {
   "cell_type": "markdown",
   "metadata": {},
   "source": [
    "INSERT STATEMENTS"
   ]
  },
  {
   "cell_type": "code",
   "execution_count": null,
   "metadata": {
    "collapsed": true
   },
   "outputs": [],
   "source": [
    "#STREAMLINING THE PROCESS\n",
    "\n",
    "#skkandrach [11:17 AM]  \n",
    "#menupages=# INSERT INTO restaurant (name, price)                                VALUES ('Max Soha', 2);\n",
    "#INSERT 0 1\n",
    "#menupages=# INSERT INTO restaurant (name, price)                                VALUES ('Max Soha', 2) RETURNING id;\n",
    "#id \n",
    "#----\n",
    "#7\n",
    "#(1 row)\n",
    "\n",
    "#INSERT 0 1\n",
    "#menupages=# INSERT INTO cuisine (restaurant_id, kind)                           VALUES (5, 'italian');\n",
    "#INSERT 0 1\n",
    "#menupages=# SELECT count(*) FROM cuisine WHERE kind = 'italian';\n",
    "#count "
   ]
  },
  {
   "cell_type": "markdown",
   "metadata": {},
   "source": [
    "### Connecting to the database"
   ]
  },
  {
   "cell_type": "code",
   "execution_count": 4,
   "metadata": {
    "collapsed": true
   },
   "outputs": [],
   "source": [
    "import pg8000\n",
    "conn = pg8000.connect(database=\"menupages\")"
   ]
  },
  {
   "cell_type": "code",
   "execution_count": 5,
   "metadata": {
    "collapsed": false
   },
   "outputs": [
    {
     "data": {
      "text/plain": [
       "pg8000.core.Connection"
      ]
     },
     "execution_count": 5,
     "metadata": {},
     "output_type": "execute_result"
    }
   ],
   "source": [
    "type(conn)"
   ]
  },
  {
   "cell_type": "code",
   "execution_count": 64,
   "metadata": {
    "collapsed": true
   },
   "outputs": [],
   "source": [
    "conn.rollback() #Execute this wheneever you have a SQL problem"
   ]
  },
  {
   "cell_type": "code",
   "execution_count": 7,
   "metadata": {
    "collapsed": true
   },
   "outputs": [],
   "source": [
    "cursor = conn.cursor()"
   ]
  },
  {
   "cell_type": "markdown",
   "metadata": {},
   "source": [
    "cursor object:\n",
    "- .execute() - execute \n",
    "- .fetchone() - just one as one list\n",
    "- .fetchall() - as a list of lists"
   ]
  },
  {
   "cell_type": "code",
   "execution_count": 9,
   "metadata": {
    "collapsed": true
   },
   "outputs": [],
   "source": [
    "cursor.execute(\"INSERT INTO restaurant (name, price) VALUES ('Good Food Place', 3)\")\n",
    "conn.commit()"
   ]
  },
  {
   "cell_type": "code",
   "execution_count": 10,
   "metadata": {
    "collapsed": false
   },
   "outputs": [
    {
     "name": "stdout",
     "output_type": "stream",
     "text": [
      "[4, 'Panino Sportivo Roma', 2]\n",
      "[5, 'Good Food Place', 3]\n",
      "[6, 'Good Food Place', 3]\n"
     ]
    }
   ],
   "source": [
    "cursor.execute(\"SELECT * FROM restaurant\")\n",
    "for item in cursor.fetchall():\n",
    "    print(item)"
   ]
  },
  {
   "cell_type": "code",
   "execution_count": 14,
   "metadata": {
    "collapsed": true
   },
   "outputs": [],
   "source": [
    "cursor.execute(\n",
    "    \"INSERT INTO restaurant (name, price) VALUES ('Best place ever', 1) RETURNING id\")\n",
    "rowid = cursor.fetchone()[0]\n",
    "conn.commit()"
   ]
  },
  {
   "cell_type": "code",
   "execution_count": 15,
   "metadata": {
    "collapsed": false
   },
   "outputs": [
    {
     "data": {
      "text/plain": [
       "8"
      ]
     },
     "execution_count": 15,
     "metadata": {},
     "output_type": "execute_result"
    }
   ],
   "source": [
    "rowid"
   ]
  },
  {
   "cell_type": "markdown",
   "metadata": {},
   "source": [
    "## quoting and parameters in SQL"
   ]
  },
  {
   "cell_type": "code",
   "execution_count": null,
   "metadata": {
    "collapsed": true
   },
   "outputs": [],
   "source": [
    "#cursor.execute(\n",
    "#    \"INSERT INTO restaurant (name, price) VALUES ('Brad's, 1) RETURNING id\")\n",
    "#rowid = cursor.fetchone()[0]\n",
    "#conn.commit()"
   ]
  },
  {
   "cell_type": "code",
   "execution_count": null,
   "metadata": {
    "collapsed": true
   },
   "outputs": [],
   "source": [
    "#restaurant = \"'Restaurant'\"); DELETE FROM restaurant;\"\""
   ]
  },
  {
   "cell_type": "code",
   "execution_count": null,
   "metadata": {
    "collapsed": true
   },
   "outputs": [],
   "source": [
    "#String in Python -> \"quote \"escape\" -> valis sql statement"
   ]
  },
  {
   "cell_type": "code",
   "execution_count": null,
   "metadata": {
    "collapsed": true
   },
   "outputs": [],
   "source": [
    "# \"Parameters\" Don't ever have the actual string value in the sequel statement when you are working with Python."
   ]
  },
  {
   "cell_type": "code",
   "execution_count": 21,
   "metadata": {
    "collapsed": true
   },
   "outputs": [],
   "source": [
    "rest_insert = \"INSERT INTO restaurant (name, price) VALUES (%s, %s)\"\n",
    "cursor.execute(rest_insert, [\"Brad's\", 1])\n",
    "#pg8000 does the work: INSERT INTO restaurant (name, price) VALUES (\"Brad\\'s', 1)\n",
    "conn.commit()"
   ]
  },
  {
   "cell_type": "markdown",
   "metadata": {},
   "source": [
    "# Instert a restaurant into cuisines"
   ]
  },
  {
   "cell_type": "code",
   "execution_count": 24,
   "metadata": {
    "collapsed": false
   },
   "outputs": [],
   "source": [
    "cursor.execute(\"INSERT INTO restaurant (name, price) VALUES (%s, %s) RETURNING id\",\n",
    "              [\"Test Restaurant\", 2])\n",
    "rowid = cursor.fetchone()[0]\n",
    "conn.commit()"
   ]
  },
  {
   "cell_type": "code",
   "execution_count": 25,
   "metadata": {
    "collapsed": false
   },
   "outputs": [
    {
     "data": {
      "text/plain": [
       "14"
      ]
     },
     "execution_count": 25,
     "metadata": {},
     "output_type": "execute_result"
    }
   ],
   "source": [
    "rowid"
   ]
  },
  {
   "cell_type": "code",
   "execution_count": 26,
   "metadata": {
    "collapsed": true
   },
   "outputs": [],
   "source": [
    "# Let's say test restaurant serves fondue and Casseroles\n",
    "cuisine_insert = \"INSERT INTO cuisine (restaurant_id, kind) VALUES (%s, %s)\"\n",
    "cursor.execute(cuisine_insert, [rowid, \"fondue\"])\n",
    "cursor.execute(cuisine_insert, [rowid, \"casseroles\"])\n",
    "conn.commit()\n"
   ]
  },
  {
   "cell_type": "markdown",
   "metadata": {},
   "source": [
    "# INsert MANY Restaurants"
   ]
  },
  {
   "cell_type": "code",
   "execution_count": 40,
   "metadata": {
    "collapsed": false
   },
   "outputs": [
    {
     "ename": "NotSupportedError",
     "evalue": "type <class 'bs4.element.NavigableString'>not mapped to pg type",
     "output_type": "error",
     "traceback": [
      "\u001b[0;31m---------------------------------------------------------------------\u001b[0m",
      "\u001b[0;31mKeyError\u001b[0m                            Traceback (most recent call last)",
      "\u001b[0;32m/usr/local/lib/python3.5/site-packages/pg8000/core.py\u001b[0m in \u001b[0;36mmake_params\u001b[0;34m(self, values)\u001b[0m\n\u001b[1;32m   1854\u001b[0m             \u001b[0;32mtry\u001b[0m\u001b[0;34m:\u001b[0m\u001b[0;34m\u001b[0m\u001b[0m\n\u001b[0;32m-> 1855\u001b[0;31m                 \u001b[0mparams\u001b[0m\u001b[0;34m.\u001b[0m\u001b[0mappend\u001b[0m\u001b[0;34m(\u001b[0m\u001b[0mself\u001b[0m\u001b[0;34m.\u001b[0m\u001b[0mpy_types\u001b[0m\u001b[0;34m[\u001b[0m\u001b[0mtyp\u001b[0m\u001b[0;34m]\u001b[0m\u001b[0;34m)\u001b[0m\u001b[0;34m\u001b[0m\u001b[0m\n\u001b[0m\u001b[1;32m   1856\u001b[0m             \u001b[0;32mexcept\u001b[0m \u001b[0mKeyError\u001b[0m\u001b[0;34m:\u001b[0m\u001b[0;34m\u001b[0m\u001b[0m\n",
      "\u001b[0;31mKeyError\u001b[0m: <class 'bs4.element.NavigableString'>",
      "\nDuring handling of the above exception, another exception occurred:\n",
      "\u001b[0;31mKeyError\u001b[0m                            Traceback (most recent call last)",
      "\u001b[0;32m/usr/local/lib/python3.5/site-packages/pg8000/core.py\u001b[0m in \u001b[0;36mmake_params\u001b[0;34m(self, values)\u001b[0m\n\u001b[1;32m   1857\u001b[0m                 \u001b[0;32mtry\u001b[0m\u001b[0;34m:\u001b[0m\u001b[0;34m\u001b[0m\u001b[0m\n\u001b[0;32m-> 1858\u001b[0;31m                     \u001b[0mparams\u001b[0m\u001b[0;34m.\u001b[0m\u001b[0mappend\u001b[0m\u001b[0;34m(\u001b[0m\u001b[0mself\u001b[0m\u001b[0;34m.\u001b[0m\u001b[0minspect_funcs\u001b[0m\u001b[0;34m[\u001b[0m\u001b[0mtyp\u001b[0m\u001b[0;34m]\u001b[0m\u001b[0;34m(\u001b[0m\u001b[0mvalue\u001b[0m\u001b[0;34m)\u001b[0m\u001b[0;34m)\u001b[0m\u001b[0;34m\u001b[0m\u001b[0m\n\u001b[0m\u001b[1;32m   1859\u001b[0m                 \u001b[0;32mexcept\u001b[0m \u001b[0mKeyError\u001b[0m \u001b[0;32mas\u001b[0m \u001b[0me\u001b[0m\u001b[0;34m:\u001b[0m\u001b[0;34m\u001b[0m\u001b[0m\n",
      "\u001b[0;31mKeyError\u001b[0m: <class 'bs4.element.NavigableString'>",
      "\nDuring handling of the above exception, another exception occurred:\n",
      "\u001b[0;31mNotSupportedError\u001b[0m                   Traceback (most recent call last)",
      "\u001b[0;32m<ipython-input-40-ce27f056e8ab>\u001b[0m in \u001b[0;36m<module>\u001b[0;34m()\u001b[0m\n\u001b[1;32m      2\u001b[0m \u001b[0;32mfor\u001b[0m \u001b[0mitem\u001b[0m \u001b[0;32min\u001b[0m \u001b[0mrestaurants\u001b[0m\u001b[0;34m:\u001b[0m\u001b[0;34m\u001b[0m\u001b[0m\n\u001b[1;32m      3\u001b[0m     \u001b[0;31m#execute sql statement with data from the restaurants\u001b[0m\u001b[0;34m\u001b[0m\u001b[0;34m\u001b[0m\u001b[0m\n\u001b[0;32m----> 4\u001b[0;31m     \u001b[0mcursor\u001b[0m\u001b[0;34m.\u001b[0m\u001b[0mexecute\u001b[0m\u001b[0;34m(\u001b[0m\u001b[0mrest_insert\u001b[0m\u001b[0;34m,\u001b[0m \u001b[0;34m[\u001b[0m\u001b[0mitem\u001b[0m\u001b[0;34m[\u001b[0m\u001b[0;34m'name'\u001b[0m\u001b[0;34m]\u001b[0m\u001b[0;34m,\u001b[0m \u001b[0mitem\u001b[0m\u001b[0;34m[\u001b[0m\u001b[0;34m'price'\u001b[0m\u001b[0;34m]\u001b[0m\u001b[0;34m]\u001b[0m\u001b[0;34m)\u001b[0m\u001b[0;34m\u001b[0m\u001b[0m\n\u001b[0m\u001b[1;32m      5\u001b[0m \u001b[0mconn\u001b[0m\u001b[0;34m.\u001b[0m\u001b[0mcommit\u001b[0m\u001b[0;34m(\u001b[0m\u001b[0;34m)\u001b[0m\u001b[0;34m\u001b[0m\u001b[0m\n",
      "\u001b[0;32m/usr/local/lib/python3.5/site-packages/pg8000/core.py\u001b[0m in \u001b[0;36mexecute\u001b[0;34m(self, operation, args, stream)\u001b[0m\n\u001b[1;32m    905\u001b[0m                 \u001b[0;32mif\u001b[0m \u001b[0;32mnot\u001b[0m \u001b[0mself\u001b[0m\u001b[0;34m.\u001b[0m\u001b[0m_c\u001b[0m\u001b[0;34m.\u001b[0m\u001b[0min_transaction\u001b[0m \u001b[0;32mand\u001b[0m \u001b[0;32mnot\u001b[0m \u001b[0mself\u001b[0m\u001b[0;34m.\u001b[0m\u001b[0m_c\u001b[0m\u001b[0;34m.\u001b[0m\u001b[0mautocommit\u001b[0m\u001b[0;34m:\u001b[0m\u001b[0;34m\u001b[0m\u001b[0m\n\u001b[1;32m    906\u001b[0m                     \u001b[0mself\u001b[0m\u001b[0;34m.\u001b[0m\u001b[0m_c\u001b[0m\u001b[0;34m.\u001b[0m\u001b[0mexecute\u001b[0m\u001b[0;34m(\u001b[0m\u001b[0mself\u001b[0m\u001b[0;34m,\u001b[0m \u001b[0;34m\"begin transaction\"\u001b[0m\u001b[0;34m,\u001b[0m \u001b[0;32mNone\u001b[0m\u001b[0;34m)\u001b[0m\u001b[0;34m\u001b[0m\u001b[0m\n\u001b[0;32m--> 907\u001b[0;31m                 \u001b[0mself\u001b[0m\u001b[0;34m.\u001b[0m\u001b[0m_c\u001b[0m\u001b[0;34m.\u001b[0m\u001b[0mexecute\u001b[0m\u001b[0;34m(\u001b[0m\u001b[0mself\u001b[0m\u001b[0;34m,\u001b[0m \u001b[0moperation\u001b[0m\u001b[0;34m,\u001b[0m \u001b[0margs\u001b[0m\u001b[0;34m)\u001b[0m\u001b[0;34m\u001b[0m\u001b[0m\n\u001b[0m\u001b[1;32m    908\u001b[0m         \u001b[0;32mexcept\u001b[0m \u001b[0mAttributeError\u001b[0m \u001b[0;32mas\u001b[0m \u001b[0me\u001b[0m\u001b[0;34m:\u001b[0m\u001b[0;34m\u001b[0m\u001b[0m\n\u001b[1;32m    909\u001b[0m             \u001b[0;32mif\u001b[0m \u001b[0mself\u001b[0m\u001b[0;34m.\u001b[0m\u001b[0m_c\u001b[0m \u001b[0;32mis\u001b[0m \u001b[0;32mNone\u001b[0m\u001b[0;34m:\u001b[0m\u001b[0;34m\u001b[0m\u001b[0m\n",
      "\u001b[0;32m/usr/local/lib/python3.5/site-packages/pg8000/core.py\u001b[0m in \u001b[0;36mexecute\u001b[0;34m(self, cursor, operation, vals)\u001b[0m\n\u001b[1;32m   1891\u001b[0m \u001b[0;34m\u001b[0m\u001b[0m\n\u001b[1;32m   1892\u001b[0m         \u001b[0margs\u001b[0m \u001b[0;34m=\u001b[0m \u001b[0mmake_args\u001b[0m\u001b[0;34m(\u001b[0m\u001b[0mvals\u001b[0m\u001b[0;34m)\u001b[0m\u001b[0;34m\u001b[0m\u001b[0m\n\u001b[0;32m-> 1893\u001b[0;31m         \u001b[0mparams\u001b[0m \u001b[0;34m=\u001b[0m \u001b[0mself\u001b[0m\u001b[0;34m.\u001b[0m\u001b[0mmake_params\u001b[0m\u001b[0;34m(\u001b[0m\u001b[0margs\u001b[0m\u001b[0;34m)\u001b[0m\u001b[0;34m\u001b[0m\u001b[0m\n\u001b[0m\u001b[1;32m   1894\u001b[0m         \u001b[0mkey\u001b[0m \u001b[0;34m=\u001b[0m \u001b[0moperation\u001b[0m\u001b[0;34m,\u001b[0m \u001b[0mparams\u001b[0m\u001b[0;34m\u001b[0m\u001b[0m\n\u001b[1;32m   1895\u001b[0m \u001b[0;34m\u001b[0m\u001b[0m\n",
      "\u001b[0;32m/usr/local/lib/python3.5/site-packages/pg8000/core.py\u001b[0m in \u001b[0;36mmake_params\u001b[0;34m(self, values)\u001b[0m\n\u001b[1;32m   1859\u001b[0m                 \u001b[0;32mexcept\u001b[0m \u001b[0mKeyError\u001b[0m \u001b[0;32mas\u001b[0m \u001b[0me\u001b[0m\u001b[0;34m:\u001b[0m\u001b[0;34m\u001b[0m\u001b[0m\n\u001b[1;32m   1860\u001b[0m                     raise NotSupportedError(\n\u001b[0;32m-> 1861\u001b[0;31m                         \"type \" + str(e) + \"not mapped to pg type\")\n\u001b[0m\u001b[1;32m   1862\u001b[0m         \u001b[0;32mreturn\u001b[0m \u001b[0mtuple\u001b[0m\u001b[0;34m(\u001b[0m\u001b[0mparams\u001b[0m\u001b[0;34m)\u001b[0m\u001b[0;34m\u001b[0m\u001b[0m\n\u001b[1;32m   1863\u001b[0m \u001b[0;34m\u001b[0m\u001b[0m\n",
      "\u001b[0;31mNotSupportedError\u001b[0m: type <class 'bs4.element.NavigableString'>not mapped to pg type"
     ]
    }
   ],
   "source": [
    "rest_inset = \"INSERT INTO cuisine (restaurant_id, kind) VALUES (%s, %s)\"\n",
    "for item in restaurants:\n",
    "    #execute sql statement with data from the restaurants\n",
    "    cursor.execute(rest_insert, [item['name'], item['price']])\n",
    "conn.commit()"
   ]
  },
  {
   "cell_type": "code",
   "execution_count": null,
   "metadata": {
    "collapsed": true
   },
   "outputs": [],
   "source": [
    "#NotSupportedError: type <class 'bs4.element.NavigableString'>not mapped to pg type"
   ]
  },
  {
   "cell_type": "code",
   "execution_count": 42,
   "metadata": {
    "collapsed": false
   },
   "outputs": [
    {
     "name": "stdout",
     "output_type": "stream",
     "text": [
      "Milano Market\n"
     ]
    }
   ],
   "source": [
    "first = restaurants[0]\n",
    "print(first['name'])"
   ]
  },
  {
   "cell_type": "code",
   "execution_count": 43,
   "metadata": {
    "collapsed": false
   },
   "outputs": [
    {
     "data": {
      "text/plain": [
       "bs4.element.NavigableString"
      ]
     },
     "execution_count": 43,
     "metadata": {},
     "output_type": "execute_result"
    }
   ],
   "source": [
    "type(first['name'])"
   ]
  },
  {
   "cell_type": "code",
   "execution_count": 46,
   "metadata": {
    "collapsed": true
   },
   "outputs": [],
   "source": [
    "#Why isn't this just a string?\n",
    "#Whenever you use the .string attribute of a Beautiful soup tag object, the type of that \n",
    "#value is 'bs4.element.NAvigalbeString\n",
    "\n",
    "#To fix this, we can just use the str(val)."
   ]
  },
  {
   "cell_type": "markdown",
   "metadata": {},
   "source": [
    "## Step 1"
   ]
  },
  {
   "cell_type": "code",
   "execution_count": 55,
   "metadata": {
    "collapsed": false
   },
   "outputs": [],
   "source": [
    "rest_insert = \"INSERT INTO cuisine (restaurant_id, kind) VALUES (%s, %s)\"\n",
    "for item in restaurants:\n",
    "    #execute sql statement with data from the restaurants\n",
    "    cursor.execute(rest_insert, [str(item['name']), item['price']])\n",
    "conn.commit()"
   ]
  },
  {
   "cell_type": "markdown",
   "metadata": {},
   "source": [
    "# Step 2"
   ]
  },
  {
   "cell_type": "code",
   "execution_count": 56,
   "metadata": {
    "collapsed": true
   },
   "outputs": [],
   "source": [
    "#In homework a linking table was created. This way it is all integrated."
   ]
  },
  {
   "cell_type": "code",
   "execution_count": null,
   "metadata": {
    "collapsed": true
   },
   "outputs": [],
   "source": [
    "#for item in restaurants:\n",
    "    #insert restaurant, RETURNING id\n",
    "#    for cuisine in item['cuisines']:\n",
    "        #another Statement insert restaurant & cuisine kind into cuisine table\n",
    "#conn.commit()"
   ]
  },
  {
   "cell_type": "code",
   "execution_count": 67,
   "metadata": {
    "collapsed": false
   },
   "outputs": [
    {
     "name": "stdout",
     "output_type": "stream",
     "text": [
      "inserting restaurant  Milano Market\n",
      " - inserting cuisine  deli\n",
      " - inserting cuisine   sandwiches\n",
      "inserting restaurant  Massawa\n",
      " - inserting cuisine  ethiopian\n",
      " - inserting cuisine   african\n",
      "inserting restaurant  China Place\n",
      " - inserting cuisine  chinese\n",
      " - inserting cuisine   japanese\n",
      " - inserting cuisine   sushi\n",
      "inserting restaurant  Subsconscious\n",
      " - inserting cuisine  cheese-steaks\n",
      " - inserting cuisine   deli\n",
      " - inserting cuisine   sandwiches\n",
      " - inserting cuisine   salads\n",
      "inserting restaurant  Famous Famiglia\n",
      " - inserting cuisine  italian\n",
      " - inserting cuisine   pizza\n",
      "inserting restaurant  Kitchenette\n",
      " - inserting cuisine  bakery-pastries\n",
      " - inserting cuisine   american\n",
      " - inserting cuisine   desserts\n",
      "inserting restaurant  V & T Pizza\n",
      " - inserting cuisine  italian\n",
      " - inserting cuisine   pizza\n",
      "inserting restaurant  New Aroma\n",
      " - inserting cuisine  chinese\n",
      "inserting restaurant  Peking Garden\n",
      " - inserting cuisine  chinese\n",
      "inserting restaurant  Tom's Restaurant\n",
      " - inserting cuisine  diner\n",
      "inserting restaurant  Pisticci\n",
      " - inserting cuisine  italian\n",
      "inserting restaurant  Deluxe\n",
      " - inserting cuisine  diner\n",
      " - inserting cuisine   american\n",
      "inserting restaurant  Toast\n",
      " - inserting cuisine  american\n",
      " - inserting cuisine   bar-food\n",
      "inserting restaurant  Tom's Delicious Pizza\n",
      " - inserting cuisine  italian\n",
      " - inserting cuisine   pizza\n",
      "inserting restaurant  West Place\n",
      " - inserting cuisine  chinese\n",
      "inserting restaurant  Che' Bella Pizza\n",
      " - inserting cuisine  italian\n",
      " - inserting cuisine   pizza\n",
      "inserting restaurant  Ajanta\n",
      " - inserting cuisine  indian\n",
      "inserting restaurant  Panino Sportivo Roma\n",
      " - inserting cuisine  italian\n",
      " - inserting cuisine   coffee-tea\n",
      " - inserting cuisine   sandwiches\n",
      "inserting restaurant  Max Soha\n",
      " - inserting cuisine  italian\n",
      "inserting restaurant  Strokos Pizza\n",
      " - inserting cuisine  deli\n",
      " - inserting cuisine   pizza\n",
      " - inserting cuisine   sandwiches\n",
      " - inserting cuisine   chicken\n",
      "inserting restaurant  Camille's\n",
      " - inserting cuisine  american\n",
      "inserting restaurant  Amsterdam Restaurant\n",
      " - inserting cuisine  american-new\n",
      " - inserting cuisine   tapas\n",
      "inserting restaurant  Nussbaum & Wu\n",
      " - inserting cuisine  deli\n",
      " - inserting cuisine   sandwiches\n",
      " - inserting cuisine   bagels\n",
      " - inserting cuisine   salads\n",
      "inserting restaurant  Amir's Grill\n",
      " - inserting cuisine  middle-eastern\n",
      "inserting restaurant  M2M - Morning To Midnight\n",
      " - inserting cuisine  japanese\n",
      " - inserting cuisine   sushi\n",
      " - inserting cuisine   deli\n",
      " - inserting cuisine   sandwiches\n",
      "inserting restaurant  The Mill\n",
      " - inserting cuisine  korean\n",
      "inserting restaurant  Le Monde\n",
      " - inserting cuisine  french\n",
      " - inserting cuisine   bistro\n",
      "inserting restaurant  Melba's\n",
      " - inserting cuisine  american-new\n",
      " - inserting cuisine   soul-food\n",
      "inserting restaurant  Chuck E Cheese's\n",
      " - inserting cuisine  pizza\n",
      " - inserting cuisine   american\n",
      "inserting restaurant  Haagen-Dazs\n",
      " - inserting cuisine  desserts\n",
      "inserting restaurant  Oren's\n",
      " - inserting cuisine  coffee-tea\n",
      " - inserting cuisine   sandwiches\n",
      "inserting restaurant  Dinosaur Bar-B-Que\n",
      " - inserting cuisine  barbecue\n",
      " - inserting cuisine   soul-food\n",
      "inserting restaurant  Symposium Greek Restaurant\n",
      " - inserting cuisine  greek\n",
      " - inserting cuisine   vegetarian\n",
      "inserting restaurant  Koronet Pizza\n",
      " - inserting cuisine  pizza\n",
      "inserting restaurant  The Heights Bar & Grill\n",
      " - inserting cuisine  southwestern\n",
      " - inserting cuisine   tapas\n",
      " - inserting cuisine   bar-food\n",
      "inserting restaurant  Cafe Nana\n",
      " - inserting cuisine  middle-eastern\n",
      " - inserting cuisine   kosher\n",
      "inserting restaurant  Hamilton Deli\n",
      " - inserting cuisine  deli\n",
      " - inserting cuisine   sandwiches\n",
      "inserting restaurant  Community Food & Juice\n",
      " - inserting cuisine  american-new\n",
      " - inserting cuisine   smoothies-juices\n",
      " - inserting cuisine   vegetarian\n",
      " - inserting cuisine   healthy\n",
      " - inserting cuisine   localorganic\n",
      "inserting restaurant  Haakon's Hall\n",
      " - inserting cuisine  american\n",
      " - inserting cuisine   scandinavian\n",
      "inserting restaurant  El Porton\n",
      " - inserting cuisine  mexican\n",
      "inserting restaurant  Brad's\n",
      " - inserting cuisine  coffee-tea\n",
      "inserting restaurant  Mel's Burger Bar\n",
      " - inserting cuisine  burgers\n",
      " - inserting cuisine   bar-food\n",
      "inserting restaurant  Bettolona\n",
      " - inserting cuisine  italian\n",
      " - inserting cuisine   pizza\n",
      " - inserting cuisine   localorganic\n",
      "inserting restaurant  Five Guys\n",
      " - inserting cuisine  burgers\n",
      " - inserting cuisine   hot-dogs\n",
      "inserting restaurant  Nikko\n",
      " - inserting cuisine  chinese\n",
      " - inserting cuisine   japanese\n",
      " - inserting cuisine   sushi\n",
      " - inserting cuisine   teahouses\n",
      "inserting restaurant  Falafel on Broadway\n",
      " - inserting cuisine  middle-eastern\n",
      "inserting restaurant  Sushi Sushi\n",
      " - inserting cuisine  japanese\n",
      " - inserting cuisine   sushi\n",
      "inserting restaurant  Insomnia Cookies\n",
      " - inserting cuisine  bakery-pastries\n",
      " - inserting cuisine   desserts\n",
      "inserting restaurant  Cafe Amrita\n",
      " - inserting cuisine  coffee-tea\n",
      " - inserting cuisine   sandwiches\n",
      "inserting restaurant  Pinkberry\n",
      " - inserting cuisine  desserts\n",
      "inserting restaurant  Artopolis Espresso Cafe\n",
      " - inserting cuisine  coffee-tea\n",
      " - inserting cuisine   sandwiches\n",
      " - inserting cuisine   crepes\n",
      "inserting restaurant  Max Caffe\n",
      " - inserting cuisine  coffee-tea\n",
      " - inserting cuisine   sandwiches\n",
      "inserting restaurant  Chipotle\n",
      " - inserting cuisine  mexican\n",
      "inserting restaurant  Chokolat Patisserie\n",
      " - inserting cuisine  bakery-pastries\n",
      " - inserting cuisine   desserts\n",
      "inserting restaurant  Chokolat Patisserie\n",
      " - inserting cuisine  bakery-pastries\n",
      " - inserting cuisine   coffee-tea\n",
      " - inserting cuisine   desserts\n",
      "inserting restaurant  Joe's G-H Deli\n",
      " - inserting cuisine  deli\n",
      " - inserting cuisine   sandwiches\n",
      "inserting restaurant  Joe the Art of Coffee\n",
      " - inserting cuisine  coffee-tea\n",
      "inserting restaurant  Levain Bakery\n",
      " - inserting cuisine  bakery-pastries\n",
      " - inserting cuisine   desserts\n",
      "inserting restaurant  Silvana\n",
      " - inserting cuisine  middle-eastern\n",
      " - inserting cuisine   vegetarian\n",
      "inserting restaurant  Bier International\n",
      " - inserting cuisine  german\n",
      " - inserting cuisine   eclectic\n",
      " - inserting cuisine   bar-food\n",
      "inserting restaurant  Vegenation\n",
      " - inserting cuisine  indian\n",
      " - inserting cuisine   vegetarian\n",
      "inserting restaurant  Flat Top\n",
      " - inserting cuisine  american-new\n",
      " - inserting cuisine   bistro\n",
      "inserting restaurant  Kuro Kuma\n",
      " - inserting cuisine  coffee-tea\n",
      "inserting restaurant  Vinateria\n",
      " - inserting cuisine  american-new\n",
      "inserting restaurant  Henan Cart\n",
      " - inserting cuisine  chinese\n",
      "inserting restaurant  Vine\n",
      " - inserting cuisine  japanese\n",
      " - inserting cuisine   sushi\n",
      " - inserting cuisine   thai\n",
      "inserting restaurant  El Paso Truck\n",
      " - inserting cuisine  mexican\n",
      "inserting restaurant  Mama's Fried Chicken and Pizza\n",
      " - inserting cuisine  pizza\n",
      " - inserting cuisine   chicken\n",
      "inserting restaurant  Chapati House\n",
      " - inserting cuisine  indian\n",
      "inserting restaurant  Dig Inn Seasonal Market\n",
      " - inserting cuisine  american\n",
      " - inserting cuisine   localorganic\n",
      "inserting restaurant  Uncle Luoyang\n",
      " - inserting cuisine  chinese\n",
      "inserting restaurant  Pita Grill\n",
      " - inserting cuisine  middle-eastern\n",
      "inserting restaurant  Kissaten Jin\n",
      " - inserting cuisine  japanese\n",
      "inserting restaurant  Serengeti Teas & Spices\n",
      " - inserting cuisine  coffee-tea\n",
      " - inserting cuisine   teahouses\n",
      "inserting restaurant  Lighthouse Fish Market & Restaurant\n",
      " - inserting cuisine  seafood\n",
      " - inserting cuisine   wings\n",
      " - inserting cuisine   fish--chips\n",
      "inserting restaurant  Lolo's Seafood Shack\n",
      " - inserting cuisine  seafood\n",
      "inserting restaurant  Harmony\n",
      " - inserting cuisine  sandwiches\n",
      " - inserting cuisine   salads\n",
      " - inserting cuisine   teahouses\n",
      "inserting restaurant  Bernheim & Schwartz\n",
      " - inserting cuisine  american\n",
      " - inserting cuisine   gastropub\n",
      "inserting restaurant  BTH (By The Hudson)\n",
      " - inserting cuisine  american-new\n",
      "inserting restaurant  Empanadas Monumental\n",
      "inserting restaurant  Friedman's\n",
      "inserting restaurant  176 Presbyterian Deli\n",
      "inserting restaurant  Nacho Mama's\n",
      "inserting restaurant  Streetbird Rotisserie\n",
      "inserting restaurant  Colum Chinese Restaurant\n",
      "inserting restaurant  Flacoz Tacoz\n",
      "inserting restaurant  sweetgreen\n",
      "inserting restaurant  La Salle Dumpling Room\n"
     ]
    }
   ],
   "source": [
    "rest_insert = \"INSERT INTO restaurant (name, price) VALUES (%s, %s) RETURNING id\"\n",
    "cuisine_insert = \"INSERT INTO cuisine (restaurant_id, kind) VALUES (%s, %s)\"\n",
    "for item in restaurants:\n",
    "    print(\"inserting restaurant \", item['name'])\n",
    "    #insert restaurant, RETURNING id\n",
    "    cursor.execute(rest_insert, [str(item['name']), item['price']])\n",
    "    rowid = cursor.fetchone()[0]\n",
    "    for cuisine in item['cuisines']:\n",
    "        print(\" - inserting cuisine \", cuisine)\n",
    "        cursor.execute(cuisine_insert, [rowid, str(cuisine)])\n",
    "        #another Statement insert restaurant & cuisine kind into cuisine table\n",
    "conn.commit()"
   ]
  },
  {
   "cell_type": "markdown",
   "metadata": {},
   "source": [
    "poem = \"Whose woods these are I think I know\""
   ]
  },
  {
   "cell_type": "code",
   "execution_count": 59,
   "metadata": {
    "collapsed": true
   },
   "outputs": [],
   "source": [
    "poem = \"Whose woods these are I think I know\""
   ]
  },
  {
   "cell_type": "code",
   "execution_count": 62,
   "metadata": {
    "collapsed": false
   },
   "outputs": [],
   "source": [
    "peom = \"\"\"Whose woods these are I think I know\"\"\""
   ]
  },
  {
   "cell_type": "code",
   "execution_count": 66,
   "metadata": {
    "collapsed": false
   },
   "outputs": [
    {
     "data": {
      "text/plain": [
       "[{'cuisines': ['deli', ' sandwiches'], 'name': 'Milano Market', 'price': 2},\n",
       " {'cuisines': ['ethiopian', ' african'], 'name': 'Massawa', 'price': 0},\n",
       " {'cuisines': ['chinese', ' japanese', ' sushi'],\n",
       "  'name': 'China Place',\n",
       "  'price': 0},\n",
       " {'cuisines': ['cheese-steaks', ' deli', ' sandwiches', ' salads'],\n",
       "  'name': 'Subsconscious',\n",
       "  'price': 0},\n",
       " {'cuisines': ['italian', ' pizza'], 'name': 'Famous Famiglia', 'price': 0},\n",
       " {'cuisines': ['bakery-pastries', ' american', ' desserts'],\n",
       "  'name': 'Kitchenette',\n",
       "  'price': 0},\n",
       " {'cuisines': ['italian', ' pizza'], 'name': 'V & T Pizza', 'price': 0},\n",
       " {'cuisines': ['chinese'], 'name': 'New Aroma', 'price': 1},\n",
       " {'cuisines': ['chinese'], 'name': 'Peking Garden', 'price': 1},\n",
       " {'cuisines': ['diner'], 'name': \"Tom's Restaurant\", 'price': 1},\n",
       " {'cuisines': ['italian'], 'name': 'Pisticci', 'price': 1},\n",
       " {'cuisines': ['diner', ' american'], 'name': 'Deluxe', 'price': 1},\n",
       " {'cuisines': ['american', ' bar-food'], 'name': 'Toast', 'price': 2},\n",
       " {'cuisines': ['italian', ' pizza'],\n",
       "  'name': \"Tom's Delicious Pizza\",\n",
       "  'price': 2},\n",
       " {'cuisines': ['chinese'], 'name': 'West Place', 'price': 1},\n",
       " {'cuisines': ['italian', ' pizza'], 'name': \"Che' Bella Pizza\", 'price': 0},\n",
       " {'cuisines': ['indian'], 'name': 'Ajanta', 'price': 0},\n",
       " {'cuisines': ['italian', ' coffee-tea', ' sandwiches'],\n",
       "  'name': 'Panino Sportivo Roma',\n",
       "  'price': 2},\n",
       " {'cuisines': ['italian'], 'name': 'Max Soha', 'price': 2},\n",
       " {'cuisines': ['deli', ' pizza', ' sandwiches', ' chicken'],\n",
       "  'name': 'Strokos Pizza',\n",
       "  'price': 3},\n",
       " {'cuisines': ['american'], 'name': \"Camille's\", 'price': 1},\n",
       " {'cuisines': ['american-new', ' tapas'],\n",
       "  'name': 'Amsterdam Restaurant',\n",
       "  'price': 1},\n",
       " {'cuisines': ['deli', ' sandwiches', ' bagels', ' salads'],\n",
       "  'name': 'Nussbaum & Wu',\n",
       "  'price': 0},\n",
       " {'cuisines': ['middle-eastern'], 'name': \"Amir's Grill\", 'price': 1},\n",
       " {'cuisines': ['japanese', ' sushi', ' deli', ' sandwiches'],\n",
       "  'name': 'M2M - Morning To Midnight',\n",
       "  'price': 1},\n",
       " {'cuisines': ['korean'], 'name': 'The Mill', 'price': 2},\n",
       " {'cuisines': ['french', ' bistro'], 'name': 'Le Monde', 'price': 1},\n",
       " {'cuisines': ['american-new', ' soul-food'], 'name': \"Melba's\", 'price': 1},\n",
       " {'cuisines': ['pizza', ' american'], 'name': \"Chuck E Cheese's\", 'price': 0},\n",
       " {'cuisines': ['desserts'], 'name': 'Haagen-Dazs', 'price': 1},\n",
       " {'cuisines': ['coffee-tea', ' sandwiches'], 'name': \"Oren's\", 'price': 0},\n",
       " {'cuisines': ['barbecue', ' soul-food'],\n",
       "  'name': 'Dinosaur Bar-B-Que',\n",
       "  'price': 3},\n",
       " {'cuisines': ['greek', ' vegetarian'],\n",
       "  'name': 'Symposium Greek Restaurant',\n",
       "  'price': 0},\n",
       " {'cuisines': ['pizza'], 'name': 'Koronet Pizza', 'price': 1},\n",
       " {'cuisines': ['southwestern', ' tapas', ' bar-food'],\n",
       "  'name': 'The Heights Bar & Grill',\n",
       "  'price': 1},\n",
       " {'cuisines': ['middle-eastern', ' kosher'], 'name': 'Cafe Nana', 'price': 0},\n",
       " {'cuisines': ['deli', ' sandwiches'], 'name': 'Hamilton Deli', 'price': 0},\n",
       " {'cuisines': ['american-new',\n",
       "   ' smoothies-juices',\n",
       "   ' vegetarian',\n",
       "   ' healthy',\n",
       "   ' localorganic'],\n",
       "  'name': 'Community Food & Juice',\n",
       "  'price': 0},\n",
       " {'cuisines': ['american', ' scandinavian'],\n",
       "  'name': \"Haakon's Hall\",\n",
       "  'price': 0},\n",
       " {'cuisines': ['mexican'], 'name': 'El Porton', 'price': 0},\n",
       " {'cuisines': ['coffee-tea'], 'name': \"Brad's\", 'price': 1},\n",
       " {'cuisines': ['burgers', ' bar-food'],\n",
       "  'name': \"Mel's Burger Bar\",\n",
       "  'price': 2},\n",
       " {'cuisines': ['italian', ' pizza', ' localorganic'],\n",
       "  'name': 'Bettolona',\n",
       "  'price': 1},\n",
       " {'cuisines': ['burgers', ' hot-dogs'], 'name': 'Five Guys', 'price': 1},\n",
       " {'cuisines': ['chinese', ' japanese', ' sushi', ' teahouses'],\n",
       "  'name': 'Nikko',\n",
       "  'price': 2},\n",
       " {'cuisines': ['middle-eastern'], 'name': 'Falafel on Broadway', 'price': 1},\n",
       " {'cuisines': ['japanese', ' sushi'], 'name': 'Sushi Sushi', 'price': 1},\n",
       " {'cuisines': ['bakery-pastries', ' desserts'],\n",
       "  'name': 'Insomnia Cookies',\n",
       "  'price': 1},\n",
       " {'cuisines': ['coffee-tea', ' sandwiches'],\n",
       "  'name': 'Cafe Amrita',\n",
       "  'price': 1},\n",
       " {'cuisines': ['desserts'], 'name': 'Pinkberry', 'price': 2},\n",
       " {'cuisines': ['coffee-tea', ' sandwiches', ' crepes'],\n",
       "  'name': 'Artopolis Espresso Cafe',\n",
       "  'price': 1},\n",
       " {'cuisines': ['coffee-tea', ' sandwiches'], 'name': 'Max Caffe', 'price': 2},\n",
       " {'cuisines': ['mexican'], 'name': 'Chipotle', 'price': 1},\n",
       " {'cuisines': ['bakery-pastries', ' desserts'],\n",
       "  'name': 'Chokolat Patisserie',\n",
       "  'price': 5},\n",
       " {'cuisines': ['bakery-pastries', ' coffee-tea', ' desserts'],\n",
       "  'name': 'Chokolat Patisserie',\n",
       "  'price': 1},\n",
       " {'cuisines': ['deli', ' sandwiches'], 'name': \"Joe's G-H Deli\", 'price': 2},\n",
       " {'cuisines': ['coffee-tea'], 'name': 'Joe the Art of Coffee', 'price': 1},\n",
       " {'cuisines': ['bakery-pastries', ' desserts'],\n",
       "  'name': 'Levain Bakery',\n",
       "  'price': 2},\n",
       " {'cuisines': ['middle-eastern', ' vegetarian'],\n",
       "  'name': 'Silvana',\n",
       "  'price': 1},\n",
       " {'cuisines': ['german', ' eclectic', ' bar-food'],\n",
       "  'name': 'Bier International',\n",
       "  'price': 1},\n",
       " {'cuisines': ['indian', ' vegetarian'], 'name': 'Vegenation', 'price': 1},\n",
       " {'cuisines': ['american-new', ' bistro'], 'name': 'Flat Top', 'price': 4},\n",
       " {'cuisines': ['coffee-tea'], 'name': 'Kuro Kuma', 'price': 1},\n",
       " {'cuisines': ['american-new'], 'name': 'Vinateria', 'price': 2},\n",
       " {'cuisines': ['chinese'], 'name': 'Henan Cart', 'price': 1},\n",
       " {'cuisines': ['japanese', ' sushi', ' thai'], 'name': 'Vine', 'price': 2},\n",
       " {'cuisines': ['mexican'], 'name': 'El Paso Truck', 'price': 1},\n",
       " {'cuisines': ['pizza', ' chicken'],\n",
       "  'name': \"Mama's Fried Chicken and Pizza\",\n",
       "  'price': 1},\n",
       " {'cuisines': ['indian'], 'name': 'Chapati House', 'price': 2},\n",
       " {'cuisines': ['american', ' localorganic'],\n",
       "  'name': 'Dig Inn Seasonal Market',\n",
       "  'price': 1},\n",
       " {'cuisines': ['chinese'], 'name': 'Uncle Luoyang', 'price': 1},\n",
       " {'cuisines': ['middle-eastern'], 'name': 'Pita Grill', 'price': 2},\n",
       " {'cuisines': ['japanese'], 'name': 'Kissaten Jin', 'price': 1},\n",
       " {'cuisines': ['coffee-tea', ' teahouses'],\n",
       "  'name': 'Serengeti Teas & Spices',\n",
       "  'price': 2},\n",
       " {'cuisines': ['seafood', ' wings', ' fish--chips'],\n",
       "  'name': 'Lighthouse Fish Market & Restaurant',\n",
       "  'price': 3},\n",
       " {'cuisines': ['seafood'], 'name': \"Lolo's Seafood Shack\", 'price': 2},\n",
       " {'cuisines': ['sandwiches', ' salads', ' teahouses'],\n",
       "  'name': 'Harmony',\n",
       "  'price': 1},\n",
       " {'cuisines': ['american', ' gastropub'],\n",
       "  'name': 'Bernheim & Schwartz',\n",
       "  'price': 2},\n",
       " {'cuisines': ['american-new'], 'name': 'BTH (By The Hudson)', 'price': 3},\n",
       " {'cuisines': [], 'name': 'Empanadas Monumental', 'price': 0},\n",
       " {'cuisines': [], 'name': \"Friedman's\", 'price': 0},\n",
       " {'cuisines': [], 'name': '176 Presbyterian Deli', 'price': 0},\n",
       " {'cuisines': [], 'name': \"Nacho Mama's\", 'price': 0},\n",
       " {'cuisines': [], 'name': 'Streetbird Rotisserie', 'price': 0},\n",
       " {'cuisines': [], 'name': 'Colum Chinese Restaurant', 'price': 0},\n",
       " {'cuisines': [], 'name': 'Flacoz Tacoz', 'price': 0},\n",
       " {'cuisines': [], 'name': 'sweetgreen', 'price': 0},\n",
       " {'cuisines': [], 'name': 'La Salle Dumpling Room', 'price': 0}]"
      ]
     },
     "execution_count": 66,
     "metadata": {},
     "output_type": "execute_result"
    }
   ],
   "source": [
    "restaurants"
   ]
  },
  {
   "cell_type": "code",
   "execution_count": null,
   "metadata": {
    "collapsed": true
   },
   "outputs": [],
   "source": []
  }
 ],
 "metadata": {
  "kernelspec": {
   "display_name": "Python 3",
   "language": "python",
   "name": "python3"
  },
  "language_info": {
   "codemirror_mode": {
    "name": "ipython",
    "version": 3
   },
   "file_extension": ".py",
   "mimetype": "text/x-python",
   "name": "python",
   "nbconvert_exporter": "python",
   "pygments_lexer": "ipython3",
   "version": "3.5.1"
  }
 },
 "nbformat": 4,
 "nbformat_minor": 0
}
