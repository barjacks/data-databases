{
 "cells": [
  {
   "cell_type": "markdown",
   "metadata": {},
   "source": [
    "# Writing web applications\n",
    "First thing we need to do is install Flas"
   ]
  },
  {
   "cell_type": "code",
   "execution_count": 1,
   "metadata": {
    "collapsed": false
   },
   "outputs": [
    {
     "name": "stdout",
     "output_type": "stream",
     "text": [
      "Collecting Flask\n",
      "  Downloading Flask-0.11.1-py2.py3-none-any.whl (80kB)\n",
      "\u001b[K    100% |████████████████████████████████| 81kB 4.6MB/s \n",
      "\u001b[?25hCollecting itsdangerous>=0.21 (from Flask)\n",
      "  Downloading itsdangerous-0.24.tar.gz (46kB)\n",
      "\u001b[K    100% |████████████████████████████████| 51kB 7.4MB/s \n",
      "\u001b[?25hCollecting click>=2.0 (from Flask)\n",
      "  Downloading click-6.6.tar.gz (283kB)\n",
      "\u001b[K    100% |████████████████████████████████| 286kB 3.3MB/s \n",
      "\u001b[?25hRequirement already satisfied (use --upgrade to upgrade): Jinja2>=2.4 in /usr/local/lib/python3.5/site-packages (from Flask)\n",
      "Collecting Werkzeug>=0.7 (from Flask)\n",
      "  Downloading Werkzeug-0.11.10-py2.py3-none-any.whl (306kB)\n",
      "\u001b[K    100% |████████████████████████████████| 307kB 3.1MB/s \n",
      "\u001b[?25hRequirement already satisfied (use --upgrade to upgrade): MarkupSafe in /usr/local/lib/python3.5/site-packages (from Jinja2>=2.4->Flask)\n",
      "Building wheels for collected packages: itsdangerous, click\n",
      "  Running setup.py bdist_wheel for itsdangerous ... \u001b[?25l-\b \bdone\n",
      "\u001b[?25h  Stored in directory: /Users/barneyjs/Library/Caches/pip/wheels/fc/a8/66/24d655233c757e178d45dea2de22a04c6d92766abfb741129a\n",
      "  Running setup.py bdist_wheel for click ... \u001b[?25l-\b \bdone\n",
      "\u001b[?25h  Stored in directory: /Users/barneyjs/Library/Caches/pip/wheels/b0/6d/8c/cf5ca1146e48bc7914748bfb1dbf3a40a440b8b4f4f0d952dd\n",
      "Successfully built itsdangerous click\n",
      "Installing collected packages: itsdangerous, click, Werkzeug, Flask\n",
      "Successfully installed Flask-0.11.1 Werkzeug-0.11.10 click-6.6 itsdangerous-0.24\n"
     ]
    }
   ],
   "source": [
    "#!pip3 install Flask"
   ]
  },
  {
   "cell_type": "code",
   "execution_count": 2,
   "metadata": {
    "collapsed": true
   },
   "outputs": [],
   "source": [
    "#FLask usually on the CMD line. COmpare the flask file\n",
    "#http://127.0.0.1:5000/hello"
   ]
  },
  {
   "cell_type": "code",
   "execution_count": 6,
   "metadata": {
    "collapsed": true
   },
   "outputs": [],
   "source": [
    "from flask import Flask\n",
    "app = Flask(__name__) #Variable interprets this as a name of the programme you are making. \n",
    "\n",
    "#This is a routing function. Whenever /hello, it runs function directly after it.\n",
    "@app.route(\"/blah\") #deperator, function that takes function as a parameter\n",
    "#here is the functionality:\n",
    "def hello():\n",
    "    return \"Hello World!\"\n",
    "\n",
    "@app.route(\"/hello\")\n",
    "#here is the functionality:\n",
    "def fun_response_yay():\n",
    "    return \"You went to path /hello! congratulations\"\n",
    "\n",
    "@app.route(\"/\")\n",
    "def index_resource():\n",
    "    return \"Welcome to the Example Server.\"\n",
    "\n",
    "\n",
    "app.run()\n"
   ]
  },
  {
   "cell_type": "code",
   "execution_count": null,
   "metadata": {
    "collapsed": true
   },
   "outputs": [],
   "source": [
    "#localhost = 127.0.0.1 they both mean the same thing. \n",
    "#Web request from the command line: curl -s http://localhost:5000/hello"
   ]
  },
  {
   "cell_type": "markdown",
   "metadata": {},
   "source": [
    "## The Query String"
   ]
  },
  {
   "cell_type": "code",
   "execution_count": null,
   "metadata": {
    "collapsed": true
   },
   "outputs": [],
   "source": [
    "#works like this: \n",
    "#    request: curl -s http://localhost:5000/reverse?word=mammoth\n",
    "#    reponse: htomman        "
   ]
  },
  {
   "cell_type": "code",
   "execution_count": 11,
   "metadata": {
    "collapsed": false
   },
   "outputs": [
    {
     "data": {
      "text/plain": [
       "'htommam'"
      ]
     },
     "execution_count": 11,
     "metadata": {},
     "output_type": "execute_result"
    }
   ],
   "source": [
    "''.join(reversed(\"mammoth\"))"
   ]
  },
  {
   "cell_type": "code",
   "execution_count": 13,
   "metadata": {
    "collapsed": false
   },
   "outputs": [
    {
     "data": {
      "text/plain": [
       "'pupils'"
      ]
     },
     "execution_count": 13,
     "metadata": {},
     "output_type": "execute_result"
    }
   ],
   "source": [
    "''.join(list(reversed(\"slipup\")))"
   ]
  },
  {
   "cell_type": "code",
   "execution_count": 20,
   "metadata": {
    "collapsed": false
   },
   "outputs": [],
   "source": [
    "from flask import Flask, request\n",
    "app = Flask(__name__) #Variable interprets this as a name of the programme you are making. \n",
    "\n",
    "\n",
    "@app.route(\"/reverse\")\n",
    "def reverser():\n",
    "    word = request.args.get('word', None) #request.args['word']\n",
    "    if word:\n",
    "        word_in_reverse = ''.join(reversed(word))\n",
    "        return word_in_reverse\n",
    "    else:\n",
    "        return \"you did not use the API correctly. Happens to us all\"\n",
    "\n",
    "app.run()\n",
    "\n",
    "#save it off, run this in the command line.\n",
    "#curl -s http://localhost:5000/reverse?word=mammoth"
   ]
  },
  {
   "cell_type": "code",
   "execution_count": 16,
   "metadata": {
    "collapsed": false
   },
   "outputs": [
    {
     "data": {
      "text/plain": [
       "0"
      ]
     },
     "execution_count": 16,
     "metadata": {},
     "output_type": "execute_result"
    }
   ],
   "source": [
    "x = {'o': 6, 'a': 4, 'd': 5}\n",
    "x.get('passionfruit', 0)"
   ]
  },
  {
   "cell_type": "code",
   "execution_count": 17,
   "metadata": {
    "collapsed": false
   },
   "outputs": [
    {
     "data": {
      "text/plain": [
       "4"
      ]
     },
     "execution_count": 17,
     "metadata": {},
     "output_type": "execute_result"
    }
   ],
   "source": [
    "x.get('a', 0)"
   ]
  },
  {
   "cell_type": "markdown",
   "metadata": {},
   "source": [
    "## A more interesting hello world"
   ]
  },
  {
   "cell_type": "code",
   "execution_count": null,
   "metadata": {
    "collapsed": true
   },
   "outputs": [],
   "source": [
    "#request: http://localhost:5000/greetings?/to_greet=galaxy\n",
    "#response: Hello, galaxy:\n",
    "\n",
    "#additionalley: choose a random greeting\n",
    "\n",
    "['hello', 'hi', 'saluations', 'howdy', 'sup', 'hey']"
   ]
  },
  {
   "cell_type": "code",
   "execution_count": 22,
   "metadata": {
    "collapsed": true
   },
   "outputs": [],
   "source": [
    "import random"
   ]
  },
  {
   "cell_type": "code",
   "execution_count": 24,
   "metadata": {
    "collapsed": false
   },
   "outputs": [
    {
     "data": {
      "text/plain": [
       "3"
      ]
     },
     "execution_count": 24,
     "metadata": {},
     "output_type": "execute_result"
    }
   ],
   "source": [
    "random.randrange(1,7)  #dice\n"
   ]
  },
  {
   "cell_type": "code",
   "execution_count": 25,
   "metadata": {
    "collapsed": false
   },
   "outputs": [
    {
     "data": {
      "text/plain": [
       "5"
      ]
     },
     "execution_count": 25,
     "metadata": {},
     "output_type": "execute_result"
    }
   ],
   "source": [
    "random.randrange(1,21)"
   ]
  },
  {
   "cell_type": "code",
   "execution_count": 26,
   "metadata": {
    "collapsed": false
   },
   "outputs": [
    {
     "data": {
      "text/plain": [
       "0.00019432703416988328"
      ]
     },
     "execution_count": 26,
     "metadata": {},
     "output_type": "execute_result"
    }
   ],
   "source": [
    "random.uniform(0, 1)"
   ]
  },
  {
   "cell_type": "code",
   "execution_count": 27,
   "metadata": {
    "collapsed": false
   },
   "outputs": [
    {
     "data": {
      "text/plain": [
       "'hi'"
      ]
     },
     "execution_count": 27,
     "metadata": {},
     "output_type": "execute_result"
    }
   ],
   "source": [
    "random.choice(['hello', 'hi', 'saluations', 'howdy', 'sup', 'hey'])"
   ]
  },
  {
   "cell_type": "code",
   "execution_count": 2,
   "metadata": {
    "collapsed": true
   },
   "outputs": [],
   "source": [
    "#Using random\n",
    "\n",
    "from flask import Flask\n",
    "import random\n",
    "\n",
    "app = Flask(__name__)\n",
    "\n",
    "greets = [\"Hello\", \"Hi\", \"Salutations\", \"Greetings\", \"Hey\", \"Sup\"]\n",
    "places = [\"region\", \"continent\", \"world\", \"solar system\", \"galaxy\"]\n",
    "\n",
    "@app.route('/hello')\n",
    "def hello():\n",
    "    greeting = random.choice(greets) + \", \" + random.choice(places)\n",
    "    return greeting + \"\\n\"\n",
    "\n",
    "if __name__ == '__main__':\n",
    "    app.run()"
   ]
  },
  {
   "cell_type": "code",
   "execution_count": 6,
   "metadata": {
    "collapsed": true
   },
   "outputs": [],
   "source": [
    "#Adding html TAGs\n",
    "\n",
    "from flask import Flask, request\n",
    "import random\n",
    "app = Flask(__name__)\n",
    "\n",
    "greets = [\"Hello\", \"Hi\", \"Salutations\", \"Greetings\", \"Hey\", \"Sup\"]\n",
    "places = [\"region\", \"continent\", \"world\", \"solar system\", \"galaxy\"]\n",
    "\n",
    "@app.route('/greeting')\n",
    "def hello():\n",
    "    greeting = random.choice(greets) + \", \" + random.choice(places)\n",
    "    return \"<html><h1>Welcome to Greet-O-Tron 2K15</h1>\" + \\\n",
    "        \"<h2>Your Greeting Is...</h2>\" + \\\n",
    "        \"<tt>\" + greeting + \"</tt>\";\n",
    "        \n",
    "app.run()\n",
    "# In command line: #curl -s http://localhost:5000/greeting"
   ]
  },
  {
   "cell_type": "markdown",
   "metadata": {},
   "source": [
    "# Introducing Templates"
   ]
  },
  {
   "cell_type": "code",
   "execution_count": 7,
   "metadata": {
    "collapsed": false
   },
   "outputs": [
    {
     "name": "stdout",
     "output_type": "stream",
     "text": [
      "country_lookup.html       simplify_home.html\r\n",
      "greeting.html             simplify_transformed.html\r\n"
     ]
    }
   ],
   "source": [
    "!ls templates"
   ]
  },
  {
   "cell_type": "code",
   "execution_count": 1,
   "metadata": {
    "collapsed": false
   },
   "outputs": [],
   "source": [
    "from flask import Flask, request, render_template\n",
    "import random\n",
    "app = Flask(__name__)\n",
    "\n",
    "greets = [\"Hello\", \"Hi\", \"Salutations\", \"Greetings\", \"Hey\", \"Sup\"]\n",
    "places = [\"region\", \"continent\", \"world\", \"solar system\", \"galaxy\", \"local cluster, universe\"]\n",
    "\n",
    "@app.route('/greeting')\n",
    "def greet_generator():\n",
    "    x = random.choice(greets)\n",
    "    y = random.choice(places)\n",
    "    greeting = random.choice(greets) + \" \" + random.choice(places)\n",
    "    return render_template(\"greeting.html\", greet=x, place=y)\n",
    "        \n",
    "app.run()\n",
    "#http://localhost:5000/greeting"
   ]
  },
  {
   "cell_type": "markdown",
   "metadata": {
    "collapsed": true
   },
   "source": [
    "# Simple query example, shortening service"
   ]
  },
  {
   "cell_type": "code",
   "execution_count": 2,
   "metadata": {
    "collapsed": true
   },
   "outputs": [],
   "source": [
    "from flask import Flask, request, render_template\n",
    "\n",
    "app = Flask(__name__)\n",
    "\n",
    "@app.route('/')\n",
    "def display_query():\n",
    "    return render_template(\"simplify_home.html\")\n",
    "\n",
    "@app.route('/transformed', methods=[\"POST\"])\n",
    "def transformed():\n",
    "    text = request.form['text']\n",
    "    words = [w for w in text.split() if len(w) <= 5]\n",
    "    return render_template(\"simplify_transformed.html\", output=' '.join(words))\n",
    "\n",
    "app.run()"
   ]
  },
  {
   "cell_type": "markdown",
   "metadata": {},
   "source": [
    "# Country information database"
   ]
  },
  {
   "cell_type": "code",
   "execution_count": null,
   "metadata": {
    "collapsed": true
   },
   "outputs": [],
   "source": [
    "#curl http://localhost:5000/countries?lookup_name=France"
   ]
  },
  {
   "cell_type": "code",
   "execution_count": 3,
   "metadata": {
    "collapsed": false
   },
   "outputs": [
    {
     "name": "stderr",
     "output_type": "stream",
     "text": [
      "[2016-06-30 15:20:04,444] ERROR in app: Exception on /countries [GET]\n",
      "Traceback (most recent call last):\n",
      "  File \"/usr/local/lib/python3.5/site-packages/flask/app.py\", line 1988, in wsgi_app\n",
      "    response = self.full_dispatch_request()\n",
      "  File \"/usr/local/lib/python3.5/site-packages/flask/app.py\", line 1641, in full_dispatch_request\n",
      "    rv = self.handle_user_exception(e)\n",
      "  File \"/usr/local/lib/python3.5/site-packages/flask/app.py\", line 1544, in handle_user_exception\n",
      "    reraise(exc_type, exc_value, tb)\n",
      "  File \"/usr/local/lib/python3.5/site-packages/flask/_compat.py\", line 33, in reraise\n",
      "    raise value\n",
      "  File \"/usr/local/lib/python3.5/site-packages/flask/app.py\", line 1639, in full_dispatch_request\n",
      "    rv = self.dispatch_request()\n",
      "  File \"/usr/local/lib/python3.5/site-packages/flask/app.py\", line 1625, in dispatch_request\n",
      "    return self.view_functions[rule.endpoint](**req.view_args)\n",
      "  File \"<ipython-input-3-a0affb6435d5>\", line 24, in country_info\n",
      "    return render_template('country_lookup.html', country=cinfo)\n",
      "NameError: name 'render_template' is not defined\n"
     ]
    }
   ],
   "source": [
    "from flask import Flask, request\n",
    "import pg8000\n",
    "\n",
    "app = Flask(__name__)\n",
    "conn = pg8000.connect(database=\"mondial\")\n",
    "\n",
    "@app.route(\"/countries\")\n",
    "def country_info():\n",
    "    cname = request.args['lookup_name']\n",
    "    #perform a database search\n",
    "    cursor = conn.cursor()\n",
    "    cursor.execute(\"SELECT name, capital, population FROM country WHERE name = %s\",\n",
    "                       [request.args['lookup_name']])\n",
    "    response = cursor.fetchone()\n",
    "    cinfo = {\n",
    "        'name': response[0],\n",
    "        'capital': response[1],\n",
    "        'population': response[2]\n",
    "    }\n",
    "    #output = response[0] + \", \" + response[1] + \", \" + str(response[2])\n",
    "    #format results as text (html)\n",
    "    #return that text \n",
    "    #return output\n",
    "    return render_template('country_lookup.html', country=cinfo)\n",
    "\n",
    "app.run()"
   ]
  },
  {
   "cell_type": "code",
   "execution_count": 4,
   "metadata": {
    "collapsed": false
   },
   "outputs": [
    {
     "name": "stderr",
     "output_type": "stream",
     "text": [
      "[2016-06-30 15:21:38,180] ERROR in app: Exception on / [GET]\n",
      "Traceback (most recent call last):\n",
      "  File \"/usr/local/lib/python3.5/site-packages/flask/app.py\", line 1988, in wsgi_app\n",
      "    response = self.full_dispatch_request()\n",
      "  File \"/usr/local/lib/python3.5/site-packages/flask/app.py\", line 1641, in full_dispatch_request\n",
      "    rv = self.handle_user_exception(e)\n",
      "  File \"/usr/local/lib/python3.5/site-packages/flask/app.py\", line 1544, in handle_user_exception\n",
      "    reraise(exc_type, exc_value, tb)\n",
      "  File \"/usr/local/lib/python3.5/site-packages/flask/_compat.py\", line 33, in reraise\n",
      "    raise value\n",
      "  File \"/usr/local/lib/python3.5/site-packages/flask/app.py\", line 1639, in full_dispatch_request\n",
      "    rv = self.dispatch_request()\n",
      "  File \"/usr/local/lib/python3.5/site-packages/flask/app.py\", line 1625, in dispatch_request\n",
      "    return self.view_functions[rule.endpoint](**req.view_args)\n",
      "  File \"<ipython-input-4-b142df5d0463>\", line 23, in lookup\n",
      "    return render_template('country_lookup.html', country=country_info)\n",
      "NameError: name 'render_template' is not defined\n"
     ]
    }
   ],
   "source": [
    "from flask import Flask, request\n",
    "import pg8000\n",
    "\n",
    "app = Flask(__name__)\n",
    "\n",
    "# you may need to include extra authorization details here...\n",
    "conn = pg8000.connect(database=\"mondial\")\n",
    "\n",
    "@app.route(\"/\")\n",
    "def lookup():\n",
    "    country_info = None\n",
    "    if 'lookup_name' in request.args:\n",
    "        cursor = conn.cursor()\n",
    "        cursor.execute(\"SELECT name, capital, population FROM country WHERE name = %s\",\n",
    "                       [request.args['lookup_name']])\n",
    "        response = cursor.fetchone()\n",
    "        if response:\n",
    "            country_info = {\n",
    "                'name': response[0],\n",
    "                'capital': response[1],\n",
    "                'population': response[2]\n",
    "            }\n",
    "    return render_template('country_lookup.html', country=country_info)\n",
    "\n",
    "app.run()"
   ]
  },
  {
   "cell_type": "code",
   "execution_count": null,
   "metadata": {
    "collapsed": true
   },
   "outputs": [],
   "source": [
    "#http://localhost:5000/countries\n",
    "#for two "
   ]
  },
  {
   "cell_type": "code",
   "execution_count": 5,
   "metadata": {
    "collapsed": false
   },
   "outputs": [
    {
     "name": "stderr",
     "output_type": "stream",
     "text": [
      "[2016-06-30 15:22:24,297] ERROR in app: Exception on / [GET]\n",
      "Traceback (most recent call last):\n",
      "  File \"/usr/local/lib/python3.5/site-packages/flask/app.py\", line 1988, in wsgi_app\n",
      "    response = self.full_dispatch_request()\n",
      "  File \"/usr/local/lib/python3.5/site-packages/flask/app.py\", line 1641, in full_dispatch_request\n",
      "    rv = self.handle_user_exception(e)\n",
      "  File \"/usr/local/lib/python3.5/site-packages/flask/app.py\", line 1544, in handle_user_exception\n",
      "    reraise(exc_type, exc_value, tb)\n",
      "  File \"/usr/local/lib/python3.5/site-packages/flask/_compat.py\", line 33, in reraise\n",
      "    raise value\n",
      "  File \"/usr/local/lib/python3.5/site-packages/flask/app.py\", line 1639, in full_dispatch_request\n",
      "    rv = self.dispatch_request()\n",
      "  File \"/usr/local/lib/python3.5/site-packages/flask/app.py\", line 1625, in dispatch_request\n",
      "    return self.view_functions[rule.endpoint](**req.view_args)\n",
      "  File \"<ipython-input-5-43e34757379a>\", line 25, in lookup\n",
      "    return render_template('country_lookup.html', country=country_info)\n",
      "NameError: name 'render_template' is not defined\n"
     ]
    }
   ],
   "source": [
    "from flask import Flask, request\n",
    "import pg8000\n",
    "\n",
    "app = Flask(__name__)\n",
    "\n",
    "\n",
    "conn = pg8000.connect(database=\"mondial\")\n",
    "\n",
    "@app.route(\"/\")\n",
    "def lookup():\n",
    "    country_info = None\n",
    "    #this is different from the former example. Just a new variable created. \n",
    "    cname = request.args.get('lookup_name', None)\n",
    "    if 'lookup_name' in request.args:\n",
    "        cursor = conn.cursor()\n",
    "        cursor.execute(\"SELECT name, capital, population FROM country WHERE name = %s\",\n",
    "                       [cname])\n",
    "        response = cursor.fetchone()\n",
    "        if response:\n",
    "            country_info = {\n",
    "                'name': response[0],\n",
    "                'capital': response[1],\n",
    "                'population': response[2]\n",
    "            }\n",
    "    return render_template('country_lookup.html', country=country_info)\n",
    "\n",
    "app.run()"
   ]
  },
  {
   "cell_type": "markdown",
   "metadata": {},
   "source": [
    "# API version"
   ]
  },
  {
   "cell_type": "code",
   "execution_count": 6,
   "metadata": {
    "collapsed": false
   },
   "outputs": [],
   "source": [
    "from flask import Flask, request, jsonify\n",
    "import pg8000\n",
    "\n",
    "app = Flask(__name__)\n",
    "\n",
    "\n",
    "conn = pg8000.connect(database=\"mondial\")\n",
    "\n",
    "@app.route(\"/\")\n",
    "def lookup():\n",
    "    country_info = None\n",
    "    #this is different from the former example. Just a new variable created. \n",
    "    cname = request.args.get('lookup_name', None)\n",
    "    if 'lookup_name' in request.args:\n",
    "        cursor = conn.cursor()\n",
    "        cursor.execute(\"SELECT name, capital, population FROM country WHERE name = %s\",\n",
    "                       [cname])\n",
    "        response = cursor.fetchone()\n",
    "        if response:\n",
    "            country_info = {\n",
    "                'name': response[0],\n",
    "                'capital': response[1],\n",
    "                'population': int(response[2])\n",
    "            }\n",
    "    return jsonify(country_info)\n",
    "\n",
    "app.run()"
   ]
  },
  {
   "cell_type": "markdown",
   "metadata": {},
   "source": [
    "# Now for all the countries\n",
    "Expected output:"
   ]
  },
  {
   "cell_type": "code",
   "execution_count": null,
   "metadata": {
    "collapsed": true
   },
   "outputs": [],
   "source": [
    "# [\n",
    "#        {'name': 'Albania', capital: 'Tirana', 'population': 700000}\n",
    "#       {'name': ...}\n",
    "#]"
   ]
  },
  {
   "cell_type": "code",
   "execution_count": 7,
   "metadata": {
    "collapsed": true
   },
   "outputs": [],
   "source": [
    "\n",
    "from flask import Flask, jsonify\n",
    "import pg8000\n",
    "\n",
    "app = Flask(__name__)\n",
    "conn = pg8000.connect(database=\"mondial\")\n",
    "\n",
    "@app.route(\"/countries\")\n",
    "def get_countries():\n",
    "    cursor = conn.cursor()\n",
    "    cursor.execute(\"SELECT name, capital, area, population FROM country ORDER BY name\")\n",
    "    output = []\n",
    "    for item in cursor.fetchall():\n",
    "        output.append({'name': item[0],\n",
    "                       'capital': item[1],\n",
    "                       'area': int(item[2]),\n",
    "                       'population': int(item[3])})\n",
    "    return jsonify(output)\n",
    "\n",
    "app.run()\n",
    "#http://localhost:5000/countries"
   ]
  },
  {
   "cell_type": "markdown",
   "metadata": {},
   "source": [
    "# Specifiy the output"
   ]
  },
  {
   "cell_type": "code",
   "execution_count": 3,
   "metadata": {
    "collapsed": false
   },
   "outputs": [],
   "source": [
    "from flask import Flask, jsonify, request\n",
    "import pg8000\n",
    "\n",
    "app = Flask(__name__)\n",
    "conn = pg8000.connect(database=\"mondial\")\n",
    "\n",
    "@app.route(\"/countries\")\n",
    "def get_countries():\n",
    "    cursor = conn.cursor()\n",
    "    pop_gt = int(request.args.get('population_gt', 0))\n",
    "    cursor.execute(\n",
    "        \"\"\"SELECT name, capital, area, population\n",
    "        FROM country\n",
    "        WHERE population >= %s\n",
    "        ORDER BY name\"\"\",\n",
    "        [pop_gt])\n",
    "    output = []\n",
    "    for item in cursor.fetchall():\n",
    "        output.append({'name': item[0],\n",
    "                       'capital': item[1],\n",
    "                       'area': int(item[2]),\n",
    "                       'population': int(item[3])})\n",
    "    return jsonify(output)\n",
    "\n",
    "app.run()\n",
    "#s"
   ]
  },
  {
   "cell_type": "code",
   "execution_count": null,
   "metadata": {
    "collapsed": true
   },
   "outputs": [],
   "source": []
  },
  {
   "cell_type": "code",
   "execution_count": null,
   "metadata": {
    "collapsed": true
   },
   "outputs": [],
   "source": []
  }
 ],
 "metadata": {
  "kernelspec": {
   "display_name": "Python 3",
   "language": "python",
   "name": "python3"
  },
  "language_info": {
   "codemirror_mode": {
    "name": "ipython",
    "version": 3
   },
   "file_extension": ".py",
   "mimetype": "text/x-python",
   "name": "python",
   "nbconvert_exporter": "python",
   "pygments_lexer": "ipython3",
   "version": "3.5.1"
  }
 },
 "nbformat": 4,
 "nbformat_minor": 0
}
